{
 "cells": [
  {
   "cell_type": "markdown",
   "metadata": {
    "collapsed": true,
    "jupyter": {
     "outputs_hidden": true
    }
   },
   "source": [
    "# Introducción a la Programación para Ciencia de Datos\n",
    "## Lenguaje de programación R\n",
    "_Rocío Romero Zaliz_ - rocio@decsai.ugr.es"
   ]
  },
  {
   "cell_type": "markdown",
   "metadata": {},
   "source": [
    "# Input/Output"
   ]
  },
  {
   "cell_type": "markdown",
   "metadata": {
    "slideshow": {
     "slide_type": "slide"
    }
   },
   "source": [
    "Supongamos que tenemos un fichero con este contenido:\n",
    "\n",
    ">12  \n",
    "2 5  \n",
    "641"
   ]
  },
  {
   "cell_type": "code",
   "execution_count": 3,
   "metadata": {
    "vscode": {
     "languageId": "r"
    }
   },
   "outputs": [
    {
     "name": "stdout",
     "output_type": "stream",
     "text": [
      "[1]  12   2   5 641\n"
     ]
    }
   ],
   "source": [
    "datos <- scan(\"file.txt\")\n",
    "print(datos)"
   ]
  },
  {
   "cell_type": "code",
   "execution_count": 4,
   "metadata": {
    "vscode": {
     "languageId": "r"
    }
   },
   "outputs": [
    {
     "data": {
      "text/html": [
       "'numeric'"
      ],
      "text/latex": [
       "'numeric'"
      ],
      "text/markdown": [
       "'numeric'"
      ],
      "text/plain": [
       "[1] \"numeric\""
      ]
     },
     "metadata": {},
     "output_type": "display_data"
    }
   ],
   "source": [
    "class(datos)"
   ]
  },
  {
   "cell_type": "code",
   "execution_count": 5,
   "metadata": {
    "vscode": {
     "languageId": "r"
    }
   },
   "outputs": [
    {
     "name": "stdout",
     "output_type": "stream",
     "text": [
      "[1] \"12\"  \"2\"   \"5\"   \"641\"\n"
     ]
    },
    {
     "data": {
      "text/html": [
       "'character'"
      ],
      "text/latex": [
       "'character'"
      ],
      "text/markdown": [
       "'character'"
      ],
      "text/plain": [
       "[1] \"character\""
      ]
     },
     "metadata": {},
     "output_type": "display_data"
    }
   ],
   "source": [
    "datos <- scan(\"file.txt\", what=character())\n",
    "print(datos)\n",
    "class(datos)"
   ]
  },
  {
   "cell_type": "code",
   "execution_count": 8,
   "metadata": {
    "vscode": {
     "languageId": "r"
    }
   },
   "outputs": [
    {
     "name": "stdout",
     "output_type": "stream",
     "text": [
      "[1]  12  25 641\n"
     ]
    }
   ],
   "source": [
    "datos <- scan(\"file.txt\", sep=\"\\n\")\n",
    "print(datos)"
   ]
  },
  {
   "cell_type": "markdown",
   "metadata": {},
   "source": [
    "Podemos usar `scan` para leer desde el teclado si le damos de argumento de entrada una cadena de caracters vacía.\n",
    "\n",
    "scan(\"\")  \n",
    "1: 23 4  \n",
    "3: 2  \n",
    "4:   \n",
    "[1] 23  4  2\n",
    "\n",
    "Marcamos con una línea vacía el final de la lectura de datos."
   ]
  },
  {
   "cell_type": "code",
   "execution_count": null,
   "metadata": {
    "vscode": {
     "languageId": "r"
    }
   },
   "outputs": [],
   "source": [
    "scan(\"\") # Does not work in Jupyter"
   ]
  },
  {
   "cell_type": "markdown",
   "metadata": {},
   "source": [
    "If you want to read in a single line from the keyboard use `readline`:\n",
    "\n",
    ">readline(\"Input data: \")  \n",
    "Input data: 23 4 2  \n",
    "[1] 23  4  2"
   ]
  },
  {
   "cell_type": "code",
   "execution_count": null,
   "metadata": {
    "vscode": {
     "languageId": "r"
    }
   },
   "outputs": [],
   "source": [
    "datos <- readline(\"Input data: \") # Does not work in Jupyter\n",
    "print(datos)"
   ]
  },
  {
   "cell_type": "code",
   "execution_count": 9,
   "metadata": {
    "vscode": {
     "languageId": "r"
    }
   },
   "outputs": [
    {
     "name": "stderr",
     "output_type": "stream",
     "text": [
      "── \u001b[1mAttaching core tidyverse packages\u001b[22m ──────────────────────── tidyverse 2.0.0 ──\n",
      "\u001b[32m✔\u001b[39m \u001b[34mdplyr    \u001b[39m 1.1.4     \u001b[32m✔\u001b[39m \u001b[34mreadr    \u001b[39m 2.1.5\n",
      "\u001b[32m✔\u001b[39m \u001b[34mforcats  \u001b[39m 1.0.1     \u001b[32m✔\u001b[39m \u001b[34mstringr  \u001b[39m 1.5.2\n",
      "\u001b[32m✔\u001b[39m \u001b[34mggplot2  \u001b[39m 4.0.0     \u001b[32m✔\u001b[39m \u001b[34mtibble   \u001b[39m 3.3.0\n",
      "\u001b[32m✔\u001b[39m \u001b[34mlubridate\u001b[39m 1.9.4     \u001b[32m✔\u001b[39m \u001b[34mtidyr    \u001b[39m 1.3.1\n",
      "\u001b[32m✔\u001b[39m \u001b[34mpurrr    \u001b[39m 1.1.0     \n",
      "── \u001b[1mConflicts\u001b[22m ────────────────────────────────────────── tidyverse_conflicts() ──\n",
      "\u001b[31m✖\u001b[39m \u001b[34mdplyr\u001b[39m::\u001b[32mfilter()\u001b[39m masks \u001b[34mstats\u001b[39m::filter()\n",
      "\u001b[31m✖\u001b[39m \u001b[34mdplyr\u001b[39m::\u001b[32mlag()\u001b[39m    masks \u001b[34mstats\u001b[39m::lag()\n",
      "\u001b[36mℹ\u001b[39m Use the conflicted package (\u001b[3m\u001b[34m<http://conflicted.r-lib.org/>\u001b[39m\u001b[23m) to force all conflicts to become errors\n"
     ]
    }
   ],
   "source": [
    "library(tidyverse)"
   ]
  },
  {
   "cell_type": "code",
   "execution_count": 10,
   "metadata": {
    "vscode": {
     "languageId": "r"
    }
   },
   "outputs": [
    {
     "name": "stdout",
     "output_type": "stream",
     "text": [
      "[1]  12  25 641\n"
     ]
    },
    {
     "data": {
      "text/html": [
       "<style>\n",
       ".list-inline {list-style: none; margin:0; padding: 0}\n",
       ".list-inline>li {display: inline-block}\n",
       ".list-inline>li:not(:last-child)::after {content: \"\\00b7\"; padding: 0 .5ex}\n",
       "</style>\n",
       "<ol class=list-inline><li>12</li><li>25</li><li>641</li></ol>\n"
      ],
      "text/latex": [
       "\\begin{enumerate*}\n",
       "\\item 12\n",
       "\\item 25\n",
       "\\item 641\n",
       "\\end{enumerate*}\n"
      ],
      "text/markdown": [
       "1. 12\n",
       "2. 25\n",
       "3. 641\n",
       "\n",
       "\n"
      ],
      "text/plain": [
       "[1]  12  25 641"
      ]
     },
     "metadata": {},
     "output_type": "display_data"
    }
   ],
   "source": [
    "print(datos)\n",
    "datos %>% str_split(\" \") %>% unlist %>% as.numeric"
   ]
  },
  {
   "cell_type": "markdown",
   "metadata": {},
   "source": [
    "### `cat` vs. `print`"
   ]
  },
  {
   "cell_type": "code",
   "execution_count": 16,
   "metadata": {
    "vscode": {
     "languageId": "r"
    }
   },
   "outputs": [
    {
     "name": "stdout",
     "output_type": "stream",
     "text": [
      "[1] 1 4 9\n",
      "1 4 9"
     ]
    }
   ],
   "source": [
    "x <- 1:3\n",
    "print(x^2)\n",
    "cat(x^2)"
   ]
  },
  {
   "cell_type": "code",
   "execution_count": 12,
   "metadata": {
    "vscode": {
     "languageId": "r"
    }
   },
   "outputs": [
    {
     "name": "stdout",
     "output_type": "stream",
     "text": [
      "1 4 9 1 2 3 hola"
     ]
    }
   ],
   "source": [
    "cat(x^2, x, \"hola\")"
   ]
  },
  {
   "cell_type": "code",
   "execution_count": 13,
   "metadata": {
    "vscode": {
     "languageId": "r"
    }
   },
   "outputs": [
    {
     "name": "stdout",
     "output_type": "stream",
     "text": [
      "[1] \"hola\"\n",
      "[1] \"hola\"\n"
     ]
    }
   ],
   "source": [
    "vb <- print(\"hola\")\n",
    "print(vb)"
   ]
  },
  {
   "cell_type": "code",
   "execution_count": 17,
   "metadata": {
    "vscode": {
     "languageId": "r"
    }
   },
   "outputs": [
    {
     "name": "stdout",
     "output_type": "stream",
     "text": [
      "hola"
     ]
    },
    {
     "data": {
      "text/plain": [
       "NULL"
      ]
     },
     "metadata": {},
     "output_type": "display_data"
    }
   ],
   "source": [
    "vb <- cat(\"hola\")\n",
    "vb"
   ]
  },
  {
   "cell_type": "code",
   "execution_count": 18,
   "metadata": {
    "vscode": {
     "languageId": "r"
    }
   },
   "outputs": [
    {
     "name": "stdout",
     "output_type": "stream",
     "text": [
      "     [,1] [,2]\n",
      "[1,]    1    3\n",
      "[2,]    5    8\n",
      "1 5 3 8"
     ]
    }
   ],
   "source": [
    "print(matrix(c(1,5,3,8), nrow = 2))\n",
    "\n",
    "cat(matrix(c(1,5,3,8), nrow = 2))"
   ]
  },
  {
   "cell_type": "code",
   "execution_count": 19,
   "metadata": {
    "vscode": {
     "languageId": "r"
    }
   },
   "outputs": [
    {
     "name": "stdout",
     "output_type": "stream",
     "text": [
      "1_4_9_1_2_3_hola"
     ]
    }
   ],
   "source": [
    "cat(x^2, x, \"hola\", sep=\"_\")"
   ]
  },
  {
   "cell_type": "markdown",
   "metadata": {},
   "source": [
    "### Leyendo y escribiendo ficheros\n",
    "\n",
    "Supongamos que tenemos un fichero \"matrix.txt\" con el siguiente contenido:\n",
    "\n",
    "> nombre edad  \n",
    "John 25  \n",
    "Mary 28  \n",
    "Jim 19\n",
    "\n",
    "La primera línea contiene una cabecera (opcional) que indica los nombres de las columnas."
   ]
  },
  {
   "cell_type": "code",
   "execution_count": 20,
   "metadata": {
    "vscode": {
     "languageId": "r"
    }
   },
   "outputs": [
    {
     "data": {
      "text/html": [
       "<table class=\"dataframe\">\n",
       "<caption>A data.frame: 3 × 2</caption>\n",
       "<thead>\n",
       "\t<tr><th scope=col>nombre</th><th scope=col>edad</th></tr>\n",
       "\t<tr><th scope=col>&lt;chr&gt;</th><th scope=col>&lt;int&gt;</th></tr>\n",
       "</thead>\n",
       "<tbody>\n",
       "\t<tr><td>John</td><td>25</td></tr>\n",
       "\t<tr><td>Mary</td><td>28</td></tr>\n",
       "\t<tr><td>Jim </td><td>19</td></tr>\n",
       "</tbody>\n",
       "</table>\n"
      ],
      "text/latex": [
       "A data.frame: 3 × 2\n",
       "\\begin{tabular}{ll}\n",
       " nombre & edad\\\\\n",
       " <chr> & <int>\\\\\n",
       "\\hline\n",
       "\t John & 25\\\\\n",
       "\t Mary & 28\\\\\n",
       "\t Jim  & 19\\\\\n",
       "\\end{tabular}\n"
      ],
      "text/markdown": [
       "\n",
       "A data.frame: 3 × 2\n",
       "\n",
       "| nombre &lt;chr&gt; | edad &lt;int&gt; |\n",
       "|---|---|\n",
       "| John | 25 |\n",
       "| Mary | 28 |\n",
       "| Jim  | 19 |\n",
       "\n"
      ],
      "text/plain": [
       "  nombre edad\n",
       "1 John   25  \n",
       "2 Mary   28  \n",
       "3 Jim    19  "
      ]
     },
     "metadata": {},
     "output_type": "display_data"
    }
   ],
   "source": [
    "data <- read.table(\"matrix.txt\", header=TRUE)\n",
    "data"
   ]
  },
  {
   "cell_type": "code",
   "execution_count": 22,
   "metadata": {
    "vscode": {
     "languageId": "r"
    }
   },
   "outputs": [
    {
     "data": {
      "text/html": [
       "<table class=\"dataframe\">\n",
       "<caption>A data.frame: 4 × 2</caption>\n",
       "<thead>\n",
       "\t<tr><th scope=col>V1</th><th scope=col>V2</th></tr>\n",
       "\t<tr><th scope=col>&lt;chr&gt;</th><th scope=col>&lt;chr&gt;</th></tr>\n",
       "</thead>\n",
       "<tbody>\n",
       "\t<tr><td>nombre</td><td>edad</td></tr>\n",
       "\t<tr><td>John  </td><td>25  </td></tr>\n",
       "\t<tr><td>Mary  </td><td>28  </td></tr>\n",
       "\t<tr><td>Jim   </td><td>19  </td></tr>\n",
       "</tbody>\n",
       "</table>\n"
      ],
      "text/latex": [
       "A data.frame: 4 × 2\n",
       "\\begin{tabular}{ll}\n",
       " V1 & V2\\\\\n",
       " <chr> & <chr>\\\\\n",
       "\\hline\n",
       "\t nombre & edad\\\\\n",
       "\t John   & 25  \\\\\n",
       "\t Mary   & 28  \\\\\n",
       "\t Jim    & 19  \\\\\n",
       "\\end{tabular}\n"
      ],
      "text/markdown": [
       "\n",
       "A data.frame: 4 × 2\n",
       "\n",
       "| V1 &lt;chr&gt; | V2 &lt;chr&gt; |\n",
       "|---|---|\n",
       "| nombre | edad |\n",
       "| John   | 25   |\n",
       "| Mary   | 28   |\n",
       "| Jim    | 19   |\n",
       "\n"
      ],
      "text/plain": [
       "  V1     V2  \n",
       "1 nombre edad\n",
       "2 John   25  \n",
       "3 Mary   28  \n",
       "4 Jim    19  "
      ]
     },
     "metadata": {},
     "output_type": "display_data"
    }
   ],
   "source": [
    "data <- read.table(\"matrix.txt\", header=FALSE)\n",
    "data"
   ]
  },
  {
   "cell_type": "code",
   "execution_count": null,
   "metadata": {
    "vscode": {
     "languageId": "r"
    }
   },
   "outputs": [],
   "source": [
    "?read.table"
   ]
  },
  {
   "cell_type": "code",
   "execution_count": 23,
   "metadata": {
    "vscode": {
     "languageId": "r"
    }
   },
   "outputs": [
    {
     "data": {
      "text/html": [
       "<style>\n",
       ".list-inline {list-style: none; margin:0; padding: 0}\n",
       ".list-inline>li {display: inline-block}\n",
       ".list-inline>li:not(:last-child)::after {content: \"\\00b7\"; padding: 0 .5ex}\n",
       "</style>\n",
       "<ol class=list-inline><li>'nombre'</li><li>'edad'</li><li>'John'</li><li>'25'</li><li>'Mary'</li><li>'28'</li><li>'Jim'</li><li>'19'</li></ol>\n"
      ],
      "text/latex": [
       "\\begin{enumerate*}\n",
       "\\item 'nombre'\n",
       "\\item 'edad'\n",
       "\\item 'John'\n",
       "\\item '25'\n",
       "\\item 'Mary'\n",
       "\\item '28'\n",
       "\\item 'Jim'\n",
       "\\item '19'\n",
       "\\end{enumerate*}\n"
      ],
      "text/markdown": [
       "1. 'nombre'\n",
       "2. 'edad'\n",
       "3. 'John'\n",
       "4. '25'\n",
       "5. 'Mary'\n",
       "6. '28'\n",
       "7. 'Jim'\n",
       "8. '19'\n",
       "\n",
       "\n"
      ],
      "text/plain": [
       "[1] \"nombre\" \"edad\"   \"John\"   \"25\"     \"Mary\"   \"28\"     \"Jim\"    \"19\"    "
      ]
     },
     "metadata": {},
     "output_type": "display_data"
    }
   ],
   "source": [
    "scan(\"matrix.txt\", what=character())"
   ]
  },
  {
   "cell_type": "markdown",
   "metadata": {},
   "source": [
    "Si queremos escribir en lugar de leer cambiamos el `read.table` por el `write.table`."
   ]
  },
  {
   "cell_type": "code",
   "execution_count": 24,
   "metadata": {
    "vscode": {
     "languageId": "r"
    }
   },
   "outputs": [],
   "source": [
    "write.table(matrix(1:6, nrow=2), \"output1.txt\", row.names=TRUE, col.names=TRUE)"
   ]
  },
  {
   "cell_type": "code",
   "execution_count": 25,
   "metadata": {
    "vscode": {
     "languageId": "r"
    }
   },
   "outputs": [],
   "source": [
    "write.table(matrix(1:6, nrow=2), \"output2.txt\", row.names=FALSE, col.names=FALSE)"
   ]
  },
  {
   "cell_type": "markdown",
   "metadata": {},
   "source": [
    "La función `cat` también puede ser usada para escribir en un fichero..."
   ]
  },
  {
   "cell_type": "code",
   "execution_count": 26,
   "metadata": {
    "vscode": {
     "languageId": "r"
    }
   },
   "outputs": [],
   "source": [
    "cat(\"abc\\n\", file=\"u.txt\")\n",
    "cat(\"de\\n\", file=\"u.txt\", append=TRUE)"
   ]
  },
  {
   "cell_type": "code",
   "execution_count": 27,
   "metadata": {
    "vscode": {
     "languageId": "r"
    }
   },
   "outputs": [
    {
     "data": {
      "text/html": [
       "<table class=\"dataframe\">\n",
       "<caption>A data.frame: 3 × 1</caption>\n",
       "<thead>\n",
       "\t<tr><th scope=col>nombre.edad</th></tr>\n",
       "\t<tr><th scope=col>&lt;chr&gt;</th></tr>\n",
       "</thead>\n",
       "<tbody>\n",
       "\t<tr><td>John 25</td></tr>\n",
       "\t<tr><td>Mary 28</td></tr>\n",
       "\t<tr><td>Jim 19 </td></tr>\n",
       "</tbody>\n",
       "</table>\n"
      ],
      "text/latex": [
       "A data.frame: 3 × 1\n",
       "\\begin{tabular}{l}\n",
       " nombre.edad\\\\\n",
       " <chr>\\\\\n",
       "\\hline\n",
       "\t John 25\\\\\n",
       "\t Mary 28\\\\\n",
       "\t Jim 19 \\\\\n",
       "\\end{tabular}\n"
      ],
      "text/markdown": [
       "\n",
       "A data.frame: 3 × 1\n",
       "\n",
       "| nombre.edad &lt;chr&gt; |\n",
       "|---|\n",
       "| John 25 |\n",
       "| Mary 28 |\n",
       "| Jim 19  |\n",
       "\n"
      ],
      "text/plain": [
       "  nombre.edad\n",
       "1 John 25    \n",
       "2 Mary 28    \n",
       "3 Jim 19     "
      ]
     },
     "metadata": {},
     "output_type": "display_data"
    }
   ],
   "source": [
    "data <- read.csv(\"matrix.txt\", header=TRUE)\n",
    "data"
   ]
  },
  {
   "cell_type": "markdown",
   "metadata": {},
   "source": [
    "## Input/output en Tidyverse"
   ]
  },
  {
   "cell_type": "code",
   "execution_count": 28,
   "metadata": {
    "vscode": {
     "languageId": "r"
    }
   },
   "outputs": [],
   "source": [
    "library(tidyverse) # Necesitamos el paquete \"readr\"\n",
    "#library(readr)"
   ]
  },
  {
   "cell_type": "code",
   "execution_count": 29,
   "metadata": {
    "vscode": {
     "languageId": "r"
    }
   },
   "outputs": [
    {
     "name": "stderr",
     "output_type": "stream",
     "text": [
      "\u001b[1mRows: \u001b[22m\u001b[34m3\u001b[39m \u001b[1mColumns: \u001b[22m\u001b[34m2\u001b[39m\n",
      "\u001b[36m──\u001b[39m \u001b[1mColumn specification\u001b[22m \u001b[36m────────────────────────────────────────────────────────\u001b[39m\n",
      "\u001b[1mDelimiter:\u001b[22m \",\"\n",
      "\u001b[31mchr\u001b[39m (1): X1\n",
      "\u001b[32mdbl\u001b[39m (1): X2\n",
      "\n",
      "\u001b[36mℹ\u001b[39m Use `spec()` to retrieve the full column specification for this data.\n",
      "\u001b[36mℹ\u001b[39m Specify the column types or set `show_col_types = FALSE` to quiet this message.\n"
     ]
    },
    {
     "data": {
      "text/html": [
       "<table class=\"dataframe\">\n",
       "<caption>A spec_tbl_df: 3 × 2</caption>\n",
       "<thead>\n",
       "\t<tr><th scope=col>X1</th><th scope=col>X2</th></tr>\n",
       "\t<tr><th scope=col>&lt;chr&gt;</th><th scope=col>&lt;dbl&gt;</th></tr>\n",
       "</thead>\n",
       "<tbody>\n",
       "\t<tr><td>Joe    </td><td>20</td></tr>\n",
       "\t<tr><td>Tom    </td><td>30</td></tr>\n",
       "\t<tr><td>Hyukjin</td><td>25</td></tr>\n",
       "</tbody>\n",
       "</table>\n"
      ],
      "text/latex": [
       "A spec\\_tbl\\_df: 3 × 2\n",
       "\\begin{tabular}{ll}\n",
       " X1 & X2\\\\\n",
       " <chr> & <dbl>\\\\\n",
       "\\hline\n",
       "\t Joe     & 20\\\\\n",
       "\t Tom     & 30\\\\\n",
       "\t Hyukjin & 25\\\\\n",
       "\\end{tabular}\n"
      ],
      "text/markdown": [
       "\n",
       "A spec_tbl_df: 3 × 2\n",
       "\n",
       "| X1 &lt;chr&gt; | X2 &lt;dbl&gt; |\n",
       "|---|---|\n",
       "| Joe     | 20 |\n",
       "| Tom     | 30 |\n",
       "| Hyukjin | 25 |\n",
       "\n"
      ],
      "text/plain": [
       "  X1      X2\n",
       "1 Joe     20\n",
       "2 Tom     30\n",
       "3 Hyukjin 25"
      ]
     },
     "metadata": {},
     "output_type": "display_data"
    }
   ],
   "source": [
    "data <- read_csv(\"ages.csv\", col_names = FALSE)\n",
    "data"
   ]
  },
  {
   "cell_type": "code",
   "execution_count": 30,
   "metadata": {
    "vscode": {
     "languageId": "r"
    }
   },
   "outputs": [],
   "source": [
    "write_csv(data, \"clon_ages.csv\")"
   ]
  },
  {
   "cell_type": "code",
   "execution_count": 32,
   "metadata": {
    "vscode": {
     "languageId": "r"
    }
   },
   "outputs": [
    {
     "name": "stderr",
     "output_type": "stream",
     "text": [
      "\u001b[1m\u001b[22mNew names:\n",
      "\u001b[36m•\u001b[39m `` -> `...2`\n",
      "\u001b[36m•\u001b[39m `` -> `...3`\n",
      "\u001b[36m•\u001b[39m `` -> `...4`\n",
      "\u001b[36m•\u001b[39m `` -> `...5`\n",
      "\u001b[36m•\u001b[39m `` -> `...6`\n",
      "\u001b[36m•\u001b[39m `` -> `...7`\n",
      "\u001b[36m•\u001b[39m `` -> `...8`\n",
      "\u001b[36m•\u001b[39m `` -> `...9`\n",
      "\u001b[36m•\u001b[39m `` -> `...10`\n",
      "\u001b[36m•\u001b[39m `` -> `...11`\n",
      "\u001b[36m•\u001b[39m `` -> `...12`\n",
      "\u001b[36m•\u001b[39m `` -> `...13`\n"
     ]
    },
    {
     "data": {
      "text/html": [
       "<table class=\"dataframe\">\n",
       "<caption>A tibble: 25 × 13</caption>\n",
       "<thead>\n",
       "\t<tr><th scope=col>Tabla 1</th><th scope=col>...2</th><th scope=col>...3</th><th scope=col>...4</th><th scope=col>...5</th><th scope=col>...6</th><th scope=col>...7</th><th scope=col>...8</th><th scope=col>...9</th><th scope=col>...10</th><th scope=col>...11</th><th scope=col>...12</th><th scope=col>...13</th></tr>\n",
       "\t<tr><th scope=col>&lt;chr&gt;</th><th scope=col>&lt;dbl&gt;</th><th scope=col>&lt;dbl&gt;</th><th scope=col>&lt;chr&gt;</th><th scope=col>&lt;chr&gt;</th><th scope=col>&lt;chr&gt;</th><th scope=col>&lt;dbl&gt;</th><th scope=col>&lt;dbl&gt;</th><th scope=col>&lt;dbl&gt;</th><th scope=col>&lt;dbl&gt;</th><th scope=col>&lt;dbl&gt;</th><th scope=col>&lt;dbl&gt;</th><th scope=col>&lt;dbl&gt;</th></tr>\n",
       "</thead>\n",
       "<tbody>\n",
       "\t<tr><td>NA   </td><td>NA</td><td> NA</td><td>Nodes </td><td>Train             </td><td>Test              </td><td>2.0000</td><td>3.0000</td><td>4.0000</td><td>5.0000</td><td>6.0000</td><td>7.0000</td><td>8.0000</td></tr>\n",
       "\t<tr><td>MNIST</td><td> 1</td><td>  4</td><td>3190  </td><td>0.8783            </td><td>0.8705000000000001</td><td>0.1367</td><td>0.2271</td><td>0.4552</td><td>0.5689</td><td>0.5516</td><td>0.7023</td><td>0.6650</td></tr>\n",
       "\t<tr><td>MNIST</td><td> 1</td><td>  8</td><td>6370  </td><td>0.9274            </td><td>0.9143            </td><td>0.1736</td><td>0.4643</td><td>0.4899</td><td>0.4613</td><td>0.6985</td><td>0.7503</td><td>0.6857</td></tr>\n",
       "\t<tr><td>MNIST</td><td> 1</td><td> 16</td><td>12730 </td><td>0.9726            </td><td>0.9509            </td><td>0.6104</td><td>0.6676</td><td>0.7558</td><td>0.8181</td><td>0.8179</td><td>0.8235</td><td>0.7791</td></tr>\n",
       "\t<tr><td>MNIST</td><td> 1</td><td> 32</td><td>25450 </td><td>0.9871            </td><td>0.9609            </td><td>0.5606</td><td>0.6782</td><td>0.7671</td><td>0.7995</td><td>0.8648</td><td>0.8690</td><td>0.8690</td></tr>\n",
       "\t<tr><td>MNIST</td><td> 1</td><td> 64</td><td>50890 </td><td>0.9951            </td><td>0.9713000000000001</td><td>0.6758</td><td>0.7066</td><td>0.8524</td><td>0.8833</td><td>0.8958</td><td>0.9232</td><td>0.9302</td></tr>\n",
       "\t<tr><td>MNIST</td><td> 1</td><td>128</td><td>101770</td><td>0.9966            </td><td>0.9743000000000001</td><td>0.7833</td><td>0.8781</td><td>0.8757</td><td>0.9442</td><td>0.9475</td><td>0.9387</td><td>0.9148</td></tr>\n",
       "\t<tr><td>MNIST</td><td> 2</td><td>  4</td><td>3210  </td><td>0.8443000000000001</td><td>0.8466            </td><td>0.0897</td><td>0.2974</td><td>0.4683</td><td>0.5059</td><td>0.3286</td><td>0.4697</td><td>0.6078</td></tr>\n",
       "\t<tr><td>MNIST</td><td> 2</td><td>  8</td><td>6442  </td><td>0.9331            </td><td>0.9174            </td><td>0.1741</td><td>0.2533</td><td>0.4551</td><td>0.4664</td><td>0.5745</td><td>0.6309</td><td>0.7306</td></tr>\n",
       "\t<tr><td>MNIST</td><td> 2</td><td> 16</td><td>13002 </td><td>0.9654            </td><td>0.9449            </td><td>0.4304</td><td>0.4563</td><td>0.7193</td><td>0.7792</td><td>0.7891</td><td>0.8414</td><td>0.8582</td></tr>\n",
       "\t<tr><td>MNIST</td><td> 2</td><td> 32</td><td>26506 </td><td>0.989             </td><td>0.9645            </td><td>0.3554</td><td>0.5477</td><td>0.7734</td><td>0.8394</td><td>0.8734</td><td>0.8695</td><td>0.9214</td></tr>\n",
       "\t<tr><td>MNIST</td><td> 2</td><td> 64</td><td>55050 </td><td>0.9961            </td><td>0.9758            </td><td>0.7227</td><td>0.8277</td><td>0.8593</td><td>0.8474</td><td>0.8884</td><td>0.9075</td><td>0.9043</td></tr>\n",
       "\t<tr><td>MNIST</td><td> 2</td><td>128</td><td>118282</td><td>0.9982            </td><td>0.9764            </td><td>0.7175</td><td>0.8600</td><td>0.9198</td><td>0.9329</td><td>0.9485</td><td>0.9542</td><td>0.9530</td></tr>\n",
       "\t<tr><td>MNIST</td><td> 3</td><td>  4</td><td>3230  </td><td>0.8333            </td><td>0.8277            </td><td>0.1718</td><td>0.3245</td><td>0.2854</td><td>0.4599</td><td>0.3440</td><td>0.3738</td><td>0.3738</td></tr>\n",
       "\t<tr><td>MNIST</td><td> 3</td><td>  8</td><td>6514  </td><td>0.9288            </td><td>0.9176            </td><td>0.1557</td><td>0.3096</td><td>0.4162</td><td>0.4757</td><td>0.6032</td><td>0.5409</td><td>0.6530</td></tr>\n",
       "\t<tr><td>MNIST</td><td> 3</td><td> 16</td><td>13274 </td><td>0.9639            </td><td>0.9449            </td><td>0.2628</td><td>0.3559</td><td>0.5249</td><td>0.6619</td><td>0.7025</td><td>0.8224</td><td>0.8755</td></tr>\n",
       "\t<tr><td>MNIST</td><td> 3</td><td> 32</td><td>27562 </td><td>0.9872            </td><td>0.9694            </td><td>0.3199</td><td>0.5688</td><td>0.7517</td><td>0.8403</td><td>0.8338</td><td>0.8533</td><td>0.8702</td></tr>\n",
       "\t<tr><td>MNIST</td><td> 3</td><td> 64</td><td>59210 </td><td>0.9946            </td><td>0.9738            </td><td>0.6230</td><td>0.8209</td><td>0.8756</td><td>0.9144</td><td>0.9197</td><td>0.9300</td><td>0.9253</td></tr>\n",
       "\t<tr><td>MNIST</td><td> 3</td><td>128</td><td>134794</td><td>0.9974            </td><td>0.9768            </td><td>0.8586</td><td>0.9065</td><td>0.9259</td><td>0.9399</td><td>0.9519</td><td>0.9509</td><td>0.9559</td></tr>\n",
       "\t<tr><td>MNIST</td><td> 4</td><td>  4</td><td>3250  </td><td>0.8184            </td><td>0.8139            </td><td>0.1593</td><td>0.1739</td><td>0.3078</td><td>0.3195</td><td>0.2980</td><td>0.4388</td><td>0.5340</td></tr>\n",
       "\t<tr><td>MNIST</td><td> 4</td><td>  8</td><td>6586  </td><td>0.9249000000000001</td><td>0.9108000000000001</td><td>0.2048</td><td>0.2492</td><td>0.4388</td><td>0.3838</td><td>0.4200</td><td>0.6016</td><td>0.6540</td></tr>\n",
       "\t<tr><td>MNIST</td><td> 4</td><td> 16</td><td>13546 </td><td>0.9629            </td><td>0.9488            </td><td>0.1660</td><td>0.5015</td><td>0.6470</td><td>0.5255</td><td>0.6493</td><td>0.8187</td><td>0.8226</td></tr>\n",
       "\t<tr><td>MNIST</td><td> 4</td><td> 32</td><td>28618 </td><td>0.9853            </td><td>0.9651            </td><td>0.4569</td><td>0.5678</td><td>0.7905</td><td>0.8161</td><td>0.8363</td><td>0.8594</td><td>0.8872</td></tr>\n",
       "\t<tr><td>MNIST</td><td> 4</td><td> 64</td><td>63370 </td><td>0.9936            </td><td>0.9726            </td><td>0.5572</td><td>0.8342</td><td>0.8883</td><td>0.8865</td><td>0.8992</td><td>0.9246</td><td>0.9302</td></tr>\n",
       "\t<tr><td>MNIST</td><td> 4</td><td>128</td><td>151306</td><td>0.9966            </td><td>0.9762            </td><td>0.5941</td><td>0.8703</td><td>0.9144</td><td>0.9409</td><td>0.9403</td><td>0.9400</td><td>0.9465</td></tr>\n",
       "</tbody>\n",
       "</table>\n"
      ],
      "text/latex": [
       "A tibble: 25 × 13\n",
       "\\begin{tabular}{lllllllllllll}\n",
       " Tabla 1 & ...2 & ...3 & ...4 & ...5 & ...6 & ...7 & ...8 & ...9 & ...10 & ...11 & ...12 & ...13\\\\\n",
       " <chr> & <dbl> & <dbl> & <chr> & <chr> & <chr> & <dbl> & <dbl> & <dbl> & <dbl> & <dbl> & <dbl> & <dbl>\\\\\n",
       "\\hline\n",
       "\t NA    & NA &  NA & Nodes  & Train              & Test               & 2.0000 & 3.0000 & 4.0000 & 5.0000 & 6.0000 & 7.0000 & 8.0000\\\\\n",
       "\t MNIST &  1 &   4 & 3190   & 0.8783             & 0.8705000000000001 & 0.1367 & 0.2271 & 0.4552 & 0.5689 & 0.5516 & 0.7023 & 0.6650\\\\\n",
       "\t MNIST &  1 &   8 & 6370   & 0.9274             & 0.9143             & 0.1736 & 0.4643 & 0.4899 & 0.4613 & 0.6985 & 0.7503 & 0.6857\\\\\n",
       "\t MNIST &  1 &  16 & 12730  & 0.9726             & 0.9509             & 0.6104 & 0.6676 & 0.7558 & 0.8181 & 0.8179 & 0.8235 & 0.7791\\\\\n",
       "\t MNIST &  1 &  32 & 25450  & 0.9871             & 0.9609             & 0.5606 & 0.6782 & 0.7671 & 0.7995 & 0.8648 & 0.8690 & 0.8690\\\\\n",
       "\t MNIST &  1 &  64 & 50890  & 0.9951             & 0.9713000000000001 & 0.6758 & 0.7066 & 0.8524 & 0.8833 & 0.8958 & 0.9232 & 0.9302\\\\\n",
       "\t MNIST &  1 & 128 & 101770 & 0.9966             & 0.9743000000000001 & 0.7833 & 0.8781 & 0.8757 & 0.9442 & 0.9475 & 0.9387 & 0.9148\\\\\n",
       "\t MNIST &  2 &   4 & 3210   & 0.8443000000000001 & 0.8466             & 0.0897 & 0.2974 & 0.4683 & 0.5059 & 0.3286 & 0.4697 & 0.6078\\\\\n",
       "\t MNIST &  2 &   8 & 6442   & 0.9331             & 0.9174             & 0.1741 & 0.2533 & 0.4551 & 0.4664 & 0.5745 & 0.6309 & 0.7306\\\\\n",
       "\t MNIST &  2 &  16 & 13002  & 0.9654             & 0.9449             & 0.4304 & 0.4563 & 0.7193 & 0.7792 & 0.7891 & 0.8414 & 0.8582\\\\\n",
       "\t MNIST &  2 &  32 & 26506  & 0.989              & 0.9645             & 0.3554 & 0.5477 & 0.7734 & 0.8394 & 0.8734 & 0.8695 & 0.9214\\\\\n",
       "\t MNIST &  2 &  64 & 55050  & 0.9961             & 0.9758             & 0.7227 & 0.8277 & 0.8593 & 0.8474 & 0.8884 & 0.9075 & 0.9043\\\\\n",
       "\t MNIST &  2 & 128 & 118282 & 0.9982             & 0.9764             & 0.7175 & 0.8600 & 0.9198 & 0.9329 & 0.9485 & 0.9542 & 0.9530\\\\\n",
       "\t MNIST &  3 &   4 & 3230   & 0.8333             & 0.8277             & 0.1718 & 0.3245 & 0.2854 & 0.4599 & 0.3440 & 0.3738 & 0.3738\\\\\n",
       "\t MNIST &  3 &   8 & 6514   & 0.9288             & 0.9176             & 0.1557 & 0.3096 & 0.4162 & 0.4757 & 0.6032 & 0.5409 & 0.6530\\\\\n",
       "\t MNIST &  3 &  16 & 13274  & 0.9639             & 0.9449             & 0.2628 & 0.3559 & 0.5249 & 0.6619 & 0.7025 & 0.8224 & 0.8755\\\\\n",
       "\t MNIST &  3 &  32 & 27562  & 0.9872             & 0.9694             & 0.3199 & 0.5688 & 0.7517 & 0.8403 & 0.8338 & 0.8533 & 0.8702\\\\\n",
       "\t MNIST &  3 &  64 & 59210  & 0.9946             & 0.9738             & 0.6230 & 0.8209 & 0.8756 & 0.9144 & 0.9197 & 0.9300 & 0.9253\\\\\n",
       "\t MNIST &  3 & 128 & 134794 & 0.9974             & 0.9768             & 0.8586 & 0.9065 & 0.9259 & 0.9399 & 0.9519 & 0.9509 & 0.9559\\\\\n",
       "\t MNIST &  4 &   4 & 3250   & 0.8184             & 0.8139             & 0.1593 & 0.1739 & 0.3078 & 0.3195 & 0.2980 & 0.4388 & 0.5340\\\\\n",
       "\t MNIST &  4 &   8 & 6586   & 0.9249000000000001 & 0.9108000000000001 & 0.2048 & 0.2492 & 0.4388 & 0.3838 & 0.4200 & 0.6016 & 0.6540\\\\\n",
       "\t MNIST &  4 &  16 & 13546  & 0.9629             & 0.9488             & 0.1660 & 0.5015 & 0.6470 & 0.5255 & 0.6493 & 0.8187 & 0.8226\\\\\n",
       "\t MNIST &  4 &  32 & 28618  & 0.9853             & 0.9651             & 0.4569 & 0.5678 & 0.7905 & 0.8161 & 0.8363 & 0.8594 & 0.8872\\\\\n",
       "\t MNIST &  4 &  64 & 63370  & 0.9936             & 0.9726             & 0.5572 & 0.8342 & 0.8883 & 0.8865 & 0.8992 & 0.9246 & 0.9302\\\\\n",
       "\t MNIST &  4 & 128 & 151306 & 0.9966             & 0.9762             & 0.5941 & 0.8703 & 0.9144 & 0.9409 & 0.9403 & 0.9400 & 0.9465\\\\\n",
       "\\end{tabular}\n"
      ],
      "text/markdown": [
       "\n",
       "A tibble: 25 × 13\n",
       "\n",
       "| Tabla 1 &lt;chr&gt; | ...2 &lt;dbl&gt; | ...3 &lt;dbl&gt; | ...4 &lt;chr&gt; | ...5 &lt;chr&gt; | ...6 &lt;chr&gt; | ...7 &lt;dbl&gt; | ...8 &lt;dbl&gt; | ...9 &lt;dbl&gt; | ...10 &lt;dbl&gt; | ...11 &lt;dbl&gt; | ...12 &lt;dbl&gt; | ...13 &lt;dbl&gt; |\n",
       "|---|---|---|---|---|---|---|---|---|---|---|---|---|\n",
       "| NA    | NA |  NA | Nodes  | Train              | Test               | 2.0000 | 3.0000 | 4.0000 | 5.0000 | 6.0000 | 7.0000 | 8.0000 |\n",
       "| MNIST |  1 |   4 | 3190   | 0.8783             | 0.8705000000000001 | 0.1367 | 0.2271 | 0.4552 | 0.5689 | 0.5516 | 0.7023 | 0.6650 |\n",
       "| MNIST |  1 |   8 | 6370   | 0.9274             | 0.9143             | 0.1736 | 0.4643 | 0.4899 | 0.4613 | 0.6985 | 0.7503 | 0.6857 |\n",
       "| MNIST |  1 |  16 | 12730  | 0.9726             | 0.9509             | 0.6104 | 0.6676 | 0.7558 | 0.8181 | 0.8179 | 0.8235 | 0.7791 |\n",
       "| MNIST |  1 |  32 | 25450  | 0.9871             | 0.9609             | 0.5606 | 0.6782 | 0.7671 | 0.7995 | 0.8648 | 0.8690 | 0.8690 |\n",
       "| MNIST |  1 |  64 | 50890  | 0.9951             | 0.9713000000000001 | 0.6758 | 0.7066 | 0.8524 | 0.8833 | 0.8958 | 0.9232 | 0.9302 |\n",
       "| MNIST |  1 | 128 | 101770 | 0.9966             | 0.9743000000000001 | 0.7833 | 0.8781 | 0.8757 | 0.9442 | 0.9475 | 0.9387 | 0.9148 |\n",
       "| MNIST |  2 |   4 | 3210   | 0.8443000000000001 | 0.8466             | 0.0897 | 0.2974 | 0.4683 | 0.5059 | 0.3286 | 0.4697 | 0.6078 |\n",
       "| MNIST |  2 |   8 | 6442   | 0.9331             | 0.9174             | 0.1741 | 0.2533 | 0.4551 | 0.4664 | 0.5745 | 0.6309 | 0.7306 |\n",
       "| MNIST |  2 |  16 | 13002  | 0.9654             | 0.9449             | 0.4304 | 0.4563 | 0.7193 | 0.7792 | 0.7891 | 0.8414 | 0.8582 |\n",
       "| MNIST |  2 |  32 | 26506  | 0.989              | 0.9645             | 0.3554 | 0.5477 | 0.7734 | 0.8394 | 0.8734 | 0.8695 | 0.9214 |\n",
       "| MNIST |  2 |  64 | 55050  | 0.9961             | 0.9758             | 0.7227 | 0.8277 | 0.8593 | 0.8474 | 0.8884 | 0.9075 | 0.9043 |\n",
       "| MNIST |  2 | 128 | 118282 | 0.9982             | 0.9764             | 0.7175 | 0.8600 | 0.9198 | 0.9329 | 0.9485 | 0.9542 | 0.9530 |\n",
       "| MNIST |  3 |   4 | 3230   | 0.8333             | 0.8277             | 0.1718 | 0.3245 | 0.2854 | 0.4599 | 0.3440 | 0.3738 | 0.3738 |\n",
       "| MNIST |  3 |   8 | 6514   | 0.9288             | 0.9176             | 0.1557 | 0.3096 | 0.4162 | 0.4757 | 0.6032 | 0.5409 | 0.6530 |\n",
       "| MNIST |  3 |  16 | 13274  | 0.9639             | 0.9449             | 0.2628 | 0.3559 | 0.5249 | 0.6619 | 0.7025 | 0.8224 | 0.8755 |\n",
       "| MNIST |  3 |  32 | 27562  | 0.9872             | 0.9694             | 0.3199 | 0.5688 | 0.7517 | 0.8403 | 0.8338 | 0.8533 | 0.8702 |\n",
       "| MNIST |  3 |  64 | 59210  | 0.9946             | 0.9738             | 0.6230 | 0.8209 | 0.8756 | 0.9144 | 0.9197 | 0.9300 | 0.9253 |\n",
       "| MNIST |  3 | 128 | 134794 | 0.9974             | 0.9768             | 0.8586 | 0.9065 | 0.9259 | 0.9399 | 0.9519 | 0.9509 | 0.9559 |\n",
       "| MNIST |  4 |   4 | 3250   | 0.8184             | 0.8139             | 0.1593 | 0.1739 | 0.3078 | 0.3195 | 0.2980 | 0.4388 | 0.5340 |\n",
       "| MNIST |  4 |   8 | 6586   | 0.9249000000000001 | 0.9108000000000001 | 0.2048 | 0.2492 | 0.4388 | 0.3838 | 0.4200 | 0.6016 | 0.6540 |\n",
       "| MNIST |  4 |  16 | 13546  | 0.9629             | 0.9488             | 0.1660 | 0.5015 | 0.6470 | 0.5255 | 0.6493 | 0.8187 | 0.8226 |\n",
       "| MNIST |  4 |  32 | 28618  | 0.9853             | 0.9651             | 0.4569 | 0.5678 | 0.7905 | 0.8161 | 0.8363 | 0.8594 | 0.8872 |\n",
       "| MNIST |  4 |  64 | 63370  | 0.9936             | 0.9726             | 0.5572 | 0.8342 | 0.8883 | 0.8865 | 0.8992 | 0.9246 | 0.9302 |\n",
       "| MNIST |  4 | 128 | 151306 | 0.9966             | 0.9762             | 0.5941 | 0.8703 | 0.9144 | 0.9409 | 0.9403 | 0.9400 | 0.9465 |\n",
       "\n"
      ],
      "text/plain": [
       "   Tabla 1 ...2 ...3 ...4   ...5               ...6               ...7   ...8  \n",
       "1  NA      NA    NA  Nodes  Train              Test               2.0000 3.0000\n",
       "2  MNIST    1     4  3190   0.8783             0.8705000000000001 0.1367 0.2271\n",
       "3  MNIST    1     8  6370   0.9274             0.9143             0.1736 0.4643\n",
       "4  MNIST    1    16  12730  0.9726             0.9509             0.6104 0.6676\n",
       "5  MNIST    1    32  25450  0.9871             0.9609             0.5606 0.6782\n",
       "6  MNIST    1    64  50890  0.9951             0.9713000000000001 0.6758 0.7066\n",
       "7  MNIST    1   128  101770 0.9966             0.9743000000000001 0.7833 0.8781\n",
       "8  MNIST    2     4  3210   0.8443000000000001 0.8466             0.0897 0.2974\n",
       "9  MNIST    2     8  6442   0.9331             0.9174             0.1741 0.2533\n",
       "10 MNIST    2    16  13002  0.9654             0.9449             0.4304 0.4563\n",
       "11 MNIST    2    32  26506  0.989              0.9645             0.3554 0.5477\n",
       "12 MNIST    2    64  55050  0.9961             0.9758             0.7227 0.8277\n",
       "13 MNIST    2   128  118282 0.9982             0.9764             0.7175 0.8600\n",
       "14 MNIST    3     4  3230   0.8333             0.8277             0.1718 0.3245\n",
       "15 MNIST    3     8  6514   0.9288             0.9176             0.1557 0.3096\n",
       "16 MNIST    3    16  13274  0.9639             0.9449             0.2628 0.3559\n",
       "17 MNIST    3    32  27562  0.9872             0.9694             0.3199 0.5688\n",
       "18 MNIST    3    64  59210  0.9946             0.9738             0.6230 0.8209\n",
       "19 MNIST    3   128  134794 0.9974             0.9768             0.8586 0.9065\n",
       "20 MNIST    4     4  3250   0.8184             0.8139             0.1593 0.1739\n",
       "21 MNIST    4     8  6586   0.9249000000000001 0.9108000000000001 0.2048 0.2492\n",
       "22 MNIST    4    16  13546  0.9629             0.9488             0.1660 0.5015\n",
       "23 MNIST    4    32  28618  0.9853             0.9651             0.4569 0.5678\n",
       "24 MNIST    4    64  63370  0.9936             0.9726             0.5572 0.8342\n",
       "25 MNIST    4   128  151306 0.9966             0.9762             0.5941 0.8703\n",
       "   ...9   ...10  ...11  ...12  ...13 \n",
       "1  4.0000 5.0000 6.0000 7.0000 8.0000\n",
       "2  0.4552 0.5689 0.5516 0.7023 0.6650\n",
       "3  0.4899 0.4613 0.6985 0.7503 0.6857\n",
       "4  0.7558 0.8181 0.8179 0.8235 0.7791\n",
       "5  0.7671 0.7995 0.8648 0.8690 0.8690\n",
       "6  0.8524 0.8833 0.8958 0.9232 0.9302\n",
       "7  0.8757 0.9442 0.9475 0.9387 0.9148\n",
       "8  0.4683 0.5059 0.3286 0.4697 0.6078\n",
       "9  0.4551 0.4664 0.5745 0.6309 0.7306\n",
       "10 0.7193 0.7792 0.7891 0.8414 0.8582\n",
       "11 0.7734 0.8394 0.8734 0.8695 0.9214\n",
       "12 0.8593 0.8474 0.8884 0.9075 0.9043\n",
       "13 0.9198 0.9329 0.9485 0.9542 0.9530\n",
       "14 0.2854 0.4599 0.3440 0.3738 0.3738\n",
       "15 0.4162 0.4757 0.6032 0.5409 0.6530\n",
       "16 0.5249 0.6619 0.7025 0.8224 0.8755\n",
       "17 0.7517 0.8403 0.8338 0.8533 0.8702\n",
       "18 0.8756 0.9144 0.9197 0.9300 0.9253\n",
       "19 0.9259 0.9399 0.9519 0.9509 0.9559\n",
       "20 0.3078 0.3195 0.2980 0.4388 0.5340\n",
       "21 0.4388 0.3838 0.4200 0.6016 0.6540\n",
       "22 0.6470 0.5255 0.6493 0.8187 0.8226\n",
       "23 0.7905 0.8161 0.8363 0.8594 0.8872\n",
       "24 0.8883 0.8865 0.8992 0.9246 0.9302\n",
       "25 0.9144 0.9409 0.9403 0.9400 0.9465"
      ]
     },
     "metadata": {},
     "output_type": "display_data"
    }
   ],
   "source": [
    "# Leyendo ficheros de Excel\n",
    "#install.packages(\"readxl\")\n",
    "library(\"readxl\")\n",
    "\n",
    "read_excel(\"results.xlsx\")"
   ]
  },
  {
   "cell_type": "code",
   "execution_count": 33,
   "metadata": {
    "vscode": {
     "languageId": "r"
    }
   },
   "outputs": [
    {
     "name": "stderr",
     "output_type": "stream",
     "text": [
      "\u001b[1m\u001b[22mNew names:\n",
      "\u001b[36m•\u001b[39m `` -> `...1`\n",
      "\u001b[36m•\u001b[39m `` -> `...2`\n",
      "\u001b[36m•\u001b[39m `` -> `...3`\n"
     ]
    },
    {
     "data": {
      "text/html": [
       "<table class=\"dataframe\">\n",
       "<caption>A tibble: 24 × 13</caption>\n",
       "<thead>\n",
       "\t<tr><th scope=col>...1</th><th scope=col>...2</th><th scope=col>...3</th><th scope=col>Nodes</th><th scope=col>Train</th><th scope=col>Test</th><th scope=col>2</th><th scope=col>3</th><th scope=col>4</th><th scope=col>5</th><th scope=col>6</th><th scope=col>7</th><th scope=col>8</th></tr>\n",
       "\t<tr><th scope=col>&lt;chr&gt;</th><th scope=col>&lt;dbl&gt;</th><th scope=col>&lt;dbl&gt;</th><th scope=col>&lt;dbl&gt;</th><th scope=col>&lt;dbl&gt;</th><th scope=col>&lt;dbl&gt;</th><th scope=col>&lt;dbl&gt;</th><th scope=col>&lt;dbl&gt;</th><th scope=col>&lt;dbl&gt;</th><th scope=col>&lt;dbl&gt;</th><th scope=col>&lt;dbl&gt;</th><th scope=col>&lt;dbl&gt;</th><th scope=col>&lt;dbl&gt;</th></tr>\n",
       "</thead>\n",
       "<tbody>\n",
       "\t<tr><td>MNIST</td><td>1</td><td>  4</td><td>  3190</td><td>0.8783</td><td>0.8705</td><td>0.1367</td><td>0.2271</td><td>0.4552</td><td>0.5689</td><td>0.5516</td><td>0.7023</td><td>0.6650</td></tr>\n",
       "\t<tr><td>MNIST</td><td>1</td><td>  8</td><td>  6370</td><td>0.9274</td><td>0.9143</td><td>0.1736</td><td>0.4643</td><td>0.4899</td><td>0.4613</td><td>0.6985</td><td>0.7503</td><td>0.6857</td></tr>\n",
       "\t<tr><td>MNIST</td><td>1</td><td> 16</td><td> 12730</td><td>0.9726</td><td>0.9509</td><td>0.6104</td><td>0.6676</td><td>0.7558</td><td>0.8181</td><td>0.8179</td><td>0.8235</td><td>0.7791</td></tr>\n",
       "\t<tr><td>MNIST</td><td>1</td><td> 32</td><td> 25450</td><td>0.9871</td><td>0.9609</td><td>0.5606</td><td>0.6782</td><td>0.7671</td><td>0.7995</td><td>0.8648</td><td>0.8690</td><td>0.8690</td></tr>\n",
       "\t<tr><td>MNIST</td><td>1</td><td> 64</td><td> 50890</td><td>0.9951</td><td>0.9713</td><td>0.6758</td><td>0.7066</td><td>0.8524</td><td>0.8833</td><td>0.8958</td><td>0.9232</td><td>0.9302</td></tr>\n",
       "\t<tr><td>MNIST</td><td>1</td><td>128</td><td>101770</td><td>0.9966</td><td>0.9743</td><td>0.7833</td><td>0.8781</td><td>0.8757</td><td>0.9442</td><td>0.9475</td><td>0.9387</td><td>0.9148</td></tr>\n",
       "\t<tr><td>MNIST</td><td>2</td><td>  4</td><td>  3210</td><td>0.8443</td><td>0.8466</td><td>0.0897</td><td>0.2974</td><td>0.4683</td><td>0.5059</td><td>0.3286</td><td>0.4697</td><td>0.6078</td></tr>\n",
       "\t<tr><td>MNIST</td><td>2</td><td>  8</td><td>  6442</td><td>0.9331</td><td>0.9174</td><td>0.1741</td><td>0.2533</td><td>0.4551</td><td>0.4664</td><td>0.5745</td><td>0.6309</td><td>0.7306</td></tr>\n",
       "\t<tr><td>MNIST</td><td>2</td><td> 16</td><td> 13002</td><td>0.9654</td><td>0.9449</td><td>0.4304</td><td>0.4563</td><td>0.7193</td><td>0.7792</td><td>0.7891</td><td>0.8414</td><td>0.8582</td></tr>\n",
       "\t<tr><td>MNIST</td><td>2</td><td> 32</td><td> 26506</td><td>0.9890</td><td>0.9645</td><td>0.3554</td><td>0.5477</td><td>0.7734</td><td>0.8394</td><td>0.8734</td><td>0.8695</td><td>0.9214</td></tr>\n",
       "\t<tr><td>MNIST</td><td>2</td><td> 64</td><td> 55050</td><td>0.9961</td><td>0.9758</td><td>0.7227</td><td>0.8277</td><td>0.8593</td><td>0.8474</td><td>0.8884</td><td>0.9075</td><td>0.9043</td></tr>\n",
       "\t<tr><td>MNIST</td><td>2</td><td>128</td><td>118282</td><td>0.9982</td><td>0.9764</td><td>0.7175</td><td>0.8600</td><td>0.9198</td><td>0.9329</td><td>0.9485</td><td>0.9542</td><td>0.9530</td></tr>\n",
       "\t<tr><td>MNIST</td><td>3</td><td>  4</td><td>  3230</td><td>0.8333</td><td>0.8277</td><td>0.1718</td><td>0.3245</td><td>0.2854</td><td>0.4599</td><td>0.3440</td><td>0.3738</td><td>0.3738</td></tr>\n",
       "\t<tr><td>MNIST</td><td>3</td><td>  8</td><td>  6514</td><td>0.9288</td><td>0.9176</td><td>0.1557</td><td>0.3096</td><td>0.4162</td><td>0.4757</td><td>0.6032</td><td>0.5409</td><td>0.6530</td></tr>\n",
       "\t<tr><td>MNIST</td><td>3</td><td> 16</td><td> 13274</td><td>0.9639</td><td>0.9449</td><td>0.2628</td><td>0.3559</td><td>0.5249</td><td>0.6619</td><td>0.7025</td><td>0.8224</td><td>0.8755</td></tr>\n",
       "\t<tr><td>MNIST</td><td>3</td><td> 32</td><td> 27562</td><td>0.9872</td><td>0.9694</td><td>0.3199</td><td>0.5688</td><td>0.7517</td><td>0.8403</td><td>0.8338</td><td>0.8533</td><td>0.8702</td></tr>\n",
       "\t<tr><td>MNIST</td><td>3</td><td> 64</td><td> 59210</td><td>0.9946</td><td>0.9738</td><td>0.6230</td><td>0.8209</td><td>0.8756</td><td>0.9144</td><td>0.9197</td><td>0.9300</td><td>0.9253</td></tr>\n",
       "\t<tr><td>MNIST</td><td>3</td><td>128</td><td>134794</td><td>0.9974</td><td>0.9768</td><td>0.8586</td><td>0.9065</td><td>0.9259</td><td>0.9399</td><td>0.9519</td><td>0.9509</td><td>0.9559</td></tr>\n",
       "\t<tr><td>MNIST</td><td>4</td><td>  4</td><td>  3250</td><td>0.8184</td><td>0.8139</td><td>0.1593</td><td>0.1739</td><td>0.3078</td><td>0.3195</td><td>0.2980</td><td>0.4388</td><td>0.5340</td></tr>\n",
       "\t<tr><td>MNIST</td><td>4</td><td>  8</td><td>  6586</td><td>0.9249</td><td>0.9108</td><td>0.2048</td><td>0.2492</td><td>0.4388</td><td>0.3838</td><td>0.4200</td><td>0.6016</td><td>0.6540</td></tr>\n",
       "\t<tr><td>MNIST</td><td>4</td><td> 16</td><td> 13546</td><td>0.9629</td><td>0.9488</td><td>0.1660</td><td>0.5015</td><td>0.6470</td><td>0.5255</td><td>0.6493</td><td>0.8187</td><td>0.8226</td></tr>\n",
       "\t<tr><td>MNIST</td><td>4</td><td> 32</td><td> 28618</td><td>0.9853</td><td>0.9651</td><td>0.4569</td><td>0.5678</td><td>0.7905</td><td>0.8161</td><td>0.8363</td><td>0.8594</td><td>0.8872</td></tr>\n",
       "\t<tr><td>MNIST</td><td>4</td><td> 64</td><td> 63370</td><td>0.9936</td><td>0.9726</td><td>0.5572</td><td>0.8342</td><td>0.8883</td><td>0.8865</td><td>0.8992</td><td>0.9246</td><td>0.9302</td></tr>\n",
       "\t<tr><td>MNIST</td><td>4</td><td>128</td><td>151306</td><td>0.9966</td><td>0.9762</td><td>0.5941</td><td>0.8703</td><td>0.9144</td><td>0.9409</td><td>0.9403</td><td>0.9400</td><td>0.9465</td></tr>\n",
       "</tbody>\n",
       "</table>\n"
      ],
      "text/latex": [
       "A tibble: 24 × 13\n",
       "\\begin{tabular}{lllllllllllll}\n",
       " ...1 & ...2 & ...3 & Nodes & Train & Test & 2 & 3 & 4 & 5 & 6 & 7 & 8\\\\\n",
       " <chr> & <dbl> & <dbl> & <dbl> & <dbl> & <dbl> & <dbl> & <dbl> & <dbl> & <dbl> & <dbl> & <dbl> & <dbl>\\\\\n",
       "\\hline\n",
       "\t MNIST & 1 &   4 &   3190 & 0.8783 & 0.8705 & 0.1367 & 0.2271 & 0.4552 & 0.5689 & 0.5516 & 0.7023 & 0.6650\\\\\n",
       "\t MNIST & 1 &   8 &   6370 & 0.9274 & 0.9143 & 0.1736 & 0.4643 & 0.4899 & 0.4613 & 0.6985 & 0.7503 & 0.6857\\\\\n",
       "\t MNIST & 1 &  16 &  12730 & 0.9726 & 0.9509 & 0.6104 & 0.6676 & 0.7558 & 0.8181 & 0.8179 & 0.8235 & 0.7791\\\\\n",
       "\t MNIST & 1 &  32 &  25450 & 0.9871 & 0.9609 & 0.5606 & 0.6782 & 0.7671 & 0.7995 & 0.8648 & 0.8690 & 0.8690\\\\\n",
       "\t MNIST & 1 &  64 &  50890 & 0.9951 & 0.9713 & 0.6758 & 0.7066 & 0.8524 & 0.8833 & 0.8958 & 0.9232 & 0.9302\\\\\n",
       "\t MNIST & 1 & 128 & 101770 & 0.9966 & 0.9743 & 0.7833 & 0.8781 & 0.8757 & 0.9442 & 0.9475 & 0.9387 & 0.9148\\\\\n",
       "\t MNIST & 2 &   4 &   3210 & 0.8443 & 0.8466 & 0.0897 & 0.2974 & 0.4683 & 0.5059 & 0.3286 & 0.4697 & 0.6078\\\\\n",
       "\t MNIST & 2 &   8 &   6442 & 0.9331 & 0.9174 & 0.1741 & 0.2533 & 0.4551 & 0.4664 & 0.5745 & 0.6309 & 0.7306\\\\\n",
       "\t MNIST & 2 &  16 &  13002 & 0.9654 & 0.9449 & 0.4304 & 0.4563 & 0.7193 & 0.7792 & 0.7891 & 0.8414 & 0.8582\\\\\n",
       "\t MNIST & 2 &  32 &  26506 & 0.9890 & 0.9645 & 0.3554 & 0.5477 & 0.7734 & 0.8394 & 0.8734 & 0.8695 & 0.9214\\\\\n",
       "\t MNIST & 2 &  64 &  55050 & 0.9961 & 0.9758 & 0.7227 & 0.8277 & 0.8593 & 0.8474 & 0.8884 & 0.9075 & 0.9043\\\\\n",
       "\t MNIST & 2 & 128 & 118282 & 0.9982 & 0.9764 & 0.7175 & 0.8600 & 0.9198 & 0.9329 & 0.9485 & 0.9542 & 0.9530\\\\\n",
       "\t MNIST & 3 &   4 &   3230 & 0.8333 & 0.8277 & 0.1718 & 0.3245 & 0.2854 & 0.4599 & 0.3440 & 0.3738 & 0.3738\\\\\n",
       "\t MNIST & 3 &   8 &   6514 & 0.9288 & 0.9176 & 0.1557 & 0.3096 & 0.4162 & 0.4757 & 0.6032 & 0.5409 & 0.6530\\\\\n",
       "\t MNIST & 3 &  16 &  13274 & 0.9639 & 0.9449 & 0.2628 & 0.3559 & 0.5249 & 0.6619 & 0.7025 & 0.8224 & 0.8755\\\\\n",
       "\t MNIST & 3 &  32 &  27562 & 0.9872 & 0.9694 & 0.3199 & 0.5688 & 0.7517 & 0.8403 & 0.8338 & 0.8533 & 0.8702\\\\\n",
       "\t MNIST & 3 &  64 &  59210 & 0.9946 & 0.9738 & 0.6230 & 0.8209 & 0.8756 & 0.9144 & 0.9197 & 0.9300 & 0.9253\\\\\n",
       "\t MNIST & 3 & 128 & 134794 & 0.9974 & 0.9768 & 0.8586 & 0.9065 & 0.9259 & 0.9399 & 0.9519 & 0.9509 & 0.9559\\\\\n",
       "\t MNIST & 4 &   4 &   3250 & 0.8184 & 0.8139 & 0.1593 & 0.1739 & 0.3078 & 0.3195 & 0.2980 & 0.4388 & 0.5340\\\\\n",
       "\t MNIST & 4 &   8 &   6586 & 0.9249 & 0.9108 & 0.2048 & 0.2492 & 0.4388 & 0.3838 & 0.4200 & 0.6016 & 0.6540\\\\\n",
       "\t MNIST & 4 &  16 &  13546 & 0.9629 & 0.9488 & 0.1660 & 0.5015 & 0.6470 & 0.5255 & 0.6493 & 0.8187 & 0.8226\\\\\n",
       "\t MNIST & 4 &  32 &  28618 & 0.9853 & 0.9651 & 0.4569 & 0.5678 & 0.7905 & 0.8161 & 0.8363 & 0.8594 & 0.8872\\\\\n",
       "\t MNIST & 4 &  64 &  63370 & 0.9936 & 0.9726 & 0.5572 & 0.8342 & 0.8883 & 0.8865 & 0.8992 & 0.9246 & 0.9302\\\\\n",
       "\t MNIST & 4 & 128 & 151306 & 0.9966 & 0.9762 & 0.5941 & 0.8703 & 0.9144 & 0.9409 & 0.9403 & 0.9400 & 0.9465\\\\\n",
       "\\end{tabular}\n"
      ],
      "text/markdown": [
       "\n",
       "A tibble: 24 × 13\n",
       "\n",
       "| ...1 &lt;chr&gt; | ...2 &lt;dbl&gt; | ...3 &lt;dbl&gt; | Nodes &lt;dbl&gt; | Train &lt;dbl&gt; | Test &lt;dbl&gt; | 2 &lt;dbl&gt; | 3 &lt;dbl&gt; | 4 &lt;dbl&gt; | 5 &lt;dbl&gt; | 6 &lt;dbl&gt; | 7 &lt;dbl&gt; | 8 &lt;dbl&gt; |\n",
       "|---|---|---|---|---|---|---|---|---|---|---|---|---|\n",
       "| MNIST | 1 |   4 |   3190 | 0.8783 | 0.8705 | 0.1367 | 0.2271 | 0.4552 | 0.5689 | 0.5516 | 0.7023 | 0.6650 |\n",
       "| MNIST | 1 |   8 |   6370 | 0.9274 | 0.9143 | 0.1736 | 0.4643 | 0.4899 | 0.4613 | 0.6985 | 0.7503 | 0.6857 |\n",
       "| MNIST | 1 |  16 |  12730 | 0.9726 | 0.9509 | 0.6104 | 0.6676 | 0.7558 | 0.8181 | 0.8179 | 0.8235 | 0.7791 |\n",
       "| MNIST | 1 |  32 |  25450 | 0.9871 | 0.9609 | 0.5606 | 0.6782 | 0.7671 | 0.7995 | 0.8648 | 0.8690 | 0.8690 |\n",
       "| MNIST | 1 |  64 |  50890 | 0.9951 | 0.9713 | 0.6758 | 0.7066 | 0.8524 | 0.8833 | 0.8958 | 0.9232 | 0.9302 |\n",
       "| MNIST | 1 | 128 | 101770 | 0.9966 | 0.9743 | 0.7833 | 0.8781 | 0.8757 | 0.9442 | 0.9475 | 0.9387 | 0.9148 |\n",
       "| MNIST | 2 |   4 |   3210 | 0.8443 | 0.8466 | 0.0897 | 0.2974 | 0.4683 | 0.5059 | 0.3286 | 0.4697 | 0.6078 |\n",
       "| MNIST | 2 |   8 |   6442 | 0.9331 | 0.9174 | 0.1741 | 0.2533 | 0.4551 | 0.4664 | 0.5745 | 0.6309 | 0.7306 |\n",
       "| MNIST | 2 |  16 |  13002 | 0.9654 | 0.9449 | 0.4304 | 0.4563 | 0.7193 | 0.7792 | 0.7891 | 0.8414 | 0.8582 |\n",
       "| MNIST | 2 |  32 |  26506 | 0.9890 | 0.9645 | 0.3554 | 0.5477 | 0.7734 | 0.8394 | 0.8734 | 0.8695 | 0.9214 |\n",
       "| MNIST | 2 |  64 |  55050 | 0.9961 | 0.9758 | 0.7227 | 0.8277 | 0.8593 | 0.8474 | 0.8884 | 0.9075 | 0.9043 |\n",
       "| MNIST | 2 | 128 | 118282 | 0.9982 | 0.9764 | 0.7175 | 0.8600 | 0.9198 | 0.9329 | 0.9485 | 0.9542 | 0.9530 |\n",
       "| MNIST | 3 |   4 |   3230 | 0.8333 | 0.8277 | 0.1718 | 0.3245 | 0.2854 | 0.4599 | 0.3440 | 0.3738 | 0.3738 |\n",
       "| MNIST | 3 |   8 |   6514 | 0.9288 | 0.9176 | 0.1557 | 0.3096 | 0.4162 | 0.4757 | 0.6032 | 0.5409 | 0.6530 |\n",
       "| MNIST | 3 |  16 |  13274 | 0.9639 | 0.9449 | 0.2628 | 0.3559 | 0.5249 | 0.6619 | 0.7025 | 0.8224 | 0.8755 |\n",
       "| MNIST | 3 |  32 |  27562 | 0.9872 | 0.9694 | 0.3199 | 0.5688 | 0.7517 | 0.8403 | 0.8338 | 0.8533 | 0.8702 |\n",
       "| MNIST | 3 |  64 |  59210 | 0.9946 | 0.9738 | 0.6230 | 0.8209 | 0.8756 | 0.9144 | 0.9197 | 0.9300 | 0.9253 |\n",
       "| MNIST | 3 | 128 | 134794 | 0.9974 | 0.9768 | 0.8586 | 0.9065 | 0.9259 | 0.9399 | 0.9519 | 0.9509 | 0.9559 |\n",
       "| MNIST | 4 |   4 |   3250 | 0.8184 | 0.8139 | 0.1593 | 0.1739 | 0.3078 | 0.3195 | 0.2980 | 0.4388 | 0.5340 |\n",
       "| MNIST | 4 |   8 |   6586 | 0.9249 | 0.9108 | 0.2048 | 0.2492 | 0.4388 | 0.3838 | 0.4200 | 0.6016 | 0.6540 |\n",
       "| MNIST | 4 |  16 |  13546 | 0.9629 | 0.9488 | 0.1660 | 0.5015 | 0.6470 | 0.5255 | 0.6493 | 0.8187 | 0.8226 |\n",
       "| MNIST | 4 |  32 |  28618 | 0.9853 | 0.9651 | 0.4569 | 0.5678 | 0.7905 | 0.8161 | 0.8363 | 0.8594 | 0.8872 |\n",
       "| MNIST | 4 |  64 |  63370 | 0.9936 | 0.9726 | 0.5572 | 0.8342 | 0.8883 | 0.8865 | 0.8992 | 0.9246 | 0.9302 |\n",
       "| MNIST | 4 | 128 | 151306 | 0.9966 | 0.9762 | 0.5941 | 0.8703 | 0.9144 | 0.9409 | 0.9403 | 0.9400 | 0.9465 |\n",
       "\n"
      ],
      "text/plain": [
       "   ...1  ...2 ...3 Nodes  Train  Test   2      3      4      5      6     \n",
       "1  MNIST 1      4    3190 0.8783 0.8705 0.1367 0.2271 0.4552 0.5689 0.5516\n",
       "2  MNIST 1      8    6370 0.9274 0.9143 0.1736 0.4643 0.4899 0.4613 0.6985\n",
       "3  MNIST 1     16   12730 0.9726 0.9509 0.6104 0.6676 0.7558 0.8181 0.8179\n",
       "4  MNIST 1     32   25450 0.9871 0.9609 0.5606 0.6782 0.7671 0.7995 0.8648\n",
       "5  MNIST 1     64   50890 0.9951 0.9713 0.6758 0.7066 0.8524 0.8833 0.8958\n",
       "6  MNIST 1    128  101770 0.9966 0.9743 0.7833 0.8781 0.8757 0.9442 0.9475\n",
       "7  MNIST 2      4    3210 0.8443 0.8466 0.0897 0.2974 0.4683 0.5059 0.3286\n",
       "8  MNIST 2      8    6442 0.9331 0.9174 0.1741 0.2533 0.4551 0.4664 0.5745\n",
       "9  MNIST 2     16   13002 0.9654 0.9449 0.4304 0.4563 0.7193 0.7792 0.7891\n",
       "10 MNIST 2     32   26506 0.9890 0.9645 0.3554 0.5477 0.7734 0.8394 0.8734\n",
       "11 MNIST 2     64   55050 0.9961 0.9758 0.7227 0.8277 0.8593 0.8474 0.8884\n",
       "12 MNIST 2    128  118282 0.9982 0.9764 0.7175 0.8600 0.9198 0.9329 0.9485\n",
       "13 MNIST 3      4    3230 0.8333 0.8277 0.1718 0.3245 0.2854 0.4599 0.3440\n",
       "14 MNIST 3      8    6514 0.9288 0.9176 0.1557 0.3096 0.4162 0.4757 0.6032\n",
       "15 MNIST 3     16   13274 0.9639 0.9449 0.2628 0.3559 0.5249 0.6619 0.7025\n",
       "16 MNIST 3     32   27562 0.9872 0.9694 0.3199 0.5688 0.7517 0.8403 0.8338\n",
       "17 MNIST 3     64   59210 0.9946 0.9738 0.6230 0.8209 0.8756 0.9144 0.9197\n",
       "18 MNIST 3    128  134794 0.9974 0.9768 0.8586 0.9065 0.9259 0.9399 0.9519\n",
       "19 MNIST 4      4    3250 0.8184 0.8139 0.1593 0.1739 0.3078 0.3195 0.2980\n",
       "20 MNIST 4      8    6586 0.9249 0.9108 0.2048 0.2492 0.4388 0.3838 0.4200\n",
       "21 MNIST 4     16   13546 0.9629 0.9488 0.1660 0.5015 0.6470 0.5255 0.6493\n",
       "22 MNIST 4     32   28618 0.9853 0.9651 0.4569 0.5678 0.7905 0.8161 0.8363\n",
       "23 MNIST 4     64   63370 0.9936 0.9726 0.5572 0.8342 0.8883 0.8865 0.8992\n",
       "24 MNIST 4    128  151306 0.9966 0.9762 0.5941 0.8703 0.9144 0.9409 0.9403\n",
       "   7      8     \n",
       "1  0.7023 0.6650\n",
       "2  0.7503 0.6857\n",
       "3  0.8235 0.7791\n",
       "4  0.8690 0.8690\n",
       "5  0.9232 0.9302\n",
       "6  0.9387 0.9148\n",
       "7  0.4697 0.6078\n",
       "8  0.6309 0.7306\n",
       "9  0.8414 0.8582\n",
       "10 0.8695 0.9214\n",
       "11 0.9075 0.9043\n",
       "12 0.9542 0.9530\n",
       "13 0.3738 0.3738\n",
       "14 0.5409 0.6530\n",
       "15 0.8224 0.8755\n",
       "16 0.8533 0.8702\n",
       "17 0.9300 0.9253\n",
       "18 0.9509 0.9559\n",
       "19 0.4388 0.5340\n",
       "20 0.6016 0.6540\n",
       "21 0.8187 0.8226\n",
       "22 0.8594 0.8872\n",
       "23 0.9246 0.9302\n",
       "24 0.9400 0.9465"
      ]
     },
     "metadata": {},
     "output_type": "display_data"
    }
   ],
   "source": [
    "read_excel(\"results.xlsx\", col_names = TRUE, skip = 1)"
   ]
  },
  {
   "cell_type": "code",
   "execution_count": null,
   "metadata": {
    "vscode": {
     "languageId": "r"
    }
   },
   "outputs": [],
   "source": [
    "?read_excel"
   ]
  },
  {
   "cell_type": "code",
   "execution_count": 34,
   "metadata": {
    "vscode": {
     "languageId": "r"
    }
   },
   "outputs": [
    {
     "name": "stderr",
     "output_type": "stream",
     "text": [
      "\u001b[1m\u001b[22mNew names:\n",
      "\u001b[36m•\u001b[39m `` -> `...1`\n",
      "\u001b[36m•\u001b[39m `` -> `...2`\n",
      "\u001b[36m•\u001b[39m `` -> `...3`\n"
     ]
    },
    {
     "data": {
      "text/html": [
       "<table class=\"dataframe\">\n",
       "<caption>A tibble: 24 × 13</caption>\n",
       "<thead>\n",
       "\t<tr><th scope=col>...1</th><th scope=col>...2</th><th scope=col>...3</th><th scope=col>Nodes</th><th scope=col>Train</th><th scope=col>Test</th><th scope=col>2</th><th scope=col>3</th><th scope=col>4</th><th scope=col>5</th><th scope=col>6</th><th scope=col>7</th><th scope=col>8</th></tr>\n",
       "\t<tr><th scope=col>&lt;chr&gt;</th><th scope=col>&lt;dbl&gt;</th><th scope=col>&lt;dbl&gt;</th><th scope=col>&lt;dbl&gt;</th><th scope=col>&lt;dbl&gt;</th><th scope=col>&lt;dbl&gt;</th><th scope=col>&lt;dbl&gt;</th><th scope=col>&lt;dbl&gt;</th><th scope=col>&lt;dbl&gt;</th><th scope=col>&lt;dbl&gt;</th><th scope=col>&lt;dbl&gt;</th><th scope=col>&lt;dbl&gt;</th><th scope=col>&lt;dbl&gt;</th></tr>\n",
       "</thead>\n",
       "<tbody>\n",
       "\t<tr><td>Fashion MNIST</td><td>1</td><td>  4</td><td>  3190</td><td>0.8385</td><td>0.8149</td><td>0.2898</td><td>0.4202</td><td>0.5323</td><td>0.5775</td><td>0.6492</td><td>0.5986</td><td>0.6139</td></tr>\n",
       "\t<tr><td>Fashion MNIST</td><td>1</td><td>  8</td><td>  6370</td><td>0.8734</td><td>0.8440</td><td>0.3988</td><td>0.5780</td><td>0.6824</td><td>0.7096</td><td>0.6675</td><td>0.6691</td><td>0.7479</td></tr>\n",
       "\t<tr><td>Fashion MNIST</td><td>1</td><td> 16</td><td> 12730</td><td>0.8911</td><td>0.8544</td><td>0.3787</td><td>0.5922</td><td>0.6602</td><td>0.7190</td><td>0.7187</td><td>0.7893</td><td>0.7467</td></tr>\n",
       "\t<tr><td>Fashion MNIST</td><td>1</td><td> 32</td><td> 25450</td><td>0.9038</td><td>0.8579</td><td>0.6079</td><td>0.6076</td><td>0.6933</td><td>0.7173</td><td>0.7473</td><td>0.7769</td><td>0.7738</td></tr>\n",
       "\t<tr><td>Fashion MNIST</td><td>1</td><td> 64</td><td> 50890</td><td>0.9128</td><td>0.8696</td><td>0.6433</td><td>0.7607</td><td>0.7878</td><td>0.7669</td><td>0.7947</td><td>0.7945</td><td>0.8173</td></tr>\n",
       "\t<tr><td>Fashion MNIST</td><td>1</td><td>128</td><td>101770</td><td>0.9191</td><td>0.8693</td><td>0.6456</td><td>0.7844</td><td>0.8274</td><td>0.8405</td><td>0.8318</td><td>0.8561</td><td>0.8499</td></tr>\n",
       "\t<tr><td>Fashion MNIST</td><td>2</td><td>  4</td><td>  3210</td><td>0.7944</td><td>0.7867</td><td>0.3205</td><td>0.2245</td><td>0.1861</td><td>0.4701</td><td>0.4811</td><td>0.6769</td><td>0.5635</td></tr>\n",
       "\t<tr><td>Fashion MNIST</td><td>2</td><td>  8</td><td>  6442</td><td>0.8697</td><td>0.8282</td><td>0.1720</td><td>0.4982</td><td>0.6273</td><td>0.5814</td><td>0.6469</td><td>0.6893</td><td>0.6996</td></tr>\n",
       "\t<tr><td>Fashion MNIST</td><td>2</td><td> 16</td><td> 13002</td><td>0.8889</td><td>0.8583</td><td>0.2512</td><td>0.5933</td><td>0.6172</td><td>0.6964</td><td>0.7467</td><td>0.7193</td><td>0.7749</td></tr>\n",
       "\t<tr><td>Fashion MNIST</td><td>2</td><td> 32</td><td> 26506</td><td>0.9019</td><td>0.8597</td><td>0.3454</td><td>0.5128</td><td>0.5989</td><td>0.7116</td><td>0.7246</td><td>0.7572</td><td>0.7175</td></tr>\n",
       "\t<tr><td>Fashion MNIST</td><td>2</td><td> 64</td><td> 55050</td><td>0.9152</td><td>0.8673</td><td>0.5260</td><td>0.6860</td><td>0.7592</td><td>0.8120</td><td>0.8149</td><td>0.8104</td><td>0.8351</td></tr>\n",
       "\t<tr><td>Fashion MNIST</td><td>2</td><td>128</td><td>118282</td><td>0.9218</td><td>0.8740</td><td>0.7105</td><td>0.8141</td><td>0.8324</td><td>0.8393</td><td>0.8380</td><td>0.8336</td><td>0.8379</td></tr>\n",
       "\t<tr><td>Fashion MNIST</td><td>3</td><td>  4</td><td>  3230</td><td>0.7724</td><td>0.7611</td><td>0.1840</td><td>0.2549</td><td>0.3082</td><td>0.3730</td><td>0.3719</td><td>0.4062</td><td>0.4362</td></tr>\n",
       "\t<tr><td>Fashion MNIST</td><td>3</td><td>  8</td><td>  6514</td><td>0.8572</td><td>0.8343</td><td>0.2329</td><td>0.3421</td><td>0.4311</td><td>0.4504</td><td>0.5763</td><td>0.6343</td><td>0.6513</td></tr>\n",
       "\t<tr><td>Fashion MNIST</td><td>3</td><td> 16</td><td> 13274</td><td>0.8903</td><td>0.8606</td><td>0.1347</td><td>0.3424</td><td>0.5999</td><td>0.6518</td><td>0.7277</td><td>0.7738</td><td>0.8055</td></tr>\n",
       "\t<tr><td>Fashion MNIST</td><td>3</td><td> 32</td><td> 27562</td><td>0.9016</td><td>0.8607</td><td>0.3586</td><td>0.6379</td><td>0.7094</td><td>0.7822</td><td>0.7986</td><td>0.8090</td><td>0.8279</td></tr>\n",
       "\t<tr><td>Fashion MNIST</td><td>3</td><td> 64</td><td> 59210</td><td>0.9118</td><td>0.8716</td><td>0.5299</td><td>0.7236</td><td>0.7746</td><td>0.7971</td><td>0.8160</td><td>0.8374</td><td>0.8425</td></tr>\n",
       "\t<tr><td>Fashion MNIST</td><td>3</td><td>128</td><td>134794</td><td>0.9213</td><td>0.8764</td><td>0.5874</td><td>0.7936</td><td>0.8156</td><td>0.8311</td><td>0.8420</td><td>0.8308</td><td>0.8355</td></tr>\n",
       "\t<tr><td>Fashion MNIST</td><td>4</td><td>  4</td><td>  3250</td><td>0.7447</td><td>0.7623</td><td>0.1006</td><td>0.1472</td><td>0.2077</td><td>0.3527</td><td>0.3357</td><td>0.3935</td><td>0.5627</td></tr>\n",
       "\t<tr><td>Fashion MNIST</td><td>4</td><td>  8</td><td>  6586</td><td>0.8616</td><td>0.8291</td><td>0.1007</td><td>0.1892</td><td>0.1755</td><td>0.3940</td><td>0.5361</td><td>0.5312</td><td>0.5506</td></tr>\n",
       "\t<tr><td>Fashion MNIST</td><td>4</td><td> 16</td><td> 13546</td><td>0.8851</td><td>0.8539</td><td>0.2753</td><td>0.3354</td><td>0.4488</td><td>0.5626</td><td>0.6747</td><td>0.6837</td><td>0.6829</td></tr>\n",
       "\t<tr><td>Fashion MNIST</td><td>4</td><td> 32</td><td> 28618</td><td>0.9008</td><td>0.8524</td><td>0.1772</td><td>0.3704</td><td>0.6143</td><td>0.7292</td><td>0.7382</td><td>0.7630</td><td>0.7962</td></tr>\n",
       "\t<tr><td>Fashion MNIST</td><td>4</td><td> 64</td><td> 63370</td><td>0.9103</td><td>0.8711</td><td>0.2066</td><td>0.6412</td><td>0.7539</td><td>0.7281</td><td>0.8122</td><td>0.8344</td><td>0.8390</td></tr>\n",
       "\t<tr><td>Fashion MNIST</td><td>4</td><td>128</td><td>151306</td><td>0.9203</td><td>0.8750</td><td>0.4612</td><td>0.7616</td><td>0.8276</td><td>0.8376</td><td>0.8429</td><td>0.8458</td><td>0.8540</td></tr>\n",
       "</tbody>\n",
       "</table>\n"
      ],
      "text/latex": [
       "A tibble: 24 × 13\n",
       "\\begin{tabular}{lllllllllllll}\n",
       " ...1 & ...2 & ...3 & Nodes & Train & Test & 2 & 3 & 4 & 5 & 6 & 7 & 8\\\\\n",
       " <chr> & <dbl> & <dbl> & <dbl> & <dbl> & <dbl> & <dbl> & <dbl> & <dbl> & <dbl> & <dbl> & <dbl> & <dbl>\\\\\n",
       "\\hline\n",
       "\t Fashion MNIST & 1 &   4 &   3190 & 0.8385 & 0.8149 & 0.2898 & 0.4202 & 0.5323 & 0.5775 & 0.6492 & 0.5986 & 0.6139\\\\\n",
       "\t Fashion MNIST & 1 &   8 &   6370 & 0.8734 & 0.8440 & 0.3988 & 0.5780 & 0.6824 & 0.7096 & 0.6675 & 0.6691 & 0.7479\\\\\n",
       "\t Fashion MNIST & 1 &  16 &  12730 & 0.8911 & 0.8544 & 0.3787 & 0.5922 & 0.6602 & 0.7190 & 0.7187 & 0.7893 & 0.7467\\\\\n",
       "\t Fashion MNIST & 1 &  32 &  25450 & 0.9038 & 0.8579 & 0.6079 & 0.6076 & 0.6933 & 0.7173 & 0.7473 & 0.7769 & 0.7738\\\\\n",
       "\t Fashion MNIST & 1 &  64 &  50890 & 0.9128 & 0.8696 & 0.6433 & 0.7607 & 0.7878 & 0.7669 & 0.7947 & 0.7945 & 0.8173\\\\\n",
       "\t Fashion MNIST & 1 & 128 & 101770 & 0.9191 & 0.8693 & 0.6456 & 0.7844 & 0.8274 & 0.8405 & 0.8318 & 0.8561 & 0.8499\\\\\n",
       "\t Fashion MNIST & 2 &   4 &   3210 & 0.7944 & 0.7867 & 0.3205 & 0.2245 & 0.1861 & 0.4701 & 0.4811 & 0.6769 & 0.5635\\\\\n",
       "\t Fashion MNIST & 2 &   8 &   6442 & 0.8697 & 0.8282 & 0.1720 & 0.4982 & 0.6273 & 0.5814 & 0.6469 & 0.6893 & 0.6996\\\\\n",
       "\t Fashion MNIST & 2 &  16 &  13002 & 0.8889 & 0.8583 & 0.2512 & 0.5933 & 0.6172 & 0.6964 & 0.7467 & 0.7193 & 0.7749\\\\\n",
       "\t Fashion MNIST & 2 &  32 &  26506 & 0.9019 & 0.8597 & 0.3454 & 0.5128 & 0.5989 & 0.7116 & 0.7246 & 0.7572 & 0.7175\\\\\n",
       "\t Fashion MNIST & 2 &  64 &  55050 & 0.9152 & 0.8673 & 0.5260 & 0.6860 & 0.7592 & 0.8120 & 0.8149 & 0.8104 & 0.8351\\\\\n",
       "\t Fashion MNIST & 2 & 128 & 118282 & 0.9218 & 0.8740 & 0.7105 & 0.8141 & 0.8324 & 0.8393 & 0.8380 & 0.8336 & 0.8379\\\\\n",
       "\t Fashion MNIST & 3 &   4 &   3230 & 0.7724 & 0.7611 & 0.1840 & 0.2549 & 0.3082 & 0.3730 & 0.3719 & 0.4062 & 0.4362\\\\\n",
       "\t Fashion MNIST & 3 &   8 &   6514 & 0.8572 & 0.8343 & 0.2329 & 0.3421 & 0.4311 & 0.4504 & 0.5763 & 0.6343 & 0.6513\\\\\n",
       "\t Fashion MNIST & 3 &  16 &  13274 & 0.8903 & 0.8606 & 0.1347 & 0.3424 & 0.5999 & 0.6518 & 0.7277 & 0.7738 & 0.8055\\\\\n",
       "\t Fashion MNIST & 3 &  32 &  27562 & 0.9016 & 0.8607 & 0.3586 & 0.6379 & 0.7094 & 0.7822 & 0.7986 & 0.8090 & 0.8279\\\\\n",
       "\t Fashion MNIST & 3 &  64 &  59210 & 0.9118 & 0.8716 & 0.5299 & 0.7236 & 0.7746 & 0.7971 & 0.8160 & 0.8374 & 0.8425\\\\\n",
       "\t Fashion MNIST & 3 & 128 & 134794 & 0.9213 & 0.8764 & 0.5874 & 0.7936 & 0.8156 & 0.8311 & 0.8420 & 0.8308 & 0.8355\\\\\n",
       "\t Fashion MNIST & 4 &   4 &   3250 & 0.7447 & 0.7623 & 0.1006 & 0.1472 & 0.2077 & 0.3527 & 0.3357 & 0.3935 & 0.5627\\\\\n",
       "\t Fashion MNIST & 4 &   8 &   6586 & 0.8616 & 0.8291 & 0.1007 & 0.1892 & 0.1755 & 0.3940 & 0.5361 & 0.5312 & 0.5506\\\\\n",
       "\t Fashion MNIST & 4 &  16 &  13546 & 0.8851 & 0.8539 & 0.2753 & 0.3354 & 0.4488 & 0.5626 & 0.6747 & 0.6837 & 0.6829\\\\\n",
       "\t Fashion MNIST & 4 &  32 &  28618 & 0.9008 & 0.8524 & 0.1772 & 0.3704 & 0.6143 & 0.7292 & 0.7382 & 0.7630 & 0.7962\\\\\n",
       "\t Fashion MNIST & 4 &  64 &  63370 & 0.9103 & 0.8711 & 0.2066 & 0.6412 & 0.7539 & 0.7281 & 0.8122 & 0.8344 & 0.8390\\\\\n",
       "\t Fashion MNIST & 4 & 128 & 151306 & 0.9203 & 0.8750 & 0.4612 & 0.7616 & 0.8276 & 0.8376 & 0.8429 & 0.8458 & 0.8540\\\\\n",
       "\\end{tabular}\n"
      ],
      "text/markdown": [
       "\n",
       "A tibble: 24 × 13\n",
       "\n",
       "| ...1 &lt;chr&gt; | ...2 &lt;dbl&gt; | ...3 &lt;dbl&gt; | Nodes &lt;dbl&gt; | Train &lt;dbl&gt; | Test &lt;dbl&gt; | 2 &lt;dbl&gt; | 3 &lt;dbl&gt; | 4 &lt;dbl&gt; | 5 &lt;dbl&gt; | 6 &lt;dbl&gt; | 7 &lt;dbl&gt; | 8 &lt;dbl&gt; |\n",
       "|---|---|---|---|---|---|---|---|---|---|---|---|---|\n",
       "| Fashion MNIST | 1 |   4 |   3190 | 0.8385 | 0.8149 | 0.2898 | 0.4202 | 0.5323 | 0.5775 | 0.6492 | 0.5986 | 0.6139 |\n",
       "| Fashion MNIST | 1 |   8 |   6370 | 0.8734 | 0.8440 | 0.3988 | 0.5780 | 0.6824 | 0.7096 | 0.6675 | 0.6691 | 0.7479 |\n",
       "| Fashion MNIST | 1 |  16 |  12730 | 0.8911 | 0.8544 | 0.3787 | 0.5922 | 0.6602 | 0.7190 | 0.7187 | 0.7893 | 0.7467 |\n",
       "| Fashion MNIST | 1 |  32 |  25450 | 0.9038 | 0.8579 | 0.6079 | 0.6076 | 0.6933 | 0.7173 | 0.7473 | 0.7769 | 0.7738 |\n",
       "| Fashion MNIST | 1 |  64 |  50890 | 0.9128 | 0.8696 | 0.6433 | 0.7607 | 0.7878 | 0.7669 | 0.7947 | 0.7945 | 0.8173 |\n",
       "| Fashion MNIST | 1 | 128 | 101770 | 0.9191 | 0.8693 | 0.6456 | 0.7844 | 0.8274 | 0.8405 | 0.8318 | 0.8561 | 0.8499 |\n",
       "| Fashion MNIST | 2 |   4 |   3210 | 0.7944 | 0.7867 | 0.3205 | 0.2245 | 0.1861 | 0.4701 | 0.4811 | 0.6769 | 0.5635 |\n",
       "| Fashion MNIST | 2 |   8 |   6442 | 0.8697 | 0.8282 | 0.1720 | 0.4982 | 0.6273 | 0.5814 | 0.6469 | 0.6893 | 0.6996 |\n",
       "| Fashion MNIST | 2 |  16 |  13002 | 0.8889 | 0.8583 | 0.2512 | 0.5933 | 0.6172 | 0.6964 | 0.7467 | 0.7193 | 0.7749 |\n",
       "| Fashion MNIST | 2 |  32 |  26506 | 0.9019 | 0.8597 | 0.3454 | 0.5128 | 0.5989 | 0.7116 | 0.7246 | 0.7572 | 0.7175 |\n",
       "| Fashion MNIST | 2 |  64 |  55050 | 0.9152 | 0.8673 | 0.5260 | 0.6860 | 0.7592 | 0.8120 | 0.8149 | 0.8104 | 0.8351 |\n",
       "| Fashion MNIST | 2 | 128 | 118282 | 0.9218 | 0.8740 | 0.7105 | 0.8141 | 0.8324 | 0.8393 | 0.8380 | 0.8336 | 0.8379 |\n",
       "| Fashion MNIST | 3 |   4 |   3230 | 0.7724 | 0.7611 | 0.1840 | 0.2549 | 0.3082 | 0.3730 | 0.3719 | 0.4062 | 0.4362 |\n",
       "| Fashion MNIST | 3 |   8 |   6514 | 0.8572 | 0.8343 | 0.2329 | 0.3421 | 0.4311 | 0.4504 | 0.5763 | 0.6343 | 0.6513 |\n",
       "| Fashion MNIST | 3 |  16 |  13274 | 0.8903 | 0.8606 | 0.1347 | 0.3424 | 0.5999 | 0.6518 | 0.7277 | 0.7738 | 0.8055 |\n",
       "| Fashion MNIST | 3 |  32 |  27562 | 0.9016 | 0.8607 | 0.3586 | 0.6379 | 0.7094 | 0.7822 | 0.7986 | 0.8090 | 0.8279 |\n",
       "| Fashion MNIST | 3 |  64 |  59210 | 0.9118 | 0.8716 | 0.5299 | 0.7236 | 0.7746 | 0.7971 | 0.8160 | 0.8374 | 0.8425 |\n",
       "| Fashion MNIST | 3 | 128 | 134794 | 0.9213 | 0.8764 | 0.5874 | 0.7936 | 0.8156 | 0.8311 | 0.8420 | 0.8308 | 0.8355 |\n",
       "| Fashion MNIST | 4 |   4 |   3250 | 0.7447 | 0.7623 | 0.1006 | 0.1472 | 0.2077 | 0.3527 | 0.3357 | 0.3935 | 0.5627 |\n",
       "| Fashion MNIST | 4 |   8 |   6586 | 0.8616 | 0.8291 | 0.1007 | 0.1892 | 0.1755 | 0.3940 | 0.5361 | 0.5312 | 0.5506 |\n",
       "| Fashion MNIST | 4 |  16 |  13546 | 0.8851 | 0.8539 | 0.2753 | 0.3354 | 0.4488 | 0.5626 | 0.6747 | 0.6837 | 0.6829 |\n",
       "| Fashion MNIST | 4 |  32 |  28618 | 0.9008 | 0.8524 | 0.1772 | 0.3704 | 0.6143 | 0.7292 | 0.7382 | 0.7630 | 0.7962 |\n",
       "| Fashion MNIST | 4 |  64 |  63370 | 0.9103 | 0.8711 | 0.2066 | 0.6412 | 0.7539 | 0.7281 | 0.8122 | 0.8344 | 0.8390 |\n",
       "| Fashion MNIST | 4 | 128 | 151306 | 0.9203 | 0.8750 | 0.4612 | 0.7616 | 0.8276 | 0.8376 | 0.8429 | 0.8458 | 0.8540 |\n",
       "\n"
      ],
      "text/plain": [
       "   ...1          ...2 ...3 Nodes  Train  Test   2      3      4      5     \n",
       "1  Fashion MNIST 1      4    3190 0.8385 0.8149 0.2898 0.4202 0.5323 0.5775\n",
       "2  Fashion MNIST 1      8    6370 0.8734 0.8440 0.3988 0.5780 0.6824 0.7096\n",
       "3  Fashion MNIST 1     16   12730 0.8911 0.8544 0.3787 0.5922 0.6602 0.7190\n",
       "4  Fashion MNIST 1     32   25450 0.9038 0.8579 0.6079 0.6076 0.6933 0.7173\n",
       "5  Fashion MNIST 1     64   50890 0.9128 0.8696 0.6433 0.7607 0.7878 0.7669\n",
       "6  Fashion MNIST 1    128  101770 0.9191 0.8693 0.6456 0.7844 0.8274 0.8405\n",
       "7  Fashion MNIST 2      4    3210 0.7944 0.7867 0.3205 0.2245 0.1861 0.4701\n",
       "8  Fashion MNIST 2      8    6442 0.8697 0.8282 0.1720 0.4982 0.6273 0.5814\n",
       "9  Fashion MNIST 2     16   13002 0.8889 0.8583 0.2512 0.5933 0.6172 0.6964\n",
       "10 Fashion MNIST 2     32   26506 0.9019 0.8597 0.3454 0.5128 0.5989 0.7116\n",
       "11 Fashion MNIST 2     64   55050 0.9152 0.8673 0.5260 0.6860 0.7592 0.8120\n",
       "12 Fashion MNIST 2    128  118282 0.9218 0.8740 0.7105 0.8141 0.8324 0.8393\n",
       "13 Fashion MNIST 3      4    3230 0.7724 0.7611 0.1840 0.2549 0.3082 0.3730\n",
       "14 Fashion MNIST 3      8    6514 0.8572 0.8343 0.2329 0.3421 0.4311 0.4504\n",
       "15 Fashion MNIST 3     16   13274 0.8903 0.8606 0.1347 0.3424 0.5999 0.6518\n",
       "16 Fashion MNIST 3     32   27562 0.9016 0.8607 0.3586 0.6379 0.7094 0.7822\n",
       "17 Fashion MNIST 3     64   59210 0.9118 0.8716 0.5299 0.7236 0.7746 0.7971\n",
       "18 Fashion MNIST 3    128  134794 0.9213 0.8764 0.5874 0.7936 0.8156 0.8311\n",
       "19 Fashion MNIST 4      4    3250 0.7447 0.7623 0.1006 0.1472 0.2077 0.3527\n",
       "20 Fashion MNIST 4      8    6586 0.8616 0.8291 0.1007 0.1892 0.1755 0.3940\n",
       "21 Fashion MNIST 4     16   13546 0.8851 0.8539 0.2753 0.3354 0.4488 0.5626\n",
       "22 Fashion MNIST 4     32   28618 0.9008 0.8524 0.1772 0.3704 0.6143 0.7292\n",
       "23 Fashion MNIST 4     64   63370 0.9103 0.8711 0.2066 0.6412 0.7539 0.7281\n",
       "24 Fashion MNIST 4    128  151306 0.9203 0.8750 0.4612 0.7616 0.8276 0.8376\n",
       "   6      7      8     \n",
       "1  0.6492 0.5986 0.6139\n",
       "2  0.6675 0.6691 0.7479\n",
       "3  0.7187 0.7893 0.7467\n",
       "4  0.7473 0.7769 0.7738\n",
       "5  0.7947 0.7945 0.8173\n",
       "6  0.8318 0.8561 0.8499\n",
       "7  0.4811 0.6769 0.5635\n",
       "8  0.6469 0.6893 0.6996\n",
       "9  0.7467 0.7193 0.7749\n",
       "10 0.7246 0.7572 0.7175\n",
       "11 0.8149 0.8104 0.8351\n",
       "12 0.8380 0.8336 0.8379\n",
       "13 0.3719 0.4062 0.4362\n",
       "14 0.5763 0.6343 0.6513\n",
       "15 0.7277 0.7738 0.8055\n",
       "16 0.7986 0.8090 0.8279\n",
       "17 0.8160 0.8374 0.8425\n",
       "18 0.8420 0.8308 0.8355\n",
       "19 0.3357 0.3935 0.5627\n",
       "20 0.5361 0.5312 0.5506\n",
       "21 0.6747 0.6837 0.6829\n",
       "22 0.7382 0.7630 0.7962\n",
       "23 0.8122 0.8344 0.8390\n",
       "24 0.8429 0.8458 0.8540"
      ]
     },
     "metadata": {},
     "output_type": "display_data"
    }
   ],
   "source": [
    "read_excel(\"results.xlsx\", sheet = \"Fashion MNIST Non-convolutional\", col_names = TRUE, skip = 1)"
   ]
  },
  {
   "cell_type": "code",
   "execution_count": 35,
   "metadata": {
    "vscode": {
     "languageId": "r"
    }
   },
   "outputs": [
    {
     "name": "stderr",
     "output_type": "stream",
     "text": [
      "\u001b[1m\u001b[22mNew names:\n",
      "\u001b[36m•\u001b[39m `` -> `...1`\n"
     ]
    },
    {
     "data": {
      "text/html": [
       "<table class=\"dataframe\">\n",
       "<caption>A tibble: 3 × 15</caption>\n",
       "<thead>\n",
       "\t<tr><th scope=col>...1</th><th scope=col>x</th><th scope=col>i</th><th scope=col>j</th><th scope=col>k</th><th scope=col>Nodes</th><th scope=col>Train</th><th scope=col>Test</th><th scope=col>2</th><th scope=col>3</th><th scope=col>4</th><th scope=col>5</th><th scope=col>6</th><th scope=col>7</th><th scope=col>8</th></tr>\n",
       "\t<tr><th scope=col>&lt;chr&gt;</th><th scope=col>&lt;dbl&gt;</th><th scope=col>&lt;dbl&gt;</th><th scope=col>&lt;dbl&gt;</th><th scope=col>&lt;dbl&gt;</th><th scope=col>&lt;dbl&gt;</th><th scope=col>&lt;dbl&gt;</th><th scope=col>&lt;dbl&gt;</th><th scope=col>&lt;dbl&gt;</th><th scope=col>&lt;dbl&gt;</th><th scope=col>&lt;dbl&gt;</th><th scope=col>&lt;dbl&gt;</th><th scope=col>&lt;dbl&gt;</th><th scope=col>&lt;dbl&gt;</th><th scope=col>&lt;dbl&gt;</th></tr>\n",
       "</thead>\n",
       "<tbody>\n",
       "\t<tr><td>MNIST</td><td>1</td><td>8</td><td>2</td><td> 4</td><td> 5542</td><td>0.9662</td><td>0.9474</td><td>0.1152</td><td>0.5113</td><td>0.6171</td><td>0.5766</td><td>0.6997</td><td>0.8856</td><td>0.7970</td></tr>\n",
       "\t<tr><td>MNIST</td><td>1</td><td>8</td><td>2</td><td> 8</td><td>10994</td><td>0.9904</td><td>0.9746</td><td>0.1471</td><td>0.5025</td><td>0.5114</td><td>0.8394</td><td>0.6847</td><td>0.8205</td><td>0.9161</td></tr>\n",
       "\t<tr><td>MNIST</td><td>1</td><td>8</td><td>2</td><td>16</td><td>21898</td><td>0.9940</td><td>0.9776</td><td>0.1651</td><td>0.5801</td><td>0.5181</td><td>0.5092</td><td>0.8469</td><td>0.8794</td><td>0.8614</td></tr>\n",
       "</tbody>\n",
       "</table>\n"
      ],
      "text/latex": [
       "A tibble: 3 × 15\n",
       "\\begin{tabular}{lllllllllllllll}\n",
       " ...1 & x & i & j & k & Nodes & Train & Test & 2 & 3 & 4 & 5 & 6 & 7 & 8\\\\\n",
       " <chr> & <dbl> & <dbl> & <dbl> & <dbl> & <dbl> & <dbl> & <dbl> & <dbl> & <dbl> & <dbl> & <dbl> & <dbl> & <dbl> & <dbl>\\\\\n",
       "\\hline\n",
       "\t MNIST & 1 & 8 & 2 &  4 &  5542 & 0.9662 & 0.9474 & 0.1152 & 0.5113 & 0.6171 & 0.5766 & 0.6997 & 0.8856 & 0.7970\\\\\n",
       "\t MNIST & 1 & 8 & 2 &  8 & 10994 & 0.9904 & 0.9746 & 0.1471 & 0.5025 & 0.5114 & 0.8394 & 0.6847 & 0.8205 & 0.9161\\\\\n",
       "\t MNIST & 1 & 8 & 2 & 16 & 21898 & 0.9940 & 0.9776 & 0.1651 & 0.5801 & 0.5181 & 0.5092 & 0.8469 & 0.8794 & 0.8614\\\\\n",
       "\\end{tabular}\n"
      ],
      "text/markdown": [
       "\n",
       "A tibble: 3 × 15\n",
       "\n",
       "| ...1 &lt;chr&gt; | x &lt;dbl&gt; | i &lt;dbl&gt; | j &lt;dbl&gt; | k &lt;dbl&gt; | Nodes &lt;dbl&gt; | Train &lt;dbl&gt; | Test &lt;dbl&gt; | 2 &lt;dbl&gt; | 3 &lt;dbl&gt; | 4 &lt;dbl&gt; | 5 &lt;dbl&gt; | 6 &lt;dbl&gt; | 7 &lt;dbl&gt; | 8 &lt;dbl&gt; |\n",
       "|---|---|---|---|---|---|---|---|---|---|---|---|---|---|---|\n",
       "| MNIST | 1 | 8 | 2 |  4 |  5542 | 0.9662 | 0.9474 | 0.1152 | 0.5113 | 0.6171 | 0.5766 | 0.6997 | 0.8856 | 0.7970 |\n",
       "| MNIST | 1 | 8 | 2 |  8 | 10994 | 0.9904 | 0.9746 | 0.1471 | 0.5025 | 0.5114 | 0.8394 | 0.6847 | 0.8205 | 0.9161 |\n",
       "| MNIST | 1 | 8 | 2 | 16 | 21898 | 0.9940 | 0.9776 | 0.1651 | 0.5801 | 0.5181 | 0.5092 | 0.8469 | 0.8794 | 0.8614 |\n",
       "\n"
      ],
      "text/plain": [
       "  ...1  x i j k  Nodes Train  Test   2      3      4      5      6      7     \n",
       "1 MNIST 1 8 2  4  5542 0.9662 0.9474 0.1152 0.5113 0.6171 0.5766 0.6997 0.8856\n",
       "2 MNIST 1 8 2  8 10994 0.9904 0.9746 0.1471 0.5025 0.5114 0.8394 0.6847 0.8205\n",
       "3 MNIST 1 8 2 16 21898 0.9940 0.9776 0.1651 0.5801 0.5181 0.5092 0.8469 0.8794\n",
       "  8     \n",
       "1 0.7970\n",
       "2 0.9161\n",
       "3 0.8614"
      ]
     },
     "metadata": {},
     "output_type": "display_data"
    }
   ],
   "source": [
    "read_excel(\"results.xlsx\", n_max = 3, sheet = 2, col_names = TRUE, skip = 1)"
   ]
  },
  {
   "cell_type": "code",
   "execution_count": 36,
   "metadata": {
    "vscode": {
     "languageId": "r"
    }
   },
   "outputs": [
    {
     "name": "stderr",
     "output_type": "stream",
     "text": [
      "\u001b[1m\u001b[22mNew names:\n",
      "\u001b[36m•\u001b[39m `` -> `...1`\n",
      "\u001b[36m•\u001b[39m `` -> `...2`\n"
     ]
    },
    {
     "data": {
      "text/html": [
       "<table class=\"dataframe\">\n",
       "<caption>A tibble: 24 × 3</caption>\n",
       "<thead>\n",
       "\t<tr><th scope=col>...1</th><th scope=col>...2</th><th scope=col>Nodes</th></tr>\n",
       "\t<tr><th scope=col>&lt;dbl&gt;</th><th scope=col>&lt;dbl&gt;</th><th scope=col>&lt;dbl&gt;</th></tr>\n",
       "</thead>\n",
       "<tbody>\n",
       "\t<tr><td>1</td><td>  4</td><td>  3190</td></tr>\n",
       "\t<tr><td>1</td><td>  8</td><td>  6370</td></tr>\n",
       "\t<tr><td>1</td><td> 16</td><td> 12730</td></tr>\n",
       "\t<tr><td>1</td><td> 32</td><td> 25450</td></tr>\n",
       "\t<tr><td>1</td><td> 64</td><td> 50890</td></tr>\n",
       "\t<tr><td>1</td><td>128</td><td>101770</td></tr>\n",
       "\t<tr><td>2</td><td>  4</td><td>  3210</td></tr>\n",
       "\t<tr><td>2</td><td>  8</td><td>  6442</td></tr>\n",
       "\t<tr><td>2</td><td> 16</td><td> 13002</td></tr>\n",
       "\t<tr><td>2</td><td> 32</td><td> 26506</td></tr>\n",
       "\t<tr><td>2</td><td> 64</td><td> 55050</td></tr>\n",
       "\t<tr><td>2</td><td>128</td><td>118282</td></tr>\n",
       "\t<tr><td>3</td><td>  4</td><td>  3230</td></tr>\n",
       "\t<tr><td>3</td><td>  8</td><td>  6514</td></tr>\n",
       "\t<tr><td>3</td><td> 16</td><td> 13274</td></tr>\n",
       "\t<tr><td>3</td><td> 32</td><td> 27562</td></tr>\n",
       "\t<tr><td>3</td><td> 64</td><td> 59210</td></tr>\n",
       "\t<tr><td>3</td><td>128</td><td>134794</td></tr>\n",
       "\t<tr><td>4</td><td>  4</td><td>  3250</td></tr>\n",
       "\t<tr><td>4</td><td>  8</td><td>  6586</td></tr>\n",
       "\t<tr><td>4</td><td> 16</td><td> 13546</td></tr>\n",
       "\t<tr><td>4</td><td> 32</td><td> 28618</td></tr>\n",
       "\t<tr><td>4</td><td> 64</td><td> 63370</td></tr>\n",
       "\t<tr><td>4</td><td>128</td><td>151306</td></tr>\n",
       "</tbody>\n",
       "</table>\n"
      ],
      "text/latex": [
       "A tibble: 24 × 3\n",
       "\\begin{tabular}{lll}\n",
       " ...1 & ...2 & Nodes\\\\\n",
       " <dbl> & <dbl> & <dbl>\\\\\n",
       "\\hline\n",
       "\t 1 &   4 &   3190\\\\\n",
       "\t 1 &   8 &   6370\\\\\n",
       "\t 1 &  16 &  12730\\\\\n",
       "\t 1 &  32 &  25450\\\\\n",
       "\t 1 &  64 &  50890\\\\\n",
       "\t 1 & 128 & 101770\\\\\n",
       "\t 2 &   4 &   3210\\\\\n",
       "\t 2 &   8 &   6442\\\\\n",
       "\t 2 &  16 &  13002\\\\\n",
       "\t 2 &  32 &  26506\\\\\n",
       "\t 2 &  64 &  55050\\\\\n",
       "\t 2 & 128 & 118282\\\\\n",
       "\t 3 &   4 &   3230\\\\\n",
       "\t 3 &   8 &   6514\\\\\n",
       "\t 3 &  16 &  13274\\\\\n",
       "\t 3 &  32 &  27562\\\\\n",
       "\t 3 &  64 &  59210\\\\\n",
       "\t 3 & 128 & 134794\\\\\n",
       "\t 4 &   4 &   3250\\\\\n",
       "\t 4 &   8 &   6586\\\\\n",
       "\t 4 &  16 &  13546\\\\\n",
       "\t 4 &  32 &  28618\\\\\n",
       "\t 4 &  64 &  63370\\\\\n",
       "\t 4 & 128 & 151306\\\\\n",
       "\\end{tabular}\n"
      ],
      "text/markdown": [
       "\n",
       "A tibble: 24 × 3\n",
       "\n",
       "| ...1 &lt;dbl&gt; | ...2 &lt;dbl&gt; | Nodes &lt;dbl&gt; |\n",
       "|---|---|---|\n",
       "| 1 |   4 |   3190 |\n",
       "| 1 |   8 |   6370 |\n",
       "| 1 |  16 |  12730 |\n",
       "| 1 |  32 |  25450 |\n",
       "| 1 |  64 |  50890 |\n",
       "| 1 | 128 | 101770 |\n",
       "| 2 |   4 |   3210 |\n",
       "| 2 |   8 |   6442 |\n",
       "| 2 |  16 |  13002 |\n",
       "| 2 |  32 |  26506 |\n",
       "| 2 |  64 |  55050 |\n",
       "| 2 | 128 | 118282 |\n",
       "| 3 |   4 |   3230 |\n",
       "| 3 |   8 |   6514 |\n",
       "| 3 |  16 |  13274 |\n",
       "| 3 |  32 |  27562 |\n",
       "| 3 |  64 |  59210 |\n",
       "| 3 | 128 | 134794 |\n",
       "| 4 |   4 |   3250 |\n",
       "| 4 |   8 |   6586 |\n",
       "| 4 |  16 |  13546 |\n",
       "| 4 |  32 |  28618 |\n",
       "| 4 |  64 |  63370 |\n",
       "| 4 | 128 | 151306 |\n",
       "\n"
      ],
      "text/plain": [
       "   ...1 ...2 Nodes \n",
       "1  1      4    3190\n",
       "2  1      8    6370\n",
       "3  1     16   12730\n",
       "4  1     32   25450\n",
       "5  1     64   50890\n",
       "6  1    128  101770\n",
       "7  2      4    3210\n",
       "8  2      8    6442\n",
       "9  2     16   13002\n",
       "10 2     32   26506\n",
       "11 2     64   55050\n",
       "12 2    128  118282\n",
       "13 3      4    3230\n",
       "14 3      8    6514\n",
       "15 3     16   13274\n",
       "16 3     32   27562\n",
       "17 3     64   59210\n",
       "18 3    128  134794\n",
       "19 4      4    3250\n",
       "20 4      8    6586\n",
       "21 4     16   13546\n",
       "22 4     32   28618\n",
       "23 4     64   63370\n",
       "24 4    128  151306"
      ]
     },
     "metadata": {},
     "output_type": "display_data"
    }
   ],
   "source": [
    "read_excel(\"results.xlsx\", range = cell_cols(\"B:D\"), col_names = TRUE, skip = 1)"
   ]
  },
  {
   "cell_type": "code",
   "execution_count": 37,
   "metadata": {
    "vscode": {
     "languageId": "r"
    }
   },
   "outputs": [
    {
     "name": "stderr",
     "output_type": "stream",
     "text": [
      "\u001b[1m\u001b[22mNew names:\n",
      "\u001b[36m•\u001b[39m `` -> `...1`\n",
      "\u001b[36m•\u001b[39m `` -> `...2`\n",
      "\u001b[36m•\u001b[39m `` -> `...3`\n"
     ]
    },
    {
     "data": {
      "text/html": [
       "<table class=\"dataframe\">\n",
       "<caption>A tibble: 3 × 3</caption>\n",
       "<thead>\n",
       "\t<tr><th scope=col>...1</th><th scope=col>...2</th><th scope=col>...3</th></tr>\n",
       "\t<tr><th scope=col>&lt;dbl&gt;</th><th scope=col>&lt;chr&gt;</th><th scope=col>&lt;chr&gt;</th></tr>\n",
       "</thead>\n",
       "<tbody>\n",
       "\t<tr><td>NA</td><td>Nodes</td><td>Train </td></tr>\n",
       "\t<tr><td> 4</td><td>3190 </td><td>0.8783</td></tr>\n",
       "\t<tr><td> 8</td><td>6370 </td><td>0.9274</td></tr>\n",
       "</tbody>\n",
       "</table>\n"
      ],
      "text/latex": [
       "A tibble: 3 × 3\n",
       "\\begin{tabular}{lll}\n",
       " ...1 & ...2 & ...3\\\\\n",
       " <dbl> & <chr> & <chr>\\\\\n",
       "\\hline\n",
       "\t NA & Nodes & Train \\\\\n",
       "\t  4 & 3190  & 0.8783\\\\\n",
       "\t  8 & 6370  & 0.9274\\\\\n",
       "\\end{tabular}\n"
      ],
      "text/markdown": [
       "\n",
       "A tibble: 3 × 3\n",
       "\n",
       "| ...1 &lt;dbl&gt; | ...2 &lt;chr&gt; | ...3 &lt;chr&gt; |\n",
       "|---|---|---|\n",
       "| NA | Nodes | Train  |\n",
       "|  4 | 3190  | 0.8783 |\n",
       "|  8 | 6370  | 0.9274 |\n",
       "\n"
      ],
      "text/plain": [
       "  ...1 ...2  ...3  \n",
       "1 NA   Nodes Train \n",
       "2  4   3190  0.8783\n",
       "3  8   6370  0.9274"
      ]
     },
     "metadata": {},
     "output_type": "display_data"
    }
   ],
   "source": [
    "read_excel(\"results.xlsx\", range = \"C1:E4\", col_names = TRUE, skip = 1)"
   ]
  },
  {
   "cell_type": "code",
   "execution_count": 39,
   "metadata": {
    "vscode": {
     "languageId": "r"
    }
   },
   "outputs": [],
   "source": [
    "#install.packages(\"writexl\")\n",
    "library(\"writexl\")\n",
    "\n",
    "write_xlsx(data, \"results_out.xlsx\")"
   ]
  },
  {
   "cell_type": "code",
   "execution_count": 40,
   "metadata": {
    "vscode": {
     "languageId": "r"
    }
   },
   "outputs": [],
   "source": [
    "write_xlsx(list(pag1=data, pag2=data), \"results_out.xlsx\") # Listas para varias solapas..."
   ]
  },
  {
   "cell_type": "code",
   "execution_count": 41,
   "metadata": {
    "vscode": {
     "languageId": "r"
    }
   },
   "outputs": [
    {
     "name": "stderr",
     "output_type": "stream",
     "text": [
      "\u001b[1m\u001b[22mNew names:\n",
      "\u001b[36m•\u001b[39m `` -> `...1`\n",
      "\u001b[36m•\u001b[39m `` -> `...2`\n",
      "\u001b[36m•\u001b[39m `` -> `...3`\n"
     ]
    },
    {
     "data": {
      "image/png": "[encoded data removed]",
      "text/plain": [
       "plot without title"
      ]
     },
     "metadata": {
      "image/png": {
       "height": 420,
       "width": 420
      }
     },
     "output_type": "display_data"
    }
   ],
   "source": [
    "read_xlsx(\"results.xlsx\", sheet=1, col_names = TRUE, skip = 1) %>%\n",
    "    ggplot(aes(x=Train,y=Test)) + geom_point()"
   ]
  },
  {
   "cell_type": "markdown",
   "metadata": {},
   "source": [
    "## Ejercicios input/output\n",
    "1. Pida al usuario que introduzca con el teclado una cadena de caracteres s y un número n e imprima en pantalla n veces la cadena s (sin espacios entre palabras) tal como se ve en el ejemplo (notar que no hay un [1] al principio...).\n",
    ">s=\"hola\", n=3<br/>\n",
    "holaholahola\n",
    "2. Crea tres ficheros llamados `dos.txt`, `tres.txt` y `cinco.txt` que contengan la tabla de 2, 3 y 5 respectivamente (sólo incluye los 10 primeros valores de cada uno, un número en una línea separada, SOLO el número, nada más).\n",
    "3. Escribe las cinco primeras filas de la matriz creada en el último ejercicio en un nuevo fichero llamado `prime.txt` y las cinco últimas en otro fichero llamado `fin.txt`. Ambos ficheros deben tener los datos separados por comas.\n",
    "4. Dados dos números, f y c (dados por el usuario mediante el teclado), cree una figura cuadrada de f filas y c columnas con el carácter \"x\" (sin espacios). Vea a continuación un ejemplo para f=4 y c=3 (notar que no hay espacios en blanco ni [1,] ni cosas raras...):\n",
    "> xxx<br/>\n",
    " xxx<br/>\n",
    " xxx<br/>\n",
    " xxx<br/>\n",
    "5. Cargue la primer y tercera hojas del fichero `resultados.xls` y muestre un gráfico que compare, para los dos datasets, el resultado en entrenamiento y test a medida que aumenta la cantidad de bits utilizados. "
   ]
  }
 ],
 "metadata": {
  "celltoolbar": "Raw Cell Format",
  "kernelspec": {
   "display_name": "R",
   "language": "R",
   "name": "ir"
  },
  "language_info": {
   "codemirror_mode": "r",
   "file_extension": ".r",
   "mimetype": "text/x-r-source",
   "name": "R",
   "pygments_lexer": "r",
   "version": "4.1.2"
  }
 },
 "nbformat": 4,
 "nbformat_minor": 4
}
