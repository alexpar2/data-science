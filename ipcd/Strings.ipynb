{
 "cells": [
  {
   "cell_type": "markdown",
   "metadata": {
    "collapsed": true,
    "jupyter": {
     "outputs_hidden": true
    }
   },
   "source": [
    "# Introducción a la Programación para Ciencia de Datos\n",
    "## Lenguaje de programación R\n",
    "_Rocío Romero Zaliz_ - rocio@decsai.ugr.es"
   ]
  },
  {
   "cell_type": "markdown",
   "metadata": {},
   "source": [
    "# Cadenas de caracteres en R"
   ]
  },
  {
   "cell_type": "markdown",
   "metadata": {},
   "source": [
    "Aunque R es un lenguaje estadístico en el que los vectores numéricos y las matrices desempeñan un papel central, las cadenas de caracteres también son necesarias y R dispone de una serie de utilidades de manipulación de cadenas."
   ]
  },
  {
   "cell_type": "code",
   "execution_count": 1,
   "metadata": {
    "scrolled": true,
    "vscode": {
     "languageId": "r"
    }
   },
   "outputs": [
    {
     "data": {
      "text/html": [
       "'character'"
      ],
      "text/latex": [
       "'character'"
      ],
      "text/markdown": [
       "'character'"
      ],
      "text/plain": [
       "[1] \"character\""
      ]
     },
     "metadata": {},
     "output_type": "display_data"
    }
   ],
   "source": [
    "texto <- \"Ciencia de datos\"\n",
    "class(texto)"
   ]
  },
  {
   "cell_type": "code",
   "execution_count": 2,
   "metadata": {
    "vscode": {
     "languageId": "r"
    }
   },
   "outputs": [
    {
     "data": {
      "text/html": [
       "1"
      ],
      "text/latex": [
       "1"
      ],
      "text/markdown": [
       "1"
      ],
      "text/plain": [
       "[1] 1"
      ]
     },
     "metadata": {},
     "output_type": "display_data"
    }
   ],
   "source": [
    "length(texto)"
   ]
  },
  {
   "cell_type": "code",
   "execution_count": 3,
   "metadata": {
    "vscode": {
     "languageId": "r"
    }
   },
   "outputs": [
    {
     "data": {
      "text/html": [
       "<style>\n",
       ".list-inline {list-style: none; margin:0; padding: 0}\n",
       ".list-inline>li {display: inline-block}\n",
       ".list-inline>li:not(:last-child)::after {content: \"\\00b7\"; padding: 0 .5ex}\n",
       "</style>\n",
       "<ol class=list-inline><li>16</li><li>1</li></ol>\n"
      ],
      "text/latex": [
       "\\begin{enumerate*}\n",
       "\\item 16\n",
       "\\item 1\n",
       "\\end{enumerate*}\n"
      ],
      "text/markdown": [
       "1. 16\n",
       "2. 1\n",
       "\n",
       "\n"
      ],
      "text/plain": [
       "[1] 16  1"
      ]
     },
     "metadata": {},
     "output_type": "display_data"
    }
   ],
   "source": [
    "nchar(c(\"Ciencia de Datos\", \"a\"))"
   ]
  },
  {
   "cell_type": "code",
   "execution_count": 4,
   "metadata": {
    "vscode": {
     "languageId": "r"
    }
   },
   "outputs": [
    {
     "name": "stdout",
     "output_type": "stream",
     "text": [
      " [1] \"\" \"\" \"\" \"\" \"\" \"\" \"\" \"\" \"\" \"\"\n"
     ]
    }
   ],
   "source": [
    "# String construction\n",
    "\n",
    "empty_str <- character(10)\n",
    "print(empty_str)"
   ]
  },
  {
   "cell_type": "code",
   "execution_count": 5,
   "metadata": {
    "vscode": {
     "languageId": "r"
    }
   },
   "outputs": [
    {
     "name": "stdout",
     "output_type": "stream",
     "text": [
      "[1] \"Ciencia de Datos\"\n"
     ]
    }
   ],
   "source": [
    "print(paste(\"Ciencia\", \"de\", \"Datos\"))"
   ]
  },
  {
   "cell_type": "code",
   "execution_count": 6,
   "metadata": {
    "vscode": {
     "languageId": "r"
    }
   },
   "outputs": [
    {
     "data": {
      "text/html": [
       "'Ciencia_|_de_|_Datos'"
      ],
      "text/latex": [
       "'Ciencia\\_\\textbar{}\\_de\\_\\textbar{}\\_Datos'"
      ],
      "text/markdown": [
       "'Ciencia_|_de_|_Datos'"
      ],
      "text/plain": [
       "[1] \"Ciencia_|_de_|_Datos\""
      ]
     },
     "metadata": {},
     "output_type": "display_data"
    }
   ],
   "source": [
    "paste(\"Ciencia\", \"de\", \"Datos\", sep=\"_|_\") "
   ]
  },
  {
   "cell_type": "code",
   "execution_count": 7,
   "metadata": {
    "vscode": {
     "languageId": "r"
    }
   },
   "outputs": [
    {
     "data": {
      "text/html": [
       "<style>\n",
       ".list-inline {list-style: none; margin:0; padding: 0}\n",
       ".list-inline>li {display: inline-block}\n",
       ".list-inline>li:not(:last-child)::after {content: \"\\00b7\"; padding: 0 .5ex}\n",
       "</style>\n",
       "<ol class=list-inline><li>'Ciencia hola cierta'</li><li>'Ciencia mundo cierta'</li></ol>\n"
      ],
      "text/latex": [
       "\\begin{enumerate*}\n",
       "\\item 'Ciencia hola cierta'\n",
       "\\item 'Ciencia mundo cierta'\n",
       "\\end{enumerate*}\n"
      ],
      "text/markdown": [
       "1. 'Ciencia hola cierta'\n",
       "2. 'Ciencia mundo cierta'\n",
       "\n",
       "\n"
      ],
      "text/plain": [
       "[1] \"Ciencia hola cierta\"  \"Ciencia mundo cierta\""
      ]
     },
     "metadata": {},
     "output_type": "display_data"
    }
   ],
   "source": [
    "paste(\"Ciencia\", c(\"hola\", \"mundo\"), \"cierta\")"
   ]
  },
  {
   "cell_type": "code",
   "execution_count": 8,
   "metadata": {
    "vscode": {
     "languageId": "r"
    }
   },
   "outputs": [
    {
     "data": {
      "text/html": [
       "<style>\n",
       ".list-inline {list-style: none; margin:0; padding: 0}\n",
       ".list-inline>li {display: inline-block}\n",
       ".list-inline>li:not(:last-child)::after {content: \"\\00b7\"; padding: 0 .5ex}\n",
       "</style>\n",
       "<ol class=list-inline><li>'1_1'</li><li>'2_2'</li><li>'3_3'</li><li>'1_4'</li><li>'2_5'</li></ol>\n"
      ],
      "text/latex": [
       "\\begin{enumerate*}\n",
       "\\item '1\\_1'\n",
       "\\item '2\\_2'\n",
       "\\item '3\\_3'\n",
       "\\item '1\\_4'\n",
       "\\item '2\\_5'\n",
       "\\end{enumerate*}\n"
      ],
      "text/markdown": [
       "1. '1_1'\n",
       "2. '2_2'\n",
       "3. '3_3'\n",
       "4. '1_4'\n",
       "5. '2_5'\n",
       "\n",
       "\n"
      ],
      "text/plain": [
       "[1] \"1_1\" \"2_2\" \"3_3\" \"1_4\" \"2_5\""
      ]
     },
     "metadata": {},
     "output_type": "display_data"
    }
   ],
   "source": [
    "paste(1:3, 1:5, sep=\"_\") "
   ]
  },
  {
   "cell_type": "code",
   "execution_count": 9,
   "metadata": {
    "vscode": {
     "languageId": "r"
    }
   },
   "outputs": [
    {
     "data": {
      "text/html": [
       "'1_1|2_2|3_3|1_4|2_5'"
      ],
      "text/latex": [
       "'1\\_1\\textbar{}2\\_2\\textbar{}3\\_3\\textbar{}1\\_4\\textbar{}2\\_5'"
      ],
      "text/markdown": [
       "'1_1|2_2|3_3|1_4|2_5'"
      ],
      "text/plain": [
       "[1] \"1_1|2_2|3_3|1_4|2_5\""
      ]
     },
     "metadata": {},
     "output_type": "display_data"
    }
   ],
   "source": [
    "paste(1:3, 1:5, sep=\"_\", collapse=\"|\") "
   ]
  },
  {
   "cell_type": "code",
   "execution_count": null,
   "metadata": {
    "vscode": {
     "languageId": "r"
    }
   },
   "outputs": [],
   "source": [
    "?paste"
   ]
  },
  {
   "cell_type": "markdown",
   "metadata": {},
   "source": [
    "## Ejemplo\n",
    "\n",
    "* Dado un conjunto de datos, anonimizar los nombres de las columnas"
   ]
  },
  {
   "cell_type": "code",
   "execution_count": 10,
   "metadata": {
    "vscode": {
     "languageId": "r"
    }
   },
   "outputs": [
    {
     "data": {
      "text/html": [
       "<table class=\"dataframe\">\n",
       "<caption>A data.frame: 5 × 4</caption>\n",
       "<thead>\n",
       "\t<tr><th scope=col>name</th><th scope=col>lastname</th><th scope=col>gender</th><th scope=col>age</th></tr>\n",
       "\t<tr><th scope=col>&lt;chr&gt;</th><th scope=col>&lt;chr&gt;</th><th scope=col>&lt;fct&gt;</th><th scope=col>&lt;dbl&gt;</th></tr>\n",
       "</thead>\n",
       "<tbody>\n",
       "\t<tr><td>Susan</td><td>Wilson </td><td>F</td><td>23</td></tr>\n",
       "\t<tr><td>Greg </td><td>Gray   </td><td>M</td><td>46</td></tr>\n",
       "\t<tr><td>Amy  </td><td>Sanders</td><td>F</td><td>32</td></tr>\n",
       "\t<tr><td>Laura</td><td>Xeon   </td><td>F</td><td>90</td></tr>\n",
       "\t<tr><td>David</td><td>Rogers </td><td>M</td><td>53</td></tr>\n",
       "</tbody>\n",
       "</table>\n"
      ],
      "text/latex": [
       "A data.frame: 5 × 4\n",
       "\\begin{tabular}{llll}\n",
       " name & lastname & gender & age\\\\\n",
       " <chr> & <chr> & <fct> & <dbl>\\\\\n",
       "\\hline\n",
       "\t Susan & Wilson  & F & 23\\\\\n",
       "\t Greg  & Gray    & M & 46\\\\\n",
       "\t Amy   & Sanders & F & 32\\\\\n",
       "\t Laura & Xeon    & F & 90\\\\\n",
       "\t David & Rogers  & M & 53\\\\\n",
       "\\end{tabular}\n"
      ],
      "text/markdown": [
       "\n",
       "A data.frame: 5 × 4\n",
       "\n",
       "| name &lt;chr&gt; | lastname &lt;chr&gt; | gender &lt;fct&gt; | age &lt;dbl&gt; |\n",
       "|---|---|---|---|\n",
       "| Susan | Wilson  | F | 23 |\n",
       "| Greg  | Gray    | M | 46 |\n",
       "| Amy   | Sanders | F | 32 |\n",
       "| Laura | Xeon    | F | 90 |\n",
       "| David | Rogers  | M | 53 |\n",
       "\n"
      ],
      "text/plain": [
       "  name  lastname gender age\n",
       "1 Susan Wilson   F      23 \n",
       "2 Greg  Gray     M      46 \n",
       "3 Amy   Sanders  F      32 \n",
       "4 Laura Xeon     F      90 \n",
       "5 David Rogers   M      53 "
      ]
     },
     "metadata": {},
     "output_type": "display_data"
    }
   ],
   "source": [
    "data <- data.frame(name = c(\"Susan\", \"Greg\", \"Amy\", \"Laura\", \"David\"), \n",
    "                   lastname = c(\"Wilson\", \"Gray\", \"Sanders\", \"Xeon\", \"Rogers\"), \n",
    "                   gender = factor(c(\"F\", \"M\", \"F\", \"F\", \"M\")), age = c(23, 46, 32, 90, 53))\n",
    "data"
   ]
  },
  {
   "cell_type": "code",
   "execution_count": 11,
   "metadata": {
    "vscode": {
     "languageId": "r"
    }
   },
   "outputs": [
    {
     "data": {
      "text/html": [
       "<style>\n",
       ".list-inline {list-style: none; margin:0; padding: 0}\n",
       ".list-inline>li {display: inline-block}\n",
       ".list-inline>li:not(:last-child)::after {content: \"\\00b7\"; padding: 0 .5ex}\n",
       "</style>\n",
       "<ol class=list-inline><li>'name'</li><li>'lastname'</li><li>'gender'</li><li>'age'</li></ol>\n"
      ],
      "text/latex": [
       "\\begin{enumerate*}\n",
       "\\item 'name'\n",
       "\\item 'lastname'\n",
       "\\item 'gender'\n",
       "\\item 'age'\n",
       "\\end{enumerate*}\n"
      ],
      "text/markdown": [
       "1. 'name'\n",
       "2. 'lastname'\n",
       "3. 'gender'\n",
       "4. 'age'\n",
       "\n",
       "\n"
      ],
      "text/plain": [
       "[1] \"name\"     \"lastname\" \"gender\"   \"age\"     "
      ]
     },
     "metadata": {},
     "output_type": "display_data"
    }
   ],
   "source": [
    "colnames(data)"
   ]
  },
  {
   "cell_type": "code",
   "execution_count": 13,
   "metadata": {
    "vscode": {
     "languageId": "r"
    }
   },
   "outputs": [
    {
     "data": {
      "text/html": [
       "<table class=\"dataframe\">\n",
       "<caption>A data.frame: 5 × 4</caption>\n",
       "<thead>\n",
       "\t<tr><th scope=col>var_1</th><th scope=col>var_2</th><th scope=col>var_3</th><th scope=col>var_4</th></tr>\n",
       "\t<tr><th scope=col>&lt;chr&gt;</th><th scope=col>&lt;chr&gt;</th><th scope=col>&lt;fct&gt;</th><th scope=col>&lt;dbl&gt;</th></tr>\n",
       "</thead>\n",
       "<tbody>\n",
       "\t<tr><td>Susan</td><td>Wilson </td><td>F</td><td>23</td></tr>\n",
       "\t<tr><td>Greg </td><td>Gray   </td><td>M</td><td>46</td></tr>\n",
       "\t<tr><td>Amy  </td><td>Sanders</td><td>F</td><td>32</td></tr>\n",
       "\t<tr><td>Laura</td><td>Xeon   </td><td>F</td><td>90</td></tr>\n",
       "\t<tr><td>David</td><td>Rogers </td><td>M</td><td>53</td></tr>\n",
       "</tbody>\n",
       "</table>\n"
      ],
      "text/latex": [
       "A data.frame: 5 × 4\n",
       "\\begin{tabular}{llll}\n",
       " var\\_1 & var\\_2 & var\\_3 & var\\_4\\\\\n",
       " <chr> & <chr> & <fct> & <dbl>\\\\\n",
       "\\hline\n",
       "\t Susan & Wilson  & F & 23\\\\\n",
       "\t Greg  & Gray    & M & 46\\\\\n",
       "\t Amy   & Sanders & F & 32\\\\\n",
       "\t Laura & Xeon    & F & 90\\\\\n",
       "\t David & Rogers  & M & 53\\\\\n",
       "\\end{tabular}\n"
      ],
      "text/markdown": [
       "\n",
       "A data.frame: 5 × 4\n",
       "\n",
       "| var_1 &lt;chr&gt; | var_2 &lt;chr&gt; | var_3 &lt;fct&gt; | var_4 &lt;dbl&gt; |\n",
       "|---|---|---|---|\n",
       "| Susan | Wilson  | F | 23 |\n",
       "| Greg  | Gray    | M | 46 |\n",
       "| Amy   | Sanders | F | 32 |\n",
       "| Laura | Xeon    | F | 90 |\n",
       "| David | Rogers  | M | 53 |\n",
       "\n"
      ],
      "text/plain": [
       "  var_1 var_2   var_3 var_4\n",
       "1 Susan Wilson  F     23   \n",
       "2 Greg  Gray    M     46   \n",
       "3 Amy   Sanders F     32   \n",
       "4 Laura Xeon    F     90   \n",
       "5 David Rogers  M     53   "
      ]
     },
     "metadata": {},
     "output_type": "display_data"
    }
   ],
   "source": [
    "colnames(data) <- paste(\"var\", 1:dim(data)[2], sep=\"_\")\n",
    "data"
   ]
  },
  {
   "cell_type": "markdown",
   "metadata": {},
   "source": [
    "## Funciones básicas para trabajar con cadenas de caracteres"
   ]
  },
  {
   "cell_type": "code",
   "execution_count": 18,
   "metadata": {
    "vscode": {
     "languageId": "r"
    }
   },
   "outputs": [
    {
     "data": {
      "text/html": [
       "'ienc'"
      ],
      "text/latex": [
       "'ienc'"
      ],
      "text/markdown": [
       "'ienc'"
      ],
      "text/plain": [
       "[1] \"ienc\""
      ]
     },
     "metadata": {},
     "output_type": "display_data"
    }
   ],
   "source": [
    "substr(\"Ciencia de Datos\", 2, 5)"
   ]
  },
  {
   "cell_type": "code",
   "execution_count": 19,
   "metadata": {
    "vscode": {
     "languageId": "r"
    }
   },
   "outputs": [
    {
     "ename": "ERROR",
     "evalue": "Error in substr(\"Ciencia de Datos\", 12): argument \"stop\" is missing, with no default\n",
     "output_type": "error",
     "traceback": [
      "Error in substr(\"Ciencia de Datos\", 12): argument \"stop\" is missing, with no default\nTraceback:\n",
      "1. .handleSimpleError(function (cnd) \n . {\n .     watcher$capture_plot_and_output()\n .     cnd <- sanitize_call(cnd)\n .     watcher$push(cnd)\n .     switch(on_error, continue = invokeRestart(\"eval_continue\"), \n .         stop = invokeRestart(\"eval_stop\"), error = NULL)\n . }, \"argument \\\"stop\\\" is missing, with no default\", base::quote(substr(\"Ciencia de Datos\", \n .     12)))"
     ]
    }
   ],
   "source": [
    "substr(\"Ciencia de Datos\", 12) # Error!"
   ]
  },
  {
   "cell_type": "code",
   "execution_count": 20,
   "metadata": {
    "vscode": {
     "languageId": "r"
    }
   },
   "outputs": [
    {
     "data": {
      "text/html": [
       "<span style=white-space:pre-wrap>'Fri Oct  3 14:16:32 2025'</span>"
      ],
      "text/latex": [
       "'Fri Oct  3 14:16:32 2025'"
      ],
      "text/markdown": [
       "<span style=white-space:pre-wrap>'Fri Oct  3 14:16:32 2025'</span>"
      ],
      "text/plain": [
       "[1] \"Fri Oct  3 14:16:32 2025\""
      ]
     },
     "metadata": {},
     "output_type": "display_data"
    }
   ],
   "source": [
    "date()"
   ]
  },
  {
   "cell_type": "code",
   "execution_count": 21,
   "metadata": {
    "vscode": {
     "languageId": "r"
    }
   },
   "outputs": [
    {
     "data": {
      "text/html": [
       "<style>\n",
       ".list-inline {list-style: none; margin:0; padding: 0}\n",
       ".list-inline>li {display: inline-block}\n",
       ".list-inline>li:not(:last-child)::after {content: \"\\00b7\"; padding: 0 .5ex}\n",
       "</style>\n",
       "<ol class=list-inline><li><span style=white-space:pre-wrap>'Fri Oct  3 14:16:34 2025'</span></li><li>'hola mundo'</li></ol>\n"
      ],
      "text/latex": [
       "\\begin{enumerate*}\n",
       "\\item 'Fri Oct  3 14:16:34 2025'\n",
       "\\item 'hola mundo'\n",
       "\\end{enumerate*}\n"
      ],
      "text/markdown": [
       "1. <span style=white-space:pre-wrap>'Fri Oct  3 14:16:34 2025'</span>\n",
       "2. 'hola mundo'\n",
       "\n",
       "\n"
      ],
      "text/plain": [
       "[1] \"Fri Oct  3 14:16:34 2025\" \"hola mundo\"              "
      ]
     },
     "metadata": {},
     "output_type": "display_data"
    }
   ],
   "source": [
    "c(date(), \"hola mundo\")"
   ]
  },
  {
   "cell_type": "code",
   "execution_count": 22,
   "metadata": {
    "vscode": {
     "languageId": "r"
    }
   },
   "outputs": [
    {
     "name": "stdout",
     "output_type": "stream",
     "text": [
      "[[1]]\n",
      "[1] \"Fri\"      \"Oct\"      \"\"         \"3\"        \"14:16:44\" \"2025\"    \n",
      "\n",
      "[[2]]\n",
      "[1] \"hola\"  \"mundo\"\n",
      "\n"
     ]
    }
   ],
   "source": [
    "print(strsplit(c(date(), \"hola mundo\"), split=\" \"))"
   ]
  },
  {
   "cell_type": "code",
   "execution_count": 23,
   "metadata": {
    "vscode": {
     "languageId": "r"
    }
   },
   "outputs": [
    {
     "data": {
      "text/html": [
       "'list'"
      ],
      "text/latex": [
       "'list'"
      ],
      "text/markdown": [
       "'list'"
      ],
      "text/plain": [
       "[1] \"list\""
      ]
     },
     "metadata": {},
     "output_type": "display_data"
    }
   ],
   "source": [
    "class(strsplit(c(date(), \"hola mundo\"), split=\" \"))"
   ]
  },
  {
   "cell_type": "code",
   "execution_count": 24,
   "metadata": {
    "vscode": {
     "languageId": "r"
    }
   },
   "outputs": [
    {
     "name": "stdout",
     "output_type": "stream",
     "text": [
      "[[1]]\n",
      "[1] \"Est\"   \"es un\" \"frase\"\n",
      "\n",
      "[[2]]\n",
      "[1] \"Est\"    \"es otr\" \"lind\"   \"frase\" \n",
      "\n"
     ]
    }
   ],
   "source": [
    "print(strsplit(c(\"Esta es una frase\", \"Esta es otra linda frase\"), split=\"a \"))"
   ]
  },
  {
   "cell_type": "code",
   "execution_count": 25,
   "metadata": {
    "vscode": {
     "languageId": "r"
    }
   },
   "outputs": [
    {
     "name": "stdout",
     "output_type": "stream",
     "text": [
      "[[1]]\n",
      "[1] \"Esta\"  \"es\"    \"una\"   \"frase\"\n",
      "\n",
      "[[2]]\n",
      "[1] \"Esta \"       \"s otra fras\"\n",
      "\n"
     ]
    }
   ],
   "source": [
    "print(strsplit(c(\"Esta es una frase\", \"Esta es otra frase\"), split=c(\" \", \"e\")))"
   ]
  },
  {
   "cell_type": "markdown",
   "metadata": {},
   "source": [
    "## Ejemplo"
   ]
  },
  {
   "cell_type": "code",
   "execution_count": 26,
   "metadata": {
    "vscode": {
     "languageId": "r"
    }
   },
   "outputs": [
    {
     "name": "stdout",
     "output_type": "stream",
     "text": [
      " [1] \"cadenas_de_caracteres_R_base.r\" \"Data_types.ipynb\"              \n",
      " [3] \"ejercicios_data_frames.r\"       \"ejercicios_factores.r\"         \n",
      " [5] \"ejercicios_gráficos.r\"          \"ejercicios_listas.r\"           \n",
      " [7] \"ejercicios_matrices_y_arrays.r\" \"ejercicios_tidyverse.r\"        \n",
      " [9] \"ejercicios_vectores.r\"          \"Graphs with ggplot.ipynb\"      \n",
      "[11] \"Strings.ipynb\"                  \"Tidyverse.ipynb\"               \n"
     ]
    }
   ],
   "source": [
    "files <- list.files()\n",
    "print(files)"
   ]
  },
  {
   "cell_type": "code",
   "execution_count": 27,
   "metadata": {
    "vscode": {
     "languageId": "r"
    }
   },
   "outputs": [
    {
     "name": "stdout",
     "output_type": "stream",
     "text": [
      "[[1]]\n",
      " [1] \"\" \"\" \"\" \"\" \"\" \"\" \"\" \"\" \"\" \"\" \"\" \"\" \"\" \"\" \"\" \"\" \"\" \"\" \"\" \"\" \"\" \"\" \"\" \"\" \"\"\n",
      "[26] \"\" \"\" \"\" \"\" \"\"\n",
      "\n",
      "[[2]]\n",
      " [1] \"\" \"\" \"\" \"\" \"\" \"\" \"\" \"\" \"\" \"\" \"\" \"\" \"\" \"\" \"\" \"\"\n",
      "\n",
      "[[3]]\n",
      " [1] \"\" \"\" \"\" \"\" \"\" \"\" \"\" \"\" \"\" \"\" \"\" \"\" \"\" \"\" \"\" \"\" \"\" \"\" \"\" \"\" \"\" \"\" \"\" \"\"\n",
      "\n",
      "[[4]]\n",
      " [1] \"\" \"\" \"\" \"\" \"\" \"\" \"\" \"\" \"\" \"\" \"\" \"\" \"\" \"\" \"\" \"\" \"\" \"\" \"\" \"\" \"\"\n",
      "\n",
      "[[5]]\n",
      " [1] \"\" \"\" \"\" \"\" \"\" \"\" \"\" \"\" \"\" \"\" \"\" \"\" \"\" \"\" \"\" \"\" \"\" \"\" \"\" \"\" \"\"\n",
      "\n",
      "[[6]]\n",
      " [1] \"\" \"\" \"\" \"\" \"\" \"\" \"\" \"\" \"\" \"\" \"\" \"\" \"\" \"\" \"\" \"\" \"\" \"\" \"\"\n",
      "\n",
      "[[7]]\n",
      " [1] \"\" \"\" \"\" \"\" \"\" \"\" \"\" \"\" \"\" \"\" \"\" \"\" \"\" \"\" \"\" \"\" \"\" \"\" \"\" \"\" \"\" \"\" \"\" \"\" \"\"\n",
      "[26] \"\" \"\" \"\" \"\" \"\"\n",
      "\n",
      "[[8]]\n",
      " [1] \"\" \"\" \"\" \"\" \"\" \"\" \"\" \"\" \"\" \"\" \"\" \"\" \"\" \"\" \"\" \"\" \"\" \"\" \"\" \"\" \"\" \"\"\n",
      "\n",
      "[[9]]\n",
      " [1] \"\" \"\" \"\" \"\" \"\" \"\" \"\" \"\" \"\" \"\" \"\" \"\" \"\" \"\" \"\" \"\" \"\" \"\" \"\" \"\" \"\"\n",
      "\n",
      "[[10]]\n",
      " [1] \"\" \"\" \"\" \"\" \"\" \"\" \"\" \"\" \"\" \"\" \"\" \"\" \"\" \"\" \"\" \"\" \"\" \"\" \"\" \"\" \"\" \"\" \"\" \"\"\n",
      "\n",
      "[[11]]\n",
      " [1] \"\" \"\" \"\" \"\" \"\" \"\" \"\" \"\" \"\" \"\" \"\" \"\" \"\"\n",
      "\n",
      "[[12]]\n",
      " [1] \"\" \"\" \"\" \"\" \"\" \"\" \"\" \"\" \"\" \"\" \"\" \"\" \"\" \"\" \"\"\n",
      "\n"
     ]
    }
   ],
   "source": [
    "print(strsplit(files, split=\".\"))"
   ]
  },
  {
   "cell_type": "code",
   "execution_count": 28,
   "metadata": {
    "vscode": {
     "languageId": "r"
    }
   },
   "outputs": [
    {
     "name": "stdout",
     "output_type": "stream",
     "text": [
      "[[1]]\n",
      "[1] \"cadenas_de_caracteres_R_base\" \"r\"                           \n",
      "\n",
      "[[2]]\n",
      "[1] \"Data_types\" \"ipynb\"     \n",
      "\n",
      "[[3]]\n",
      "[1] \"ejercicios_data_frames\" \"r\"                     \n",
      "\n",
      "[[4]]\n",
      "[1] \"ejercicios_factores\" \"r\"                  \n",
      "\n",
      "[[5]]\n",
      "[1] \"ejercicios_gráficos\" \"r\"                  \n",
      "\n",
      "[[6]]\n",
      "[1] \"ejercicios_listas\" \"r\"                \n",
      "\n",
      "[[7]]\n",
      "[1] \"ejercicios_matrices_y_arrays\" \"r\"                           \n",
      "\n",
      "[[8]]\n",
      "[1] \"ejercicios_tidyverse\" \"r\"                   \n",
      "\n",
      "[[9]]\n",
      "[1] \"ejercicios_vectores\" \"r\"                  \n",
      "\n",
      "[[10]]\n",
      "[1] \"Graphs with ggplot\" \"ipynb\"             \n",
      "\n",
      "[[11]]\n",
      "[1] \"Strings\" \"ipynb\"  \n",
      "\n",
      "[[12]]\n",
      "[1] \"Tidyverse\" \"ipynb\"    \n",
      "\n"
     ]
    }
   ],
   "source": [
    "print(strsplit(files, split=\"\\\\.\"))"
   ]
  },
  {
   "cell_type": "code",
   "execution_count": 29,
   "metadata": {
    "vscode": {
     "languageId": "r"
    }
   },
   "outputs": [
    {
     "name": "stdout",
     "output_type": "stream",
     "text": [
      " [1] \"cadenas_de_caracteres_R_base\" \"r\"                           \n",
      " [3] \"Data_types\"                   \"ipynb\"                       \n",
      " [5] \"ejercicios_data_frames\"       \"r\"                           \n",
      " [7] \"ejercicios_factores\"          \"r\"                           \n",
      " [9] \"ejercicios_gráficos\"          \"r\"                           \n",
      "[11] \"ejercicios_listas\"            \"r\"                           \n",
      "[13] \"ejercicios_matrices_y_arrays\" \"r\"                           \n",
      "[15] \"ejercicios_tidyverse\"         \"r\"                           \n",
      "[17] \"ejercicios_vectores\"          \"r\"                           \n",
      "[19] \"Graphs with ggplot\"           \"ipynb\"                       \n",
      "[21] \"Strings\"                      \"ipynb\"                       \n",
      "[23] \"Tidyverse\"                    \"ipynb\"                       \n"
     ]
    }
   ],
   "source": [
    "print(unlist(strsplit(files, split=\"\\\\.\")))"
   ]
  },
  {
   "cell_type": "code",
   "execution_count": 30,
   "metadata": {
    "vscode": {
     "languageId": "r"
    }
   },
   "outputs": [
    {
     "data": {
      "text/html": [
       "<table class=\"dataframe\">\n",
       "<caption>A matrix: 12 × 2 of type chr</caption>\n",
       "<tbody>\n",
       "\t<tr><td>cadenas_de_caracteres_R_base</td><td>r    </td></tr>\n",
       "\t<tr><td>Data_types                  </td><td>ipynb</td></tr>\n",
       "\t<tr><td>ejercicios_data_frames      </td><td>r    </td></tr>\n",
       "\t<tr><td>ejercicios_factores         </td><td>r    </td></tr>\n",
       "\t<tr><td>ejercicios_gráficos         </td><td>r    </td></tr>\n",
       "\t<tr><td>ejercicios_listas           </td><td>r    </td></tr>\n",
       "\t<tr><td>ejercicios_matrices_y_arrays</td><td>r    </td></tr>\n",
       "\t<tr><td>ejercicios_tidyverse        </td><td>r    </td></tr>\n",
       "\t<tr><td>ejercicios_vectores         </td><td>r    </td></tr>\n",
       "\t<tr><td>Graphs with ggplot          </td><td>ipynb</td></tr>\n",
       "\t<tr><td>Strings                     </td><td>ipynb</td></tr>\n",
       "\t<tr><td>Tidyverse                   </td><td>ipynb</td></tr>\n",
       "</tbody>\n",
       "</table>\n"
      ],
      "text/latex": [
       "A matrix: 12 × 2 of type chr\n",
       "\\begin{tabular}{ll}\n",
       "\t cadenas\\_de\\_caracteres\\_R\\_base & r    \\\\\n",
       "\t Data\\_types                   & ipynb\\\\\n",
       "\t ejercicios\\_data\\_frames       & r    \\\\\n",
       "\t ejercicios\\_factores          & r    \\\\\n",
       "\t ejercicios\\_gráficos          & r    \\\\\n",
       "\t ejercicios\\_listas            & r    \\\\\n",
       "\t ejercicios\\_matrices\\_y\\_arrays & r    \\\\\n",
       "\t ejercicios\\_tidyverse         & r    \\\\\n",
       "\t ejercicios\\_vectores          & r    \\\\\n",
       "\t Graphs with ggplot           & ipynb\\\\\n",
       "\t Strings                      & ipynb\\\\\n",
       "\t Tidyverse                    & ipynb\\\\\n",
       "\\end{tabular}\n"
      ],
      "text/markdown": [
       "\n",
       "A matrix: 12 × 2 of type chr\n",
       "\n",
       "| cadenas_de_caracteres_R_base | r     |\n",
       "| Data_types                   | ipynb |\n",
       "| ejercicios_data_frames       | r     |\n",
       "| ejercicios_factores          | r     |\n",
       "| ejercicios_gráficos          | r     |\n",
       "| ejercicios_listas            | r     |\n",
       "| ejercicios_matrices_y_arrays | r     |\n",
       "| ejercicios_tidyverse         | r     |\n",
       "| ejercicios_vectores          | r     |\n",
       "| Graphs with ggplot           | ipynb |\n",
       "| Strings                      | ipynb |\n",
       "| Tidyverse                    | ipynb |\n",
       "\n"
      ],
      "text/plain": [
       "      [,1]                         [,2] \n",
       " [1,] cadenas_de_caracteres_R_base r    \n",
       " [2,] Data_types                   ipynb\n",
       " [3,] ejercicios_data_frames       r    \n",
       " [4,] ejercicios_factores          r    \n",
       " [5,] ejercicios_gráficos          r    \n",
       " [6,] ejercicios_listas            r    \n",
       " [7,] ejercicios_matrices_y_arrays r    \n",
       " [8,] ejercicios_tidyverse         r    \n",
       " [9,] ejercicios_vectores          r    \n",
       "[10,] Graphs with ggplot           ipynb\n",
       "[11,] Strings                      ipynb\n",
       "[12,] Tidyverse                    ipynb"
      ]
     },
     "metadata": {},
     "output_type": "display_data"
    }
   ],
   "source": [
    "matrix(unlist(strsplit(files, split=\"\\\\.\")), ncol=2, byrow=TRUE)"
   ]
  },
  {
   "cell_type": "markdown",
   "metadata": {},
   "source": [
    "## Expresiones regulares\n",
    "\n",
    "* Una expresión regular es una especie de comodín. \n",
    "* Es una forma abreviada de especificar distintas clases de cadenas de caracteres.\n",
    "* En R, debes prestar atención a este punto cuando uses las funciones `grep`, `grepl`, `regexpr`, `gregexpr`, `sub`, `gsub` y `strsplit`. "
   ]
  },
  {
   "cell_type": "code",
   "execution_count": 31,
   "metadata": {
    "vscode": {
     "languageId": "r"
    }
   },
   "outputs": [
    {
     "data": {
      "text/html": [
       "<span style=white-space:pre-wrap>'Fri Oct  3 14:19:11 2025'</span>"
      ],
      "text/latex": [
       "'Fri Oct  3 14:19:11 2025'"
      ],
      "text/markdown": [
       "<span style=white-space:pre-wrap>'Fri Oct  3 14:19:11 2025'</span>"
      ],
      "text/plain": [
       "[1] \"Fri Oct  3 14:19:11 2025\""
      ]
     },
     "metadata": {},
     "output_type": "display_data"
    }
   ],
   "source": [
    "date()"
   ]
  },
  {
   "cell_type": "code",
   "execution_count": 32,
   "metadata": {
    "vscode": {
     "languageId": "r"
    }
   },
   "outputs": [
    {
     "name": "stdout",
     "output_type": "stream",
     "text": [
      "[[1]]\n",
      "[1] \"Fri Oct  \" \" \"         \":\"         \":\"         \" \"        \n",
      "\n"
     ]
    }
   ],
   "source": [
    "print(strsplit(date(), split=\"[0-9]+\"))"
   ]
  },
  {
   "cell_type": "code",
   "execution_count": 33,
   "metadata": {
    "vscode": {
     "languageId": "r"
    }
   },
   "outputs": [
    {
     "name": "stdout",
     "output_type": "stream",
     "text": [
      " [1] \"cadenas_de_caracteres_R_base.r\" \"Data_types.ipynb\"              \n",
      " [3] \"ejercicios_data_frames.r\"       \"ejercicios_factores.r\"         \n",
      " [5] \"ejercicios_gráficos.r\"          \"ejercicios_listas.r\"           \n",
      " [7] \"ejercicios_matrices_y_arrays.r\" \"ejercicios_tidyverse.r\"        \n",
      " [9] \"ejercicios_vectores.r\"          \"Graphs with ggplot.ipynb\"      \n",
      "[11] \"Strings.ipynb\"                  \"Tidyverse.ipynb\"               \n"
     ]
    }
   ],
   "source": [
    "print(files)"
   ]
  },
  {
   "cell_type": "code",
   "execution_count": 36,
   "metadata": {
    "vscode": {
     "languageId": "r"
    }
   },
   "outputs": [
    {
     "data": {
      "text/html": [],
      "text/latex": [],
      "text/markdown": [],
      "text/plain": [
       "integer(0)"
      ]
     },
     "metadata": {},
     "output_type": "display_data"
    }
   ],
   "source": [
    "grep(\"z\", files)"
   ]
  },
  {
   "cell_type": "code",
   "execution_count": 38,
   "metadata": {
    "vscode": {
     "languageId": "r"
    }
   },
   "outputs": [
    {
     "data": {
      "text/html": [
       "<style>\n",
       ".list-inline {list-style: none; margin:0; padding: 0}\n",
       ".list-inline>li {display: inline-block}\n",
       ".list-inline>li:not(:last-child)::after {content: \"\\00b7\"; padding: 0 .5ex}\n",
       "</style>\n",
       "<ol class=list-inline><li>'cadenas_de_caracteres_R_base.r'</li><li>'ejercicios_data_frames.r'</li><li>'ejercicios_factores.r'</li><li>'ejercicios_gráficos.r'</li><li>'ejercicios_listas.r'</li><li>'ejercicios_matrices_y_arrays.r'</li><li>'ejercicios_tidyverse.r'</li><li>'ejercicios_vectores.r'</li><li>'Graphs with ggplot.ipynb'</li><li>'Strings.ipynb'</li><li>'Tidyverse.ipynb'</li></ol>\n"
      ],
      "text/latex": [
       "\\begin{enumerate*}\n",
       "\\item 'cadenas\\_de\\_caracteres\\_R\\_base.r'\n",
       "\\item 'ejercicios\\_data\\_frames.r'\n",
       "\\item 'ejercicios\\_factores.r'\n",
       "\\item 'ejercicios\\_gráficos.r'\n",
       "\\item 'ejercicios\\_listas.r'\n",
       "\\item 'ejercicios\\_matrices\\_y\\_arrays.r'\n",
       "\\item 'ejercicios\\_tidyverse.r'\n",
       "\\item 'ejercicios\\_vectores.r'\n",
       "\\item 'Graphs with ggplot.ipynb'\n",
       "\\item 'Strings.ipynb'\n",
       "\\item 'Tidyverse.ipynb'\n",
       "\\end{enumerate*}\n"
      ],
      "text/markdown": [
       "1. 'cadenas_de_caracteres_R_base.r'\n",
       "2. 'ejercicios_data_frames.r'\n",
       "3. 'ejercicios_factores.r'\n",
       "4. 'ejercicios_gráficos.r'\n",
       "5. 'ejercicios_listas.r'\n",
       "6. 'ejercicios_matrices_y_arrays.r'\n",
       "7. 'ejercicios_tidyverse.r'\n",
       "8. 'ejercicios_vectores.r'\n",
       "9. 'Graphs with ggplot.ipynb'\n",
       "10. 'Strings.ipynb'\n",
       "11. 'Tidyverse.ipynb'\n",
       "\n",
       "\n"
      ],
      "text/plain": [
       " [1] \"cadenas_de_caracteres_R_base.r\" \"ejercicios_data_frames.r\"      \n",
       " [3] \"ejercicios_factores.r\"          \"ejercicios_gráficos.r\"         \n",
       " [5] \"ejercicios_listas.r\"            \"ejercicios_matrices_y_arrays.r\"\n",
       " [7] \"ejercicios_tidyverse.r\"         \"ejercicios_vectores.r\"         \n",
       " [9] \"Graphs with ggplot.ipynb\"       \"Strings.ipynb\"                 \n",
       "[11] \"Tidyverse.ipynb\"               "
      ]
     },
     "metadata": {},
     "output_type": "display_data"
    }
   ],
   "source": [
    "files[grep(\"r\", files)]"
   ]
  },
  {
   "cell_type": "code",
   "execution_count": 39,
   "metadata": {
    "vscode": {
     "languageId": "r"
    }
   },
   "outputs": [
    {
     "data": {
      "text/html": [
       "<style>\n",
       ".list-inline {list-style: none; margin:0; padding: 0}\n",
       ".list-inline>li {display: inline-block}\n",
       ".list-inline>li:not(:last-child)::after {content: \"\\00b7\"; padding: 0 .5ex}\n",
       "</style>\n",
       "<ol class=list-inline><li>1</li><li>3</li></ol>\n"
      ],
      "text/latex": [
       "\\begin{enumerate*}\n",
       "\\item 1\n",
       "\\item 3\n",
       "\\end{enumerate*}\n"
      ],
      "text/markdown": [
       "1. 1\n",
       "2. 3\n",
       "\n",
       "\n"
      ],
      "text/plain": [
       "[1] 1 3"
      ]
     },
     "metadata": {},
     "output_type": "display_data"
    }
   ],
   "source": [
    "donde <- grep(\"[ia]\", c(\"Ciencia\",\"de\",\"Datos\"))\n",
    "donde"
   ]
  },
  {
   "cell_type": "code",
   "execution_count": 40,
   "metadata": {
    "vscode": {
     "languageId": "r"
    }
   },
   "outputs": [
    {
     "data": {
      "text/html": [
       "<style>\n",
       ".list-inline {list-style: none; margin:0; padding: 0}\n",
       ".list-inline>li {display: inline-block}\n",
       ".list-inline>li:not(:last-child)::after {content: \"\\00b7\"; padding: 0 .5ex}\n",
       "</style>\n",
       "<ol class=list-inline><li>'Ciencia'</li><li>'Datos'</li></ol>\n"
      ],
      "text/latex": [
       "\\begin{enumerate*}\n",
       "\\item 'Ciencia'\n",
       "\\item 'Datos'\n",
       "\\end{enumerate*}\n"
      ],
      "text/markdown": [
       "1. 'Ciencia'\n",
       "2. 'Datos'\n",
       "\n",
       "\n"
      ],
      "text/plain": [
       "[1] \"Ciencia\" \"Datos\"  "
      ]
     },
     "metadata": {},
     "output_type": "display_data"
    }
   ],
   "source": [
    "c(\"Ciencia\",\"de\",\"Datos\")[donde]"
   ]
  },
  {
   "cell_type": "code",
   "execution_count": 41,
   "metadata": {
    "vscode": {
     "languageId": "r"
    }
   },
   "outputs": [
    {
     "data": {
      "text/html": [
       "1"
      ],
      "text/latex": [
       "1"
      ],
      "text/markdown": [
       "1"
      ],
      "text/plain": [
       "[1] 1"
      ]
     },
     "metadata": {},
     "output_type": "display_data"
    }
   ],
   "source": [
    "grep(\"e.\", c(\"Ciencia\",\"de\",\"Datos\"))"
   ]
  },
  {
   "cell_type": "code",
   "execution_count": 42,
   "metadata": {
    "vscode": {
     "languageId": "r"
    }
   },
   "outputs": [
    {
     "name": "stdout",
     "output_type": "stream",
     "text": [
      "[[1]]\n",
      "[1] \"\" \"\" \"\" \"\" \"\"\n",
      "\n"
     ]
    }
   ],
   "source": [
    "print(strsplit(\"a.b.c\", \".\"))"
   ]
  },
  {
   "cell_type": "code",
   "execution_count": 43,
   "metadata": {
    "vscode": {
     "languageId": "r"
    }
   },
   "outputs": [
    {
     "name": "stdout",
     "output_type": "stream",
     "text": [
      "[[1]]\n",
      "[1] \"a\" \"b\" \"c\"\n",
      "\n"
     ]
    }
   ],
   "source": [
    "print(strsplit(\"a.b.c\", \"\\\\.\"))"
   ]
  },
  {
   "cell_type": "code",
   "execution_count": 44,
   "metadata": {
    "vscode": {
     "languageId": "r"
    }
   },
   "outputs": [
    {
     "name": "stdout",
     "output_type": "stream",
     "text": [
      "[[1]]\n",
      "[1] \"a\" \"b\" \"c\"\n",
      "\n"
     ]
    }
   ],
   "source": [
    "print(strsplit(\"a.b.c\", \"[.]\")) # ¡Cuidado!"
   ]
  },
  {
   "cell_type": "markdown",
   "metadata": {},
   "source": [
    "## Ejemplo\n",
    "\n",
    "Anonimización de datos"
   ]
  },
  {
   "cell_type": "code",
   "execution_count": 45,
   "metadata": {
    "vscode": {
     "languageId": "r"
    }
   },
   "outputs": [
    {
     "data": {
      "text/html": [
       "<table class=\"dataframe\">\n",
       "<caption>A data.frame: 5 × 4</caption>\n",
       "<thead>\n",
       "\t<tr><th scope=col>var_1</th><th scope=col>var_2</th><th scope=col>var_3</th><th scope=col>var_4</th></tr>\n",
       "\t<tr><th scope=col>&lt;chr&gt;</th><th scope=col>&lt;chr&gt;</th><th scope=col>&lt;fct&gt;</th><th scope=col>&lt;dbl&gt;</th></tr>\n",
       "</thead>\n",
       "<tbody>\n",
       "\t<tr><td>Susan</td><td>Wilson </td><td>F</td><td>23</td></tr>\n",
       "\t<tr><td>Greg </td><td>Gray   </td><td>M</td><td>46</td></tr>\n",
       "\t<tr><td>Amy  </td><td>Sanders</td><td>F</td><td>32</td></tr>\n",
       "\t<tr><td>Laura</td><td>Xeon   </td><td>F</td><td>90</td></tr>\n",
       "\t<tr><td>David</td><td>Rogers </td><td>M</td><td>53</td></tr>\n",
       "</tbody>\n",
       "</table>\n"
      ],
      "text/latex": [
       "A data.frame: 5 × 4\n",
       "\\begin{tabular}{llll}\n",
       " var\\_1 & var\\_2 & var\\_3 & var\\_4\\\\\n",
       " <chr> & <chr> & <fct> & <dbl>\\\\\n",
       "\\hline\n",
       "\t Susan & Wilson  & F & 23\\\\\n",
       "\t Greg  & Gray    & M & 46\\\\\n",
       "\t Amy   & Sanders & F & 32\\\\\n",
       "\t Laura & Xeon    & F & 90\\\\\n",
       "\t David & Rogers  & M & 53\\\\\n",
       "\\end{tabular}\n"
      ],
      "text/markdown": [
       "\n",
       "A data.frame: 5 × 4\n",
       "\n",
       "| var_1 &lt;chr&gt; | var_2 &lt;chr&gt; | var_3 &lt;fct&gt; | var_4 &lt;dbl&gt; |\n",
       "|---|---|---|---|\n",
       "| Susan | Wilson  | F | 23 |\n",
       "| Greg  | Gray    | M | 46 |\n",
       "| Amy   | Sanders | F | 32 |\n",
       "| Laura | Xeon    | F | 90 |\n",
       "| David | Rogers  | M | 53 |\n",
       "\n"
      ],
      "text/plain": [
       "  var_1 var_2   var_3 var_4\n",
       "1 Susan Wilson  F     23   \n",
       "2 Greg  Gray    M     46   \n",
       "3 Amy   Sanders F     32   \n",
       "4 Laura Xeon    F     90   \n",
       "5 David Rogers  M     53   "
      ]
     },
     "metadata": {},
     "output_type": "display_data"
    }
   ],
   "source": [
    "data"
   ]
  },
  {
   "cell_type": "code",
   "execution_count": 46,
   "metadata": {
    "vscode": {
     "languageId": "r"
    }
   },
   "outputs": [
    {
     "data": {
      "text/html": [
       "<style>\n",
       ".list-inline {list-style: none; margin:0; padding: 0}\n",
       ".list-inline>li {display: inline-block}\n",
       ".list-inline>li:not(:last-child)::after {content: \"\\00b7\"; padding: 0 .5ex}\n",
       "</style>\n",
       "<ol class=list-inline><li>'sw'</li><li>'gg'</li><li>'as'</li><li>'lx'</li><li>'dr'</li></ol>\n"
      ],
      "text/latex": [
       "\\begin{enumerate*}\n",
       "\\item 'sw'\n",
       "\\item 'gg'\n",
       "\\item 'as'\n",
       "\\item 'lx'\n",
       "\\item 'dr'\n",
       "\\end{enumerate*}\n"
      ],
      "text/markdown": [
       "1. 'sw'\n",
       "2. 'gg'\n",
       "3. 'as'\n",
       "4. 'lx'\n",
       "5. 'dr'\n",
       "\n",
       "\n"
      ],
      "text/plain": [
       "[1] \"sw\" \"gg\" \"as\" \"lx\" \"dr\""
      ]
     },
     "metadata": {},
     "output_type": "display_data"
    }
   ],
   "source": [
    "ncolumn <- paste(tolower(substr(data$var_1, 1, 1)), \n",
    "                 tolower(substr(data$var_2, 1, 1)), sep = \"\")\n",
    "ncolumn"
   ]
  },
  {
   "cell_type": "code",
   "execution_count": 47,
   "metadata": {
    "vscode": {
     "languageId": "r"
    }
   },
   "outputs": [
    {
     "data": {
      "text/html": [
       "'var_1_and_var_2'"
      ],
      "text/latex": [
       "'var\\_1\\_and\\_var\\_2'"
      ],
      "text/markdown": [
       "'var_1_and_var_2'"
      ],
      "text/plain": [
       "[1] \"var_1_and_var_2\""
      ]
     },
     "metadata": {},
     "output_type": "display_data"
    }
   ],
   "source": [
    "paste(colnames(data)[1:2], collapse=\"_and_\")"
   ]
  },
  {
   "cell_type": "code",
   "execution_count": 48,
   "metadata": {
    "scrolled": true,
    "vscode": {
     "languageId": "r"
    }
   },
   "outputs": [
    {
     "data": {
      "text/html": [
       "<table class=\"dataframe\">\n",
       "<caption>A data.frame: 5 × 3</caption>\n",
       "<thead>\n",
       "\t<tr><th scope=col>var_1_and_var_2</th><th scope=col>var_3</th><th scope=col>var_4</th></tr>\n",
       "\t<tr><th scope=col>&lt;chr&gt;</th><th scope=col>&lt;fct&gt;</th><th scope=col>&lt;dbl&gt;</th></tr>\n",
       "</thead>\n",
       "<tbody>\n",
       "\t<tr><td>sw</td><td>F</td><td>23</td></tr>\n",
       "\t<tr><td>gg</td><td>M</td><td>46</td></tr>\n",
       "\t<tr><td>as</td><td>F</td><td>32</td></tr>\n",
       "\t<tr><td>lx</td><td>F</td><td>90</td></tr>\n",
       "\t<tr><td>dr</td><td>M</td><td>53</td></tr>\n",
       "</tbody>\n",
       "</table>\n"
      ],
      "text/latex": [
       "A data.frame: 5 × 3\n",
       "\\begin{tabular}{lll}\n",
       " var\\_1\\_and\\_var\\_2 & var\\_3 & var\\_4\\\\\n",
       " <chr> & <fct> & <dbl>\\\\\n",
       "\\hline\n",
       "\t sw & F & 23\\\\\n",
       "\t gg & M & 46\\\\\n",
       "\t as & F & 32\\\\\n",
       "\t lx & F & 90\\\\\n",
       "\t dr & M & 53\\\\\n",
       "\\end{tabular}\n"
      ],
      "text/markdown": [
       "\n",
       "A data.frame: 5 × 3\n",
       "\n",
       "| var_1_and_var_2 &lt;chr&gt; | var_3 &lt;fct&gt; | var_4 &lt;dbl&gt; |\n",
       "|---|---|---|\n",
       "| sw | F | 23 |\n",
       "| gg | M | 46 |\n",
       "| as | F | 32 |\n",
       "| lx | F | 90 |\n",
       "| dr | M | 53 |\n",
       "\n"
      ],
      "text/plain": [
       "  var_1_and_var_2 var_3 var_4\n",
       "1 sw              F     23   \n",
       "2 gg              M     46   \n",
       "3 as              F     32   \n",
       "4 lx              F     90   \n",
       "5 dr              M     53   "
      ]
     },
     "metadata": {},
     "output_type": "display_data"
    }
   ],
   "source": [
    "data$var_1 <- ncolumn\n",
    "colnames(data)[1] <- paste(colnames(data)[1:2], collapse=\"_and_\")\n",
    "data <- data[,-2]\n",
    "data"
   ]
  },
  {
   "cell_type": "markdown",
   "metadata": {},
   "source": [
    "More info in: [R Manual](https://stat.ethz.ch/R-manual/R-devel/library/base/html/regex.html)"
   ]
  },
  {
   "cell_type": "markdown",
   "metadata": {},
   "source": [
    "## Ejercicios strings (1ra parte)\n",
    "1. Crea un vector de cadenas de caracteres con tu nombre y apellidos (por ejemplo, [\"Rocío\", \"Romero\", Zaliz\"]). A partir de el crea una nueva cadena de caracteres con la inicial de tu nombre, un punto y tus apellidos (por ejemplo, \"R. Romero Zaliz\").\n",
    "2. Dado un vector de cadenas de caracteres que representan fechas (por ejemplo, [\"2005-11-28\", \"2015-10-18\", \"2000-01-01\"], utilizando el formato AÑO-MES-DÍA), mostrar sólo las correspondientes a los meses impares.\n",
    "3. Dada una cadena de caracteres con varias palabras (por ejemplo, \"Esta es una frase, pero no cualquier frase.\") crea un vector con cada una de las palabras de la cadena (por ejemplo, [\"Esta\", \"es\", \"una\", \"frase\", \"pero\", \"no\", \"cualquier\", \"frase\"]). Tenga en cuenta todos los caracteres de puntuación posibles.\n",
    "4. Busca en un vector de cadenas de caractees aquellas que incluyan sólo vocales \"a\" y/o \"e\" o ninguna (comprueba mayúsculas y minúsculas, considera á, é, Á y É como otros caracteres y no los que buscas).\n",
    "5. Dados tres vectores numéricos que representan días, meses y años, crea un vector nuevo con fechas (sólo si son válidas, si la fecha es inválida ignorarla) (Sugerencia: investigue la función `as.Date`)."
   ]
  },
  {
   "cell_type": "markdown",
   "metadata": {},
   "source": [
    "# Manipulación de cadenas de caracters usando Tidyverse"
   ]
  },
  {
   "cell_type": "markdown",
   "metadata": {},
   "source": [
    "## Cheat sheets"
   ]
  },
  {
   "cell_type": "markdown",
   "metadata": {},
   "source": [
    "* https://github.com/rstudio/cheatsheets/raw/main/strings.pdf"
   ]
  },
  {
   "cell_type": "code",
   "execution_count": 49,
   "metadata": {
    "vscode": {
     "languageId": "r"
    }
   },
   "outputs": [
    {
     "name": "stderr",
     "output_type": "stream",
     "text": [
      "── \u001b[1mAttaching core tidyverse packages\u001b[22m ──────────────────────── tidyverse 2.0.0 ──\n",
      "\u001b[32m✔\u001b[39m \u001b[34mdplyr    \u001b[39m 1.1.4     \u001b[32m✔\u001b[39m \u001b[34mreadr    \u001b[39m 2.1.5\n",
      "\u001b[32m✔\u001b[39m \u001b[34mforcats  \u001b[39m 1.0.1     \u001b[32m✔\u001b[39m \u001b[34mstringr  \u001b[39m 1.5.2\n",
      "\u001b[32m✔\u001b[39m \u001b[34mggplot2  \u001b[39m 4.0.0     \u001b[32m✔\u001b[39m \u001b[34mtibble   \u001b[39m 3.3.0\n",
      "\u001b[32m✔\u001b[39m \u001b[34mlubridate\u001b[39m 1.9.4     \u001b[32m✔\u001b[39m \u001b[34mtidyr    \u001b[39m 1.3.1\n",
      "\u001b[32m✔\u001b[39m \u001b[34mpurrr    \u001b[39m 1.1.0     \n",
      "── \u001b[1mConflicts\u001b[22m ────────────────────────────────────────── tidyverse_conflicts() ──\n",
      "\u001b[31m✖\u001b[39m \u001b[34mdplyr\u001b[39m::\u001b[32mfilter()\u001b[39m masks \u001b[34mstats\u001b[39m::filter()\n",
      "\u001b[31m✖\u001b[39m \u001b[34mdplyr\u001b[39m::\u001b[32mlag()\u001b[39m    masks \u001b[34mstats\u001b[39m::lag()\n",
      "\u001b[36mℹ\u001b[39m Use the conflicted package (\u001b[3m\u001b[34m<http://conflicted.r-lib.org/>\u001b[39m\u001b[23m) to force all conflicts to become errors\n"
     ]
    },
    {
     "data": {
      "text/html": [
       "<table class=\"dataframe\">\n",
       "<caption>A data.frame: 5 × 4</caption>\n",
       "<thead>\n",
       "\t<tr><th scope=col>name</th><th scope=col>lastname</th><th scope=col>gender</th><th scope=col>age</th></tr>\n",
       "\t<tr><th scope=col>&lt;chr&gt;</th><th scope=col>&lt;chr&gt;</th><th scope=col>&lt;fct&gt;</th><th scope=col>&lt;dbl&gt;</th></tr>\n",
       "</thead>\n",
       "<tbody>\n",
       "\t<tr><td>Susan</td><td>Wilson </td><td>F</td><td>23</td></tr>\n",
       "\t<tr><td>Greg </td><td>Gray   </td><td>M</td><td>46</td></tr>\n",
       "\t<tr><td>Amy  </td><td>Sanders</td><td>F</td><td>32</td></tr>\n",
       "\t<tr><td>Laura</td><td>Xeon   </td><td>F</td><td>90</td></tr>\n",
       "\t<tr><td>David</td><td>Rogers </td><td>M</td><td>53</td></tr>\n",
       "</tbody>\n",
       "</table>\n"
      ],
      "text/latex": [
       "A data.frame: 5 × 4\n",
       "\\begin{tabular}{llll}\n",
       " name & lastname & gender & age\\\\\n",
       " <chr> & <chr> & <fct> & <dbl>\\\\\n",
       "\\hline\n",
       "\t Susan & Wilson  & F & 23\\\\\n",
       "\t Greg  & Gray    & M & 46\\\\\n",
       "\t Amy   & Sanders & F & 32\\\\\n",
       "\t Laura & Xeon    & F & 90\\\\\n",
       "\t David & Rogers  & M & 53\\\\\n",
       "\\end{tabular}\n"
      ],
      "text/markdown": [
       "\n",
       "A data.frame: 5 × 4\n",
       "\n",
       "| name &lt;chr&gt; | lastname &lt;chr&gt; | gender &lt;fct&gt; | age &lt;dbl&gt; |\n",
       "|---|---|---|---|\n",
       "| Susan | Wilson  | F | 23 |\n",
       "| Greg  | Gray    | M | 46 |\n",
       "| Amy   | Sanders | F | 32 |\n",
       "| Laura | Xeon    | F | 90 |\n",
       "| David | Rogers  | M | 53 |\n",
       "\n"
      ],
      "text/plain": [
       "  name  lastname gender age\n",
       "1 Susan Wilson   F      23 \n",
       "2 Greg  Gray     M      46 \n",
       "3 Amy   Sanders  F      32 \n",
       "4 Laura Xeon     F      90 \n",
       "5 David Rogers   M      53 "
      ]
     },
     "metadata": {},
     "output_type": "display_data"
    }
   ],
   "source": [
    "library(tidyverse)\n",
    "#library(stringr)\n",
    "\n",
    "data <- data.frame(name = c(\"Susan\", \"Greg\", \"Amy\", \"Laura\", \"David\"), lastname = c(\"Wilson\", \"Gray\", \"Sanders\", \"Xeon\", \"Rogers\"), gender = factor(c(\"F\", \"M\", \"F\", \"F\", \"M\")), age = c(23, 46, 32, 90, 53))\n",
    "data"
   ]
  },
  {
   "cell_type": "markdown",
   "metadata": {},
   "source": [
    "La función <s>`nchar`</s> `str_length` indica la longitud de la cadena de caracteres."
   ]
  },
  {
   "cell_type": "code",
   "execution_count": 50,
   "metadata": {
    "vscode": {
     "languageId": "r"
    }
   },
   "outputs": [
    {
     "data": {
      "text/html": [
       "<style>\n",
       ".list-inline {list-style: none; margin:0; padding: 0}\n",
       ".list-inline>li {display: inline-block}\n",
       ".list-inline>li:not(:last-child)::after {content: \"\\00b7\"; padding: 0 .5ex}\n",
       "</style>\n",
       "<ol class=list-inline><li>6</li><li>4</li><li>7</li><li>4</li><li>6</li></ol>\n"
      ],
      "text/latex": [
       "\\begin{enumerate*}\n",
       "\\item 6\n",
       "\\item 4\n",
       "\\item 7\n",
       "\\item 4\n",
       "\\item 6\n",
       "\\end{enumerate*}\n"
      ],
      "text/markdown": [
       "1. 6\n",
       "2. 4\n",
       "3. 7\n",
       "4. 4\n",
       "5. 6\n",
       "\n",
       "\n"
      ],
      "text/plain": [
       "[1] 6 4 7 4 6"
      ]
     },
     "metadata": {},
     "output_type": "display_data"
    }
   ],
   "source": [
    "data %>% pull(lastname) %>% str_length"
   ]
  },
  {
   "cell_type": "markdown",
   "metadata": {},
   "source": [
    "La función <s>`paste`</s> `str_c` concatena varias cadenas de caracteres."
   ]
  },
  {
   "cell_type": "code",
   "execution_count": 51,
   "metadata": {
    "vscode": {
     "languageId": "r"
    }
   },
   "outputs": [
    {
     "name": "stdout",
     "output_type": "stream",
     "text": [
      "[1] \"Susan, Greg, Amy, Laura, David\"\n"
     ]
    }
   ],
   "source": [
    "print(data$name %>% str_c(collapse = \", \"))"
   ]
  },
  {
   "cell_type": "code",
   "execution_count": 52,
   "metadata": {
    "vscode": {
     "languageId": "r"
    }
   },
   "outputs": [
    {
     "name": "stdout",
     "output_type": "stream",
     "text": [
      "[1] \"Susan - Wilson\" \"Greg - Gray\"    \"Amy - Sanders\"  \"Laura - Xeon\"  \n",
      "[5] \"David - Rogers\"\n"
     ]
    }
   ],
   "source": [
    "print(str_c(data$name, data$lastname, sep = \" - \"))"
   ]
  },
  {
   "cell_type": "code",
   "execution_count": null,
   "metadata": {
    "vscode": {
     "languageId": "r"
    }
   },
   "outputs": [],
   "source": [
    "?unite"
   ]
  },
  {
   "cell_type": "code",
   "execution_count": 53,
   "metadata": {
    "vscode": {
     "languageId": "r"
    }
   },
   "outputs": [
    {
     "data": {
      "text/html": [
       "<table class=\"dataframe\">\n",
       "<caption>A data.frame: 5 × 3</caption>\n",
       "<thead>\n",
       "\t<tr><th scope=col>Full_name</th><th scope=col>gender</th><th scope=col>age</th></tr>\n",
       "\t<tr><th scope=col>&lt;chr&gt;</th><th scope=col>&lt;fct&gt;</th><th scope=col>&lt;dbl&gt;</th></tr>\n",
       "</thead>\n",
       "<tbody>\n",
       "\t<tr><td>Susan - Wilson</td><td>F</td><td>23</td></tr>\n",
       "\t<tr><td>Greg - Gray   </td><td>M</td><td>46</td></tr>\n",
       "\t<tr><td>Amy - Sanders </td><td>F</td><td>32</td></tr>\n",
       "\t<tr><td>Laura - Xeon  </td><td>F</td><td>90</td></tr>\n",
       "\t<tr><td>David - Rogers</td><td>M</td><td>53</td></tr>\n",
       "</tbody>\n",
       "</table>\n"
      ],
      "text/latex": [
       "A data.frame: 5 × 3\n",
       "\\begin{tabular}{lll}\n",
       " Full\\_name & gender & age\\\\\n",
       " <chr> & <fct> & <dbl>\\\\\n",
       "\\hline\n",
       "\t Susan - Wilson & F & 23\\\\\n",
       "\t Greg - Gray    & M & 46\\\\\n",
       "\t Amy - Sanders  & F & 32\\\\\n",
       "\t Laura - Xeon   & F & 90\\\\\n",
       "\t David - Rogers & M & 53\\\\\n",
       "\\end{tabular}\n"
      ],
      "text/markdown": [
       "\n",
       "A data.frame: 5 × 3\n",
       "\n",
       "| Full_name &lt;chr&gt; | gender &lt;fct&gt; | age &lt;dbl&gt; |\n",
       "|---|---|---|\n",
       "| Susan - Wilson | F | 23 |\n",
       "| Greg - Gray    | M | 46 |\n",
       "| Amy - Sanders  | F | 32 |\n",
       "| Laura - Xeon   | F | 90 |\n",
       "| David - Rogers | M | 53 |\n",
       "\n"
      ],
      "text/plain": [
       "  Full_name      gender age\n",
       "1 Susan - Wilson F      23 \n",
       "2 Greg - Gray    M      46 \n",
       "3 Amy - Sanders  F      32 \n",
       "4 Laura - Xeon   F      90 \n",
       "5 David - Rogers M      53 "
      ]
     },
     "metadata": {},
     "output_type": "display_data"
    }
   ],
   "source": [
    "data %>% unite(\"Full_name\", c(name, lastname), sep = \" - \")"
   ]
  },
  {
   "cell_type": "code",
   "execution_count": 54,
   "metadata": {
    "vscode": {
     "languageId": "r"
    }
   },
   "outputs": [
    {
     "data": {
      "text/html": [
       "<table class=\"dataframe\">\n",
       "<caption>A data.frame: 5 × 5</caption>\n",
       "<thead>\n",
       "\t<tr><th scope=col>Full_name</th><th scope=col>name</th><th scope=col>lastname</th><th scope=col>gender</th><th scope=col>age</th></tr>\n",
       "\t<tr><th scope=col>&lt;chr&gt;</th><th scope=col>&lt;chr&gt;</th><th scope=col>&lt;chr&gt;</th><th scope=col>&lt;fct&gt;</th><th scope=col>&lt;dbl&gt;</th></tr>\n",
       "</thead>\n",
       "<tbody>\n",
       "\t<tr><td>Susan - Wilson</td><td>Susan</td><td>Wilson </td><td>F</td><td>23</td></tr>\n",
       "\t<tr><td>Greg - Gray   </td><td>Greg </td><td>Gray   </td><td>M</td><td>46</td></tr>\n",
       "\t<tr><td>Amy - Sanders </td><td>Amy  </td><td>Sanders</td><td>F</td><td>32</td></tr>\n",
       "\t<tr><td>Laura - Xeon  </td><td>Laura</td><td>Xeon   </td><td>F</td><td>90</td></tr>\n",
       "\t<tr><td>David - Rogers</td><td>David</td><td>Rogers </td><td>M</td><td>53</td></tr>\n",
       "</tbody>\n",
       "</table>\n"
      ],
      "text/latex": [
       "A data.frame: 5 × 5\n",
       "\\begin{tabular}{lllll}\n",
       " Full\\_name & name & lastname & gender & age\\\\\n",
       " <chr> & <chr> & <chr> & <fct> & <dbl>\\\\\n",
       "\\hline\n",
       "\t Susan - Wilson & Susan & Wilson  & F & 23\\\\\n",
       "\t Greg - Gray    & Greg  & Gray    & M & 46\\\\\n",
       "\t Amy - Sanders  & Amy   & Sanders & F & 32\\\\\n",
       "\t Laura - Xeon   & Laura & Xeon    & F & 90\\\\\n",
       "\t David - Rogers & David & Rogers  & M & 53\\\\\n",
       "\\end{tabular}\n"
      ],
      "text/markdown": [
       "\n",
       "A data.frame: 5 × 5\n",
       "\n",
       "| Full_name &lt;chr&gt; | name &lt;chr&gt; | lastname &lt;chr&gt; | gender &lt;fct&gt; | age &lt;dbl&gt; |\n",
       "|---|---|---|---|---|\n",
       "| Susan - Wilson | Susan | Wilson  | F | 23 |\n",
       "| Greg - Gray    | Greg  | Gray    | M | 46 |\n",
       "| Amy - Sanders  | Amy   | Sanders | F | 32 |\n",
       "| Laura - Xeon   | Laura | Xeon    | F | 90 |\n",
       "| David - Rogers | David | Rogers  | M | 53 |\n",
       "\n"
      ],
      "text/plain": [
       "  Full_name      name  lastname gender age\n",
       "1 Susan - Wilson Susan Wilson   F      23 \n",
       "2 Greg - Gray    Greg  Gray     M      46 \n",
       "3 Amy - Sanders  Amy   Sanders  F      32 \n",
       "4 Laura - Xeon   Laura Xeon     F      90 \n",
       "5 David - Rogers David Rogers   M      53 "
      ]
     },
     "metadata": {},
     "output_type": "display_data"
    }
   ],
   "source": [
    "data %>% unite(\"Full_name\", c(name, lastname), remove = FALSE, sep = \" - \")"
   ]
  },
  {
   "cell_type": "code",
   "execution_count": 55,
   "metadata": {
    "vscode": {
     "languageId": "r"
    }
   },
   "outputs": [
    {
     "data": {
      "text/html": [
       "<table class=\"dataframe\">\n",
       "<caption>A data.frame: 5 × 6</caption>\n",
       "<thead>\n",
       "\t<tr><th scope=col>x</th><th scope=col>y</th><th scope=col>name</th><th scope=col>lastname</th><th scope=col>gender</th><th scope=col>age</th></tr>\n",
       "\t<tr><th scope=col>&lt;chr&gt;</th><th scope=col>&lt;chr&gt;</th><th scope=col>&lt;chr&gt;</th><th scope=col>&lt;chr&gt;</th><th scope=col>&lt;fct&gt;</th><th scope=col>&lt;dbl&gt;</th></tr>\n",
       "</thead>\n",
       "<tbody>\n",
       "\t<tr><td>Susan</td><td>Wilson </td><td>Susan</td><td>Wilson </td><td>F</td><td>23</td></tr>\n",
       "\t<tr><td>Greg </td><td>Gray   </td><td>Greg </td><td>Gray   </td><td>M</td><td>46</td></tr>\n",
       "\t<tr><td>Amy  </td><td>Sanders</td><td>Amy  </td><td>Sanders</td><td>F</td><td>32</td></tr>\n",
       "\t<tr><td>Laura</td><td>Xeon   </td><td>Laura</td><td>Xeon   </td><td>F</td><td>90</td></tr>\n",
       "\t<tr><td>David</td><td>Rogers </td><td>David</td><td>Rogers </td><td>M</td><td>53</td></tr>\n",
       "</tbody>\n",
       "</table>\n"
      ],
      "text/latex": [
       "A data.frame: 5 × 6\n",
       "\\begin{tabular}{llllll}\n",
       " x & y & name & lastname & gender & age\\\\\n",
       " <chr> & <chr> & <chr> & <chr> & <fct> & <dbl>\\\\\n",
       "\\hline\n",
       "\t Susan & Wilson  & Susan & Wilson  & F & 23\\\\\n",
       "\t Greg  & Gray    & Greg  & Gray    & M & 46\\\\\n",
       "\t Amy   & Sanders & Amy   & Sanders & F & 32\\\\\n",
       "\t Laura & Xeon    & Laura & Xeon    & F & 90\\\\\n",
       "\t David & Rogers  & David & Rogers  & M & 53\\\\\n",
       "\\end{tabular}\n"
      ],
      "text/markdown": [
       "\n",
       "A data.frame: 5 × 6\n",
       "\n",
       "| x &lt;chr&gt; | y &lt;chr&gt; | name &lt;chr&gt; | lastname &lt;chr&gt; | gender &lt;fct&gt; | age &lt;dbl&gt; |\n",
       "|---|---|---|---|---|---|\n",
       "| Susan | Wilson  | Susan | Wilson  | F | 23 |\n",
       "| Greg  | Gray    | Greg  | Gray    | M | 46 |\n",
       "| Amy   | Sanders | Amy   | Sanders | F | 32 |\n",
       "| Laura | Xeon    | Laura | Xeon    | F | 90 |\n",
       "| David | Rogers  | David | Rogers  | M | 53 |\n",
       "\n"
      ],
      "text/plain": [
       "  x     y       name  lastname gender age\n",
       "1 Susan Wilson  Susan Wilson   F      23 \n",
       "2 Greg  Gray    Greg  Gray     M      46 \n",
       "3 Amy   Sanders Amy   Sanders  F      32 \n",
       "4 Laura Xeon    Laura Xeon     F      90 \n",
       "5 David Rogers  David Rogers   M      53 "
      ]
     },
     "metadata": {},
     "output_type": "display_data"
    }
   ],
   "source": [
    "data %>% unite(\"Full_name\", c(name, lastname), remove = FALSE, sep = \" - \") %>%\n",
    "    separate(Full_name, c(\"x\", \"y\"), sep = \" - \")"
   ]
  },
  {
   "cell_type": "markdown",
   "metadata": {},
   "source": [
    "La función <s>`substr(x, inicio, parada)`</s> `str_sub(x, inicio, parada)` devuelve la subcadena en el rango de posiciones de caracteres dado inicio:parada para la cadena x. "
   ]
  },
  {
   "cell_type": "code",
   "execution_count": 56,
   "metadata": {
    "vscode": {
     "languageId": "r"
    }
   },
   "outputs": [
    {
     "data": {
      "text/html": [
       "<style>\n",
       ".list-inline {list-style: none; margin:0; padding: 0}\n",
       ".list-inline>li {display: inline-block}\n",
       ".list-inline>li:not(:last-child)::after {content: \"\\00b7\"; padding: 0 .5ex}\n",
       "</style>\n",
       "<ol class=list-inline><li>'us'</li><li>'re'</li><li>'my'</li><li>'au'</li><li>'av'</li></ol>\n"
      ],
      "text/latex": [
       "\\begin{enumerate*}\n",
       "\\item 'us'\n",
       "\\item 're'\n",
       "\\item 'my'\n",
       "\\item 'au'\n",
       "\\item 'av'\n",
       "\\end{enumerate*}\n"
      ],
      "text/markdown": [
       "1. 'us'\n",
       "2. 're'\n",
       "3. 'my'\n",
       "4. 'au'\n",
       "5. 'av'\n",
       "\n",
       "\n"
      ],
      "text/plain": [
       "[1] \"us\" \"re\" \"my\" \"au\" \"av\""
      ]
     },
     "metadata": {},
     "output_type": "display_data"
    }
   ],
   "source": [
    "data$name %>% str_sub(2, 3)"
   ]
  },
  {
   "cell_type": "markdown",
   "metadata": {},
   "source": [
    "## Expresiones regulares"
   ]
  },
  {
   "cell_type": "markdown",
   "metadata": {},
   "source": [
    "La función `str_detect` indica si hay alguna coincidencia con el patrón indicado."
   ]
  },
  {
   "cell_type": "code",
   "execution_count": 57,
   "metadata": {
    "vscode": {
     "languageId": "r"
    }
   },
   "outputs": [
    {
     "data": {
      "text/html": [
       "<table class=\"dataframe\">\n",
       "<caption>A data.frame: 1 × 4</caption>\n",
       "<thead>\n",
       "\t<tr><th></th><th scope=col>name</th><th scope=col>lastname</th><th scope=col>gender</th><th scope=col>age</th></tr>\n",
       "\t<tr><th></th><th scope=col>&lt;chr&gt;</th><th scope=col>&lt;chr&gt;</th><th scope=col>&lt;fct&gt;</th><th scope=col>&lt;dbl&gt;</th></tr>\n",
       "</thead>\n",
       "<tbody>\n",
       "\t<tr><th scope=row>1</th><td>Susan</td><td>Wilson</td><td>F</td><td>23</td></tr>\n",
       "</tbody>\n",
       "</table>\n"
      ],
      "text/latex": [
       "A data.frame: 1 × 4\n",
       "\\begin{tabular}{r|llll}\n",
       "  & name & lastname & gender & age\\\\\n",
       "  & <chr> & <chr> & <fct> & <dbl>\\\\\n",
       "\\hline\n",
       "\t1 & Susan & Wilson & F & 23\\\\\n",
       "\\end{tabular}\n"
      ],
      "text/markdown": [
       "\n",
       "A data.frame: 1 × 4\n",
       "\n",
       "| <!--/--> | name &lt;chr&gt; | lastname &lt;chr&gt; | gender &lt;fct&gt; | age &lt;dbl&gt; |\n",
       "|---|---|---|---|---|\n",
       "| 1 | Susan | Wilson | F | 23 |\n",
       "\n"
      ],
      "text/plain": [
       "  name  lastname gender age\n",
       "1 Susan Wilson   F      23 "
      ]
     },
     "metadata": {},
     "output_type": "display_data"
    }
   ],
   "source": [
    "data[1,]"
   ]
  },
  {
   "cell_type": "code",
   "execution_count": 58,
   "metadata": {
    "vscode": {
     "languageId": "r"
    }
   },
   "outputs": [
    {
     "data": {
      "text/html": [
       "<style>\n",
       ".list-inline {list-style: none; margin:0; padding: 0}\n",
       ".list-inline>li {display: inline-block}\n",
       ".list-inline>li:not(:last-child)::after {content: \"\\00b7\"; padding: 0 .5ex}\n",
       "</style>\n",
       "<ol class=list-inline><li>TRUE</li><li>FALSE</li><li>FALSE</li><li>FALSE</li></ol>\n"
      ],
      "text/latex": [
       "\\begin{enumerate*}\n",
       "\\item TRUE\n",
       "\\item FALSE\n",
       "\\item FALSE\n",
       "\\item FALSE\n",
       "\\end{enumerate*}\n"
      ],
      "text/markdown": [
       "1. TRUE\n",
       "2. FALSE\n",
       "3. FALSE\n",
       "4. FALSE\n",
       "\n",
       "\n"
      ],
      "text/plain": [
       "[1]  TRUE FALSE FALSE FALSE"
      ]
     },
     "metadata": {},
     "output_type": "display_data"
    }
   ],
   "source": [
    "data[1,] %>% str_detect(\"[ae]+\")"
   ]
  },
  {
   "cell_type": "code",
   "execution_count": 59,
   "metadata": {
    "vscode": {
     "languageId": "r"
    }
   },
   "outputs": [
    {
     "data": {
      "text/html": [
       "<style>\n",
       ".list-inline {list-style: none; margin:0; padding: 0}\n",
       ".list-inline>li {display: inline-block}\n",
       ".list-inline>li:not(:last-child)::after {content: \"\\00b7\"; padding: 0 .5ex}\n",
       "</style>\n",
       "<ol class=list-inline><li>'Susan'</li><li>'Greg'</li><li>'Amy'</li><li>'Laura'</li><li>'David'</li></ol>\n"
      ],
      "text/latex": [
       "\\begin{enumerate*}\n",
       "\\item 'Susan'\n",
       "\\item 'Greg'\n",
       "\\item 'Amy'\n",
       "\\item 'Laura'\n",
       "\\item 'David'\n",
       "\\end{enumerate*}\n"
      ],
      "text/markdown": [
       "1. 'Susan'\n",
       "2. 'Greg'\n",
       "3. 'Amy'\n",
       "4. 'Laura'\n",
       "5. 'David'\n",
       "\n",
       "\n"
      ],
      "text/plain": [
       "[1] \"Susan\" \"Greg\"  \"Amy\"   \"Laura\" \"David\""
      ]
     },
     "metadata": {},
     "output_type": "display_data"
    }
   ],
   "source": [
    "data$name"
   ]
  },
  {
   "cell_type": "code",
   "execution_count": 60,
   "metadata": {
    "vscode": {
     "languageId": "r"
    }
   },
   "outputs": [
    {
     "data": {
      "text/html": [
       "<style>\n",
       ".list-inline {list-style: none; margin:0; padding: 0}\n",
       ".list-inline>li {display: inline-block}\n",
       ".list-inline>li:not(:last-child)::after {content: \"\\00b7\"; padding: 0 .5ex}\n",
       "</style>\n",
       "<ol class=list-inline><li>TRUE</li><li>TRUE</li><li>FALSE</li><li>TRUE</li><li>TRUE</li></ol>\n"
      ],
      "text/latex": [
       "\\begin{enumerate*}\n",
       "\\item TRUE\n",
       "\\item TRUE\n",
       "\\item FALSE\n",
       "\\item TRUE\n",
       "\\item TRUE\n",
       "\\end{enumerate*}\n"
      ],
      "text/markdown": [
       "1. TRUE\n",
       "2. TRUE\n",
       "3. FALSE\n",
       "4. TRUE\n",
       "5. TRUE\n",
       "\n",
       "\n"
      ],
      "text/plain": [
       "[1]  TRUE  TRUE FALSE  TRUE  TRUE"
      ]
     },
     "metadata": {},
     "output_type": "display_data"
    }
   ],
   "source": [
    "data$name %>% str_detect(\"[aeiou]\")"
   ]
  },
  {
   "cell_type": "markdown",
   "metadata": {},
   "source": [
    "La función `str_subset` extrae los componentes que han coincidido.components"
   ]
  },
  {
   "cell_type": "code",
   "execution_count": 61,
   "metadata": {
    "vscode": {
     "languageId": "r"
    }
   },
   "outputs": [
    {
     "data": {
      "text/html": [
       "<style>\n",
       ".list-inline {list-style: none; margin:0; padding: 0}\n",
       ".list-inline>li {display: inline-block}\n",
       ".list-inline>li:not(:last-child)::after {content: \"\\00b7\"; padding: 0 .5ex}\n",
       "</style>\n",
       "<ol class=list-inline><li>'Susan'</li><li>'Greg'</li><li>'Laura'</li><li>'David'</li></ol>\n"
      ],
      "text/latex": [
       "\\begin{enumerate*}\n",
       "\\item 'Susan'\n",
       "\\item 'Greg'\n",
       "\\item 'Laura'\n",
       "\\item 'David'\n",
       "\\end{enumerate*}\n"
      ],
      "text/markdown": [
       "1. 'Susan'\n",
       "2. 'Greg'\n",
       "3. 'Laura'\n",
       "4. 'David'\n",
       "\n",
       "\n"
      ],
      "text/plain": [
       "[1] \"Susan\" \"Greg\"  \"Laura\" \"David\""
      ]
     },
     "metadata": {},
     "output_type": "display_data"
    }
   ],
   "source": [
    "data$name %>% str_subset(\"[aeiou]\")"
   ]
  },
  {
   "cell_type": "markdown",
   "metadata": {},
   "source": [
    "La función `str_count` cuenta la cantidad de veces que coincide."
   ]
  },
  {
   "cell_type": "code",
   "execution_count": 62,
   "metadata": {
    "vscode": {
     "languageId": "r"
    }
   },
   "outputs": [
    {
     "data": {
      "text/html": [
       "<style>\n",
       ".list-inline {list-style: none; margin:0; padding: 0}\n",
       ".list-inline>li {display: inline-block}\n",
       ".list-inline>li:not(:last-child)::after {content: \"\\00b7\"; padding: 0 .5ex}\n",
       "</style>\n",
       "<ol class=list-inline><li>2</li><li>1</li><li>0</li><li>3</li><li>2</li></ol>\n"
      ],
      "text/latex": [
       "\\begin{enumerate*}\n",
       "\\item 2\n",
       "\\item 1\n",
       "\\item 0\n",
       "\\item 3\n",
       "\\item 2\n",
       "\\end{enumerate*}\n"
      ],
      "text/markdown": [
       "1. 2\n",
       "2. 1\n",
       "3. 0\n",
       "4. 3\n",
       "5. 2\n",
       "\n",
       "\n"
      ],
      "text/plain": [
       "[1] 2 1 0 3 2"
      ]
     },
     "metadata": {},
     "output_type": "display_data"
    }
   ],
   "source": [
    "data$name %>% str_count(\"[aeiou]\")"
   ]
  },
  {
   "cell_type": "markdown",
   "metadata": {},
   "source": [
    "La función `str_extract` extrae el texto de la coincidencia."
   ]
  },
  {
   "cell_type": "code",
   "execution_count": 63,
   "metadata": {
    "vscode": {
     "languageId": "r"
    }
   },
   "outputs": [
    {
     "name": "stdout",
     "output_type": "stream",
     "text": [
      "[1] \"u\" \"e\" NA  \"a\" \"a\"\n"
     ]
    }
   ],
   "source": [
    "print(data$name %>% str_extract(\"[aeiou]\"))"
   ]
  },
  {
   "cell_type": "code",
   "execution_count": 64,
   "metadata": {
    "vscode": {
     "languageId": "r"
    }
   },
   "outputs": [
    {
     "name": "stdout",
     "output_type": "stream",
     "text": [
      "[[1]]\n",
      "[1] \"u\" \"a\"\n",
      "\n",
      "[[2]]\n",
      "[1] \"e\"\n",
      "\n",
      "[[3]]\n",
      "character(0)\n",
      "\n",
      "[[4]]\n",
      "[1] \"a\" \"u\" \"a\"\n",
      "\n",
      "[[5]]\n",
      "[1] \"a\" \"i\"\n",
      "\n"
     ]
    }
   ],
   "source": [
    "print(data$name %>% str_extract_all(\"[aeiou]\"))"
   ]
  },
  {
   "cell_type": "markdown",
   "metadata": {},
   "source": [
    "La función `str_match` extrae partes de la coincidencia definida entre paréntesis."
   ]
  },
  {
   "cell_type": "code",
   "execution_count": 67,
   "metadata": {
    "vscode": {
     "languageId": "r"
    }
   },
   "outputs": [
    {
     "name": "stdout",
     "output_type": "stream",
     "text": [
      "[1] \"Susan\" \"Greg\"  \"Amy\"   \"Laura\" \"David\"\n"
     ]
    },
    {
     "data": {
      "text/html": [
       "<table class=\"dataframe\">\n",
       "<caption>A matrix: 5 × 3 of type chr</caption>\n",
       "<tbody>\n",
       "\t<tr><td>Susa</td><td>S </td><td>sa</td></tr>\n",
       "\t<tr><td>NA  </td><td>NA</td><td>NA</td></tr>\n",
       "\t<tr><td>NA  </td><td>NA</td><td>NA</td></tr>\n",
       "\t<tr><td>Laur</td><td>L </td><td>ur</td></tr>\n",
       "\t<tr><td>Davi</td><td>D </td><td>vi</td></tr>\n",
       "</tbody>\n",
       "</table>\n"
      ],
      "text/latex": [
       "A matrix: 5 × 3 of type chr\n",
       "\\begin{tabular}{lll}\n",
       "\t Susa & S  & sa\\\\\n",
       "\t NA   & NA & NA\\\\\n",
       "\t NA   & NA & NA\\\\\n",
       "\t Laur & L  & ur\\\\\n",
       "\t Davi & D  & vi\\\\\n",
       "\\end{tabular}\n"
      ],
      "text/markdown": [
       "\n",
       "A matrix: 5 × 3 of type chr\n",
       "\n",
       "| Susa | S  | sa |\n",
       "| NA   | NA | NA |\n",
       "| NA   | NA | NA |\n",
       "| Laur | L  | ur |\n",
       "| Davi | D  | vi |\n",
       "\n"
      ],
      "text/plain": [
       "     [,1] [,2] [,3]\n",
       "[1,] Susa S    sa  \n",
       "[2,] NA   NA   NA  \n",
       "[3,] NA   NA   NA  \n",
       "[4,] Laur L    ur  \n",
       "[5,] Davi D    vi  "
      ]
     },
     "metadata": {},
     "output_type": "display_data"
    }
   ],
   "source": [
    "print(data$name)\n",
    "\n",
    "data$name %>% str_match(\"(.)[aeiou](..)\")"
   ]
  },
  {
   "cell_type": "code",
   "execution_count": 68,
   "metadata": {
    "vscode": {
     "languageId": "r"
    }
   },
   "outputs": [
    {
     "name": "stdout",
     "output_type": "stream",
     "text": [
      "[[1]]\n",
      "     [,1] [,2]\n",
      "[1,] \"us\" \"s\" \n",
      "[2,] \"an\" \"n\" \n",
      "\n",
      "[[2]]\n",
      "     [,1] [,2]\n",
      "[1,] \"eg\" \"g\" \n",
      "\n",
      "[[3]]\n",
      "     [,1] [,2]\n",
      "[1,] \"am\" \"m\" \n",
      "\n",
      "[[4]]\n",
      "     [,1] [,2]\n",
      "[1,] \"au\" \"u\" \n",
      "\n",
      "[[5]]\n",
      "     [,1] [,2]\n",
      "[1,] \"av\" \"v\" \n",
      "[2,] \"id\" \"d\" \n",
      "\n"
     ]
    }
   ],
   "source": [
    "print(data$name %>% tolower %>% str_match_all(\"[aeiou](.)\"))"
   ]
  },
  {
   "cell_type": "markdown",
   "metadata": {},
   "source": [
    "La función `str_replace` reemplaza las coincidencias por una nueva cadena de caracteres."
   ]
  },
  {
   "cell_type": "code",
   "execution_count": 69,
   "metadata": {
    "vscode": {
     "languageId": "r"
    }
   },
   "outputs": [
    {
     "data": {
      "text/html": [
       "<style>\n",
       ".list-inline {list-style: none; margin:0; padding: 0}\n",
       ".list-inline>li {display: inline-block}\n",
       ".list-inline>li:not(:last-child)::after {content: \"\\00b7\"; padding: 0 .5ex}\n",
       "</style>\n",
       "<ol class=list-inline><li>'S*san'</li><li>'Gr*g'</li><li>'Amy'</li><li>'L*ura'</li><li>'D*vid'</li></ol>\n"
      ],
      "text/latex": [
       "\\begin{enumerate*}\n",
       "\\item 'S*san'\n",
       "\\item 'Gr*g'\n",
       "\\item 'Amy'\n",
       "\\item 'L*ura'\n",
       "\\item 'D*vid'\n",
       "\\end{enumerate*}\n"
      ],
      "text/markdown": [
       "1. 'S*san'\n",
       "2. 'Gr*g'\n",
       "3. 'Amy'\n",
       "4. 'L*ura'\n",
       "5. 'D*vid'\n",
       "\n",
       "\n"
      ],
      "text/plain": [
       "[1] \"S*san\" \"Gr*g\"  \"Amy\"   \"L*ura\" \"D*vid\""
      ]
     },
     "metadata": {},
     "output_type": "display_data"
    }
   ],
   "source": [
    "data$name %>% str_replace(\"[aeiou]\", \"*\")"
   ]
  },
  {
   "cell_type": "code",
   "execution_count": 70,
   "metadata": {
    "vscode": {
     "languageId": "r"
    }
   },
   "outputs": [
    {
     "data": {
      "text/html": [
       "<style>\n",
       ".list-inline {list-style: none; margin:0; padding: 0}\n",
       ".list-inline>li {display: inline-block}\n",
       ".list-inline>li:not(:last-child)::after {content: \"\\00b7\"; padding: 0 .5ex}\n",
       "</style>\n",
       "<ol class=list-inline><li>'S*s*n'</li><li>'Gr*g'</li><li>'Amy'</li><li>'L**r*'</li><li>'D*v*d'</li></ol>\n"
      ],
      "text/latex": [
       "\\begin{enumerate*}\n",
       "\\item 'S*s*n'\n",
       "\\item 'Gr*g'\n",
       "\\item 'Amy'\n",
       "\\item 'L**r*'\n",
       "\\item 'D*v*d'\n",
       "\\end{enumerate*}\n"
      ],
      "text/markdown": [
       "1. 'S*s*n'\n",
       "2. 'Gr*g'\n",
       "3. 'Amy'\n",
       "4. 'L**r*'\n",
       "5. 'D*v*d'\n",
       "\n",
       "\n"
      ],
      "text/plain": [
       "[1] \"S*s*n\" \"Gr*g\"  \"Amy\"   \"L**r*\" \"D*v*d\""
      ]
     },
     "metadata": {},
     "output_type": "display_data"
    }
   ],
   "source": [
    "data$name %>% str_replace_all(\"[aeiou]\", \"*\")"
   ]
  },
  {
   "cell_type": "markdown",
   "metadata": {},
   "source": [
    "La función <s>`strsplit`</s>`str_split` divide una cadena de caracteres en trozos."
   ]
  },
  {
   "cell_type": "code",
   "execution_count": 71,
   "metadata": {
    "vscode": {
     "languageId": "r"
    }
   },
   "outputs": [
    {
     "name": "stdout",
     "output_type": "stream",
     "text": [
      "[[1]]\n",
      "[1] \"S\" \"s\" \"n\"\n",
      "\n",
      "[[2]]\n",
      "[1] \"Gr\" \"g\" \n",
      "\n",
      "[[3]]\n",
      "[1] \"Amy\"\n",
      "\n",
      "[[4]]\n",
      "[1] \"L\" \"\"  \"r\" \"\" \n",
      "\n",
      "[[5]]\n",
      "[1] \"D\" \"v\" \"d\"\n",
      "\n"
     ]
    }
   ],
   "source": [
    "print(data$name %>% str_split(\"[aeiou]\"))"
   ]
  },
  {
   "cell_type": "markdown",
   "metadata": {},
   "source": [
    "## Ejemplo"
   ]
  },
  {
   "cell_type": "code",
   "execution_count": null,
   "metadata": {
    "vscode": {
     "languageId": "r"
    }
   },
   "outputs": [],
   "source": [
    "#install.packages(\"ISLR\")\n",
    "library(\"ISLR\")\n",
    "College"
   ]
  },
  {
   "cell_type": "code",
   "execution_count": null,
   "metadata": {
    "vscode": {
     "languageId": "r"
    }
   },
   "outputs": [],
   "source": [
    "college.names <- rownames(College)\n",
    "college.names"
   ]
  },
  {
   "cell_type": "markdown",
   "metadata": {},
   "source": [
    "1. Obtener un vector que contenga todas las universidades con `Texas` en su nombre. ¿Cuántas hay?"
   ]
  },
  {
   "cell_type": "code",
   "execution_count": null,
   "metadata": {
    "vscode": {
     "languageId": "r"
    }
   },
   "outputs": [],
   "source": [
    "college.names %>% str_count(\"Texas\") %>% sum"
   ]
  },
  {
   "cell_type": "markdown",
   "metadata": {},
   "source": [
    "2. Obtener un vector de todas las filas del conjunto de datos College que contengan el término \"University\" (HINT: `str_which`)."
   ]
  },
  {
   "cell_type": "code",
   "execution_count": null,
   "metadata": {
    "vscode": {
     "languageId": "r"
    }
   },
   "outputs": [],
   "source": [
    "college.names %>% str_which(\"University\")"
   ]
  },
  {
   "cell_type": "markdown",
   "metadata": {},
   "source": [
    "3. ¿Cuántas \"University\" hay en el conjunto de datos frente a \"College\"?"
   ]
  },
  {
   "cell_type": "code",
   "execution_count": null,
   "metadata": {
    "vscode": {
     "languageId": "r"
    }
   },
   "outputs": [],
   "source": [
    "college.names %>% str_count(\"University\") %>% sum"
   ]
  },
  {
   "cell_type": "code",
   "execution_count": null,
   "metadata": {
    "vscode": {
     "languageId": "r"
    }
   },
   "outputs": [],
   "source": [
    "college.names %>% str_count(\"College\") %>% sum"
   ]
  },
  {
   "cell_type": "code",
   "execution_count": null,
   "metadata": {
    "vscode": {
     "languageId": "r"
    }
   },
   "outputs": [],
   "source": [
    "345+406 == length(college.names)"
   ]
  },
  {
   "cell_type": "code",
   "execution_count": null,
   "metadata": {
    "vscode": {
     "languageId": "r"
    }
   },
   "outputs": [],
   "source": [
    "pos_c <- college.names %>% str_which(\"College\")\n",
    "pos_u <- college.names %>% str_which(\"University\")\n",
    "\n",
    "college.names[setdiff(1:length(college.names), c(pos_c, pos_u))]"
   ]
  },
  {
   "cell_type": "code",
   "execution_count": null,
   "metadata": {
    "vscode": {
     "languageId": "r"
    }
   },
   "outputs": [],
   "source": [
    "college.names[!str_detect(college.names, \"Coll|Univ\")]"
   ]
  },
  {
   "cell_type": "markdown",
   "metadata": {},
   "source": [
    "## Ejercicios string (2da parte)\n",
    "\n",
    "Lo mismo que en la parte 1 pero usando las funciones de `stringr`.\n",
    "\n",
    "1. Crea un vector de cadenas de caracteres con tu nombre y apellidos (por ejemplo, [\"Rocío\", \"Romero\", Zaliz\"]). A partir de el crea una nueva cadena de caracteres con la inicial de tu nombre, un punto y tus apellidos (por ejemplo, \"R. Romero Zaliz\").\n",
    "2. Dado un vector de cadenas de caracteres que representan fechas (por ejemplo, [\"2005-11-28\", \"2015-10-18\", \"2000-01-01\"], utilizando el formato AÑO-MES-DÍA), mostrar sólo las correspondientes a los meses impares.\n",
    "3. Dada una cadena de caracteres con varias palabras (por ejemplo, \"Esta es una frase, pero no cualquier frase.\") crea un vector con cada una de las palabras de la cadena (por ejemplo, [\"Esta\", \"es\", \"una\", \"frase\", \"pero\", \"no\", \"cualquier\", \"frase\"]). Tenga en cuenta todos los caracteres de puntuación posibles.\n",
    "4. Busca en un vector de cadenas de caractees aquellas que incluyan sólo vocales \"a\" y/o \"e\" o ninguna (comprueba mayúsculas y minúsculas, considera á, é, Á y É como otros caracteres y no los que buscas).\n",
    "5. Dados tres vectores numéricos que representan días, meses y años, crea un vector nuevo con fechas (sólo si son válidas, si la fecha es inválida ignorarla) (Sugerencia: investigue la función `as.Date`)."
   ]
  },
  {
   "cell_type": "markdown",
   "metadata": {},
   "source": [
    "# References\n",
    "\n",
    "* Gaston Sanchez. Handling and Processing Strings in R. https://www.gastonsanchez.com/Handling_and_Processing_Strings_in_R.pdf\n",
    "* R-tutorials. http://r-tutorials.com\n",
    "* Norman Matloff. 2011. The Art of R Programming: A Tour of Statistical Software Design (1st ed.). No Starch Press, San Francisco, CA, USA.\n",
    "* Patrick Burns. 2011. The R Inferno."
   ]
  }
 ],
 "metadata": {
  "celltoolbar": "Raw Cell Format",
  "kernelspec": {
   "display_name": "R",
   "language": "R",
   "name": "ir"
  },
  "language_info": {
   "codemirror_mode": "r",
   "file_extension": ".r",
   "mimetype": "text/x-r-source",
   "name": "R",
   "pygments_lexer": "r",
   "version": "4.1.2"
  }
 },
 "nbformat": 4,
 "nbformat_minor": 4
}
