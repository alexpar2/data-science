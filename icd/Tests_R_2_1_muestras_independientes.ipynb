{
  "cells": [
    {
      "cell_type": "markdown",
      "metadata": {},
      "source": [
        "# 2.1 Tests para muestras independientes (R)\n",
        "\n",
        "_Este cuaderno se basa en el guion en HTML. El texto ha sido limpiado y **no incluye salidas de ejemplo**; sólo explicaciones en español. Se han añadido subsubsecciones explícitas._\n",
        "\n",
        "## Índice\n",
        "\n",
        "- 2.1 Tests para muestras\n",
        "independientes"
      ]
    },
    {
      "cell_type": "code",
      "execution_count": 1,
      "metadata": {
        "vscode": {
          "languageId": "r"
        }
      },
      "outputs": [
        {
          "name": "stderr",
          "output_type": "stream",
          "text": [
            "Funciones cargadas desde: IntrodEstadFunciones.R\n",
            "\n"
          ]
        }
      ],
      "source": [
        "\n",
        "# --- Preámbulo del cuaderno (R) ---\n",
        "# Carga de funciones auxiliares\n",
        "helper_paths <- c(\"IntrodEstadFunciones.R\", \"/mnt/data/IntrodEstadFunciones.R\")\n",
        "found <- helper_paths[file.exists(helper_paths)]\n",
        "if (length(found) > 0) {\n",
        "  source(found[1], encoding = \"UTF-8\")\n",
        "  message(\"Funciones cargadas desde: \", found[1])\n",
        "} else {\n",
        "  message(\"Aviso: no se encontró 'IntrodEstadFunciones.R'. Colóquelo junto al notebook o ajuste la ruta.\")\n",
        "}\n",
        "\n",
        "# Paquetes usados a lo largo del cuaderno\n",
        "auto_install <- TRUE\n",
        "req <- c(\"ggplot2\",\"ggpubr\",\"ggsci\",\"dplyr\",\"readr\",\"rstatix\",\"PMCMRplus\",\"car\", \"rstatix\")\n",
        "if (auto_install) {\n",
        "  to_install <- setdiff(req, rownames(installed.packages()))\n",
        "  if (length(to_install)) install.packages(to_install)\n",
        "}\n",
        "suppressPackageStartupMessages({\n",
        "  for (p in intersect(req, rownames(installed.packages()))) library(p, character.only = TRUE)\n",
        "})\n",
        "options(stringsAsFactors = FALSE)\n"
      ]
    },
    {
      "cell_type": "markdown",
      "metadata": {},
      "source": [
        "## 2.1 Tests para muestras independientes"
      ]
    },
    {
      "cell_type": "markdown",
      "metadata": {},
      "source": [
        "Vamos a cargar el dataset y establecemos los nombres de las variables con las que vamos a trabajar. También convertimos a factor la columna de la variable de agrupación ya que algunos tests como así lo requieren. Lo hacemos con la función :"
      ]
    },
    {
      "cell_type": "code",
      "execution_count": 2,
      "metadata": {
        "vscode": {
          "languageId": "r"
        }
      },
      "outputs": [],
      "source": [
        "load(\"DatosEmpleados.RData\")\n",
        "datos = DatosEmpleados\n",
        "v.depend = \"salario\"\n",
        "v.factor.2.valores = \"sexo\"\n",
        "indice.col.factor.2valores = which(colnames(datos) == v.factor.2.valores)\n",
        "datos[,indice.col.factor.2valores] = as.factor(as.data.frame(datos)[,indice.col.factor.2valores])"
      ]
    },
    {
      "cell_type": "code",
      "execution_count": 3,
      "metadata": {
        "vscode": {
          "languageId": "r"
        }
      },
      "outputs": [
        {
          "data": {
            "text/html": [
              "<table class=\"dataframe\">\n",
              "<caption>A data.frame: 6 × 10</caption>\n",
              "<thead>\n",
              "\t<tr><th></th><th scope=col>Id</th><th scope=col>sexo</th><th scope=col>fechnac</th><th scope=col>educ</th><th scope=col>catlab</th><th scope=col>salario</th><th scope=col>salini</th><th scope=col>tiempemp</th><th scope=col>expprev</th><th scope=col>minoría</th></tr>\n",
              "\t<tr><th></th><th scope=col>&lt;int&gt;</th><th scope=col>&lt;fct&gt;</th><th scope=col>&lt;chr&gt;</th><th scope=col>&lt;int&gt;</th><th scope=col>&lt;fct&gt;</th><th scope=col>&lt;int&gt;</th><th scope=col>&lt;int&gt;</th><th scope=col>&lt;int&gt;</th><th scope=col>&lt;int&gt;</th><th scope=col>&lt;fct&gt;</th></tr>\n",
              "</thead>\n",
              "<tbody>\n",
              "\t<tr><th scope=row>1</th><td>1</td><td>Hombre</td><td>2/3/1952 </td><td>15</td><td>Directivo     </td><td>57000</td><td>27000</td><td>98</td><td>144</td><td>No</td></tr>\n",
              "\t<tr><th scope=row>2</th><td>2</td><td>Hombre</td><td>5/23/1958</td><td>16</td><td>Administrativo</td><td>40200</td><td>18750</td><td>98</td><td> 36</td><td>No</td></tr>\n",
              "\t<tr><th scope=row>3</th><td>3</td><td>Mujer </td><td>7/26/1929</td><td>12</td><td>Administrativo</td><td>21450</td><td>12000</td><td>98</td><td>381</td><td>No</td></tr>\n",
              "\t<tr><th scope=row>4</th><td>4</td><td>Mujer </td><td>4/15/1947</td><td> 8</td><td>Administrativo</td><td>21900</td><td>13200</td><td>98</td><td>190</td><td>No</td></tr>\n",
              "\t<tr><th scope=row>5</th><td>5</td><td>Hombre</td><td>2/9/1955 </td><td>15</td><td>Administrativo</td><td>45000</td><td>21000</td><td>98</td><td>138</td><td>No</td></tr>\n",
              "\t<tr><th scope=row>6</th><td>6</td><td>Hombre</td><td>8/22/1958</td><td>15</td><td>Administrativo</td><td>32100</td><td>13500</td><td>98</td><td> 67</td><td>No</td></tr>\n",
              "</tbody>\n",
              "</table>\n"
            ],
            "text/latex": [
              "A data.frame: 6 × 10\n",
              "\\begin{tabular}{r|llllllllll}\n",
              "  & Id & sexo & fechnac & educ & catlab & salario & salini & tiempemp & expprev & minoría\\\\\n",
              "  & <int> & <fct> & <chr> & <int> & <fct> & <int> & <int> & <int> & <int> & <fct>\\\\\n",
              "\\hline\n",
              "\t1 & 1 & Hombre & 2/3/1952  & 15 & Directivo      & 57000 & 27000 & 98 & 144 & No\\\\\n",
              "\t2 & 2 & Hombre & 5/23/1958 & 16 & Administrativo & 40200 & 18750 & 98 &  36 & No\\\\\n",
              "\t3 & 3 & Mujer  & 7/26/1929 & 12 & Administrativo & 21450 & 12000 & 98 & 381 & No\\\\\n",
              "\t4 & 4 & Mujer  & 4/15/1947 &  8 & Administrativo & 21900 & 13200 & 98 & 190 & No\\\\\n",
              "\t5 & 5 & Hombre & 2/9/1955  & 15 & Administrativo & 45000 & 21000 & 98 & 138 & No\\\\\n",
              "\t6 & 6 & Hombre & 8/22/1958 & 15 & Administrativo & 32100 & 13500 & 98 &  67 & No\\\\\n",
              "\\end{tabular}\n"
            ],
            "text/markdown": [
              "\n",
              "A data.frame: 6 × 10\n",
              "\n",
              "| <!--/--> | Id &lt;int&gt; | sexo &lt;fct&gt; | fechnac &lt;chr&gt; | educ &lt;int&gt; | catlab &lt;fct&gt; | salario &lt;int&gt; | salini &lt;int&gt; | tiempemp &lt;int&gt; | expprev &lt;int&gt; | minoría &lt;fct&gt; |\n",
              "|---|---|---|---|---|---|---|---|---|---|---|\n",
              "| 1 | 1 | Hombre | 2/3/1952  | 15 | Directivo      | 57000 | 27000 | 98 | 144 | No |\n",
              "| 2 | 2 | Hombre | 5/23/1958 | 16 | Administrativo | 40200 | 18750 | 98 |  36 | No |\n",
              "| 3 | 3 | Mujer  | 7/26/1929 | 12 | Administrativo | 21450 | 12000 | 98 | 381 | No |\n",
              "| 4 | 4 | Mujer  | 4/15/1947 |  8 | Administrativo | 21900 | 13200 | 98 | 190 | No |\n",
              "| 5 | 5 | Hombre | 2/9/1955  | 15 | Administrativo | 45000 | 21000 | 98 | 138 | No |\n",
              "| 6 | 6 | Hombre | 8/22/1958 | 15 | Administrativo | 32100 | 13500 | 98 |  67 | No |\n",
              "\n"
            ],
            "text/plain": [
              "  Id sexo   fechnac   educ catlab         salario salini tiempemp expprev\n",
              "1 1  Hombre 2/3/1952  15   Directivo      57000   27000  98       144    \n",
              "2 2  Hombre 5/23/1958 16   Administrativo 40200   18750  98        36    \n",
              "3 3  Mujer  7/26/1929 12   Administrativo 21450   12000  98       381    \n",
              "4 4  Mujer  4/15/1947  8   Administrativo 21900   13200  98       190    \n",
              "5 5  Hombre 2/9/1955  15   Administrativo 45000   21000  98       138    \n",
              "6 6  Hombre 8/22/1958 15   Administrativo 32100   13500  98        67    \n",
              "  minoría\n",
              "1 No     \n",
              "2 No     \n",
              "3 No     \n",
              "4 No     \n",
              "5 No     \n",
              "6 No     "
            ]
          },
          "metadata": {},
          "output_type": "display_data"
        }
      ],
      "source": [
        "head(datos)"
      ]
    },
    {
      "cell_type": "markdown",
      "metadata": {},
      "source": [
        "Algunos tests usan fórmulas para especificar la variable dependiente y la de agrupación. Por ejemplo, si queremos realizar un Anova del salario sobre el sexo, usaríamos la fórmula siguiente:"
      ]
    },
    {
      "cell_type": "code",
      "execution_count": 4,
      "metadata": {
        "vscode": {
          "languageId": "r"
        }
      },
      "outputs": [
        {
          "data": {
            "text/plain": [
              "salario ~ sexo"
            ]
          },
          "metadata": {},
          "output_type": "display_data"
        }
      ],
      "source": [
        "salario ~ sexo"
      ]
    },
    {
      "cell_type": "markdown",
      "metadata": {},
      "source": [
        "Para no tener que repetir dicha expresión, la guardamos en una variable aplicando la función :"
      ]
    },
    {
      "cell_type": "code",
      "execution_count": 5,
      "metadata": {
        "vscode": {
          "languageId": "r"
        }
      },
      "outputs": [],
      "source": [
        "formula.t.test = as.formula(paste0(v.depend, \"~\", v.factor.2.valores))  # 2 muestras independientes"
      ]
    },
    {
      "cell_type": "code",
      "execution_count": 6,
      "metadata": {
        "vscode": {
          "languageId": "r"
        }
      },
      "outputs": [
        {
          "data": {
            "text/plain": [
              "salario ~ sexo"
            ]
          },
          "metadata": {},
          "output_type": "display_data"
        }
      ],
      "source": [
        "formula.t.test"
      ]
    },
    {
      "cell_type": "markdown",
      "metadata": {},
      "source": [
        "### 2.1.1 Prueba para dos muestras independientes (test paramétrico)\n",
        "\n",
        "Trabajamos sobre con las variables ( ) y ( ). En primer lugar, construimos un gráfico con los diagramas de cajas:\n",
        "\n",
        "El gráfico nos muestra que hay mucha menos varianza en el grupo de las mujeres que en el de hombres. Para confirmarlo podemos llamar a la función . El test de Levene sale, claramente, significativo, por lo que rechazamos que las varianzas sean iguales:\n",
        "\n",
        "Como las varianzas son distintas, lanzamos el test de Welch llamando a la correspondiente función de y mostramos el resultado con la función . contiene información sobre el valor de estadístico del test, los grados de libertad, el p-value, etc. Para mostrar este último, basta acceder al valor :\n",
        "\n",
        "O directamente lo vemos en la gráfica correspondiente (en vez de mostrar el valor exacto, simplemente nos dice que es menor que 0.0001):\n",
        "\n",
        "Aunque el test de Welch es robusto a la desviaciones de la normalidad de los residuos, debemos analizarlos para tener una garantía estadística. Para extraer los residuos de un test realizado con , debemos utilizar la función que veremos posteriormente (es la generalización de la función cuando hay más de dos grupos)\n",
        "\n",
        "Definimos nuestra propia función para realizar dicha tarea:\n",
        "\n",
        "Para ver si siguen una distribución normal, podemos lanzar el test de Shapiro aunque normalmente es suficiente con que el gráfico QQ no muestre una desviación acusada (usamos las funciones y )\n",
        "\n",
        "Podemos apreciar (ya lo habíamos visto con Jamovi) que no se cumple la hipótesis de normalidad de los residuos, por lo que optamos por aplicar un test no paramétrico. Lo hacemos a continuación."
      ]
    },
    {
      "cell_type": "code",
      "execution_count": 7,
      "metadata": {
        "vscode": {
          "languageId": "r"
        }
      },
      "outputs": [
        {
          "data": {
            "image/png": "[encoded data removed]",
            "text/plain": [
              "plot without title"
            ]
          },
          "metadata": {
            "image/png": {
              "height": 420,
              "width": 420
            }
          },
          "output_type": "display_data"
        }
      ],
      "source": [
        "GraficoCajas(datos, v.depend, v.factor.2.valores, \"Boxplot\")"
      ]
    },
    {
      "cell_type": "code",
      "execution_count": 8,
      "metadata": {
        "vscode": {
          "languageId": "r"
        }
      },
      "outputs": [
        {
          "data": {
            "text/html": [
              "<table class=\"dataframe\">\n",
              "<caption>A tibble: 1 × 4</caption>\n",
              "<thead>\n",
              "\t<tr><th scope=col>df1</th><th scope=col>df2</th><th scope=col>statistic</th><th scope=col>p</th></tr>\n",
              "\t<tr><th scope=col>&lt;int&gt;</th><th scope=col>&lt;int&gt;</th><th scope=col>&lt;dbl&gt;</th><th scope=col>&lt;dbl&gt;</th></tr>\n",
              "</thead>\n",
              "<tbody>\n",
              "\t<tr><td>1</td><td>472</td><td>51.60252</td><td>2.665614e-12</td></tr>\n",
              "</tbody>\n",
              "</table>\n"
            ],
            "text/latex": [
              "A tibble: 1 × 4\n",
              "\\begin{tabular}{llll}\n",
              " df1 & df2 & statistic & p\\\\\n",
              " <int> & <int> & <dbl> & <dbl>\\\\\n",
              "\\hline\n",
              "\t 1 & 472 & 51.60252 & 2.665614e-12\\\\\n",
              "\\end{tabular}\n"
            ],
            "text/markdown": [
              "\n",
              "A tibble: 1 × 4\n",
              "\n",
              "| df1 &lt;int&gt; | df2 &lt;int&gt; | statistic &lt;dbl&gt; | p &lt;dbl&gt; |\n",
              "|---|---|---|---|\n",
              "| 1 | 472 | 51.60252 | 2.665614e-12 |\n",
              "\n"
            ],
            "text/plain": [
              "  df1 df2 statistic p           \n",
              "1 1   472 51.60252  2.665614e-12"
            ]
          },
          "metadata": {},
          "output_type": "display_data"
        }
      ],
      "source": [
        "test_homoc_levene = levene_test(formula.t.test, data = datos)\n",
        "test_homoc_levene"
      ]
    },
    {
      "cell_type": "code",
      "execution_count": 9,
      "metadata": {
        "vscode": {
          "languageId": "r"
        }
      },
      "outputs": [],
      "source": [
        "test_welch = welch_anova_test(formula = formula.t.test, data = datos)"
      ]
    },
    {
      "cell_type": "code",
      "execution_count": 10,
      "metadata": {
        "vscode": {
          "languageId": "r"
        }
      },
      "outputs": [
        {
          "data": {
            "text/html": [
              "8.3e-27"
            ],
            "text/latex": [
              "8.3e-27"
            ],
            "text/markdown": [
              "8.3e-27"
            ],
            "text/plain": [
              "[1] 8.3e-27"
            ]
          },
          "metadata": {},
          "output_type": "display_data"
        }
      ],
      "source": [
        "test_welch$p"
      ]
    },
    {
      "cell_type": "code",
      "execution_count": 11,
      "metadata": {
        "vscode": {
          "languageId": "r"
        }
      },
      "outputs": [
        {
          "data": {
            "image/png": "[encoded data removed]",
            "text/plain": [
              "plot without title"
            ]
          },
          "metadata": {
            "image/png": {
              "height": 420,
              "width": 420
            }
          },
          "output_type": "display_data"
        }
      ],
      "source": [
        "GraficoCajasTest(datos, v.depend, v.factor.2.valores,\n",
        "                 es_param = TRUE, es_mr = FALSE, test_welch)"
      ]
    },
    {
      "cell_type": "code",
      "execution_count": 12,
      "metadata": {
        "vscode": {
          "languageId": "r"
        }
      },
      "outputs": [],
      "source": [
        "Residuos = function (data, var.depend, var.factor){\n",
        "  formula.anova = as.formula(paste0(var.depend, \"~\", var.factor))  # k>2 muestras independientes\n",
        "  test_anova = anova_test(formula = formula.anova, data = data)\n",
        "  modelo_test = attr(test_anova, \"args\")$model\n",
        "  residuals(modelo_test)\n",
        "}"
      ]
    },
    {
      "cell_type": "code",
      "execution_count": 13,
      "metadata": {
        "vscode": {
          "languageId": "r"
        }
      },
      "outputs": [],
      "source": [
        "test_anova_2muestras = anova_test(formula.t.test, data = datos)\n",
        "residuos_test_anova_2muestras = Residuos(datos, v.depend, v.factor.2.valores)"
      ]
    },
    {
      "cell_type": "code",
      "execution_count": 14,
      "metadata": {
        "vscode": {
          "languageId": "r"
        }
      },
      "outputs": [
        {
          "data": {
            "text/plain": [
              "\n",
              "\tShapiro-Wilk normality test\n",
              "\n",
              "data:  residuos_test_anova_2muestras\n",
              "W = 0.83621, p-value < 2.2e-16\n"
            ]
          },
          "metadata": {},
          "output_type": "display_data"
        },
        {
          "data": {
            "image/png": "[encoded data removed]",
            "text/plain": [
              "plot without title"
            ]
          },
          "metadata": {
            "image/png": {
              "height": 420,
              "width": 420
            }
          },
          "output_type": "display_data"
        }
      ],
      "source": [
        "test_normalidad_residuos = shapiro.test(x = residuos_test_anova_2muestras)\n",
        "test_normalidad_residuos\n",
        "ggqqplot(residuos_test_anova_2muestras)"
      ]
    },
    {
      "cell_type": "markdown",
      "metadata": {},
      "source": [
        "### 2.1.2 Test no paramétrico para comparar dos muestras independientes\n",
        "\n",
        "Para aplicar el test de Mann-Whitney llamamos a la función de y construimos la gráfica llamando a la función :\n",
        "\n",
        "**Nota**: El valor del estadístico W obtenido por la función (46111.5) es el mayor entre U₁ y U₂ (consultar transparencias del curso) mientras que Jamovi muestra el mínimo (9617)\n",
        "\n",
        "Recordemos que el test de Mann-Whitney es un test de dominancia estocástica. Si los grupos presentan distribuciones similares, también será un test sobre las medianas, pero ya habíamos visto que las varianzas del salario eran distintas en el grupo de hombres y en el grupo de mujeres, por lo que las distribuciones no son similares.\n",
        "\n",
        "Por tanto, no podemos afirmar que sea un test sobre las medianas y concluimos que el salario de los hombres es una variable tal que si elegimos al azar un hombre y una mujer es más probable que el salario del primero sea mayor que el de la mujer."
      ]
    },
    {
      "cell_type": "code",
      "execution_count": 15,
      "metadata": {
        "vscode": {
          "languageId": "r"
        }
      },
      "outputs": [
        {
          "data": {
            "image/png": "[encoded data removed]",
            "text/plain": [
              "plot without title"
            ]
          },
          "metadata": {
            "image/png": {
              "height": 420,
              "width": 420
            }
          },
          "output_type": "display_data"
        }
      ],
      "source": [
        "test_mann_whitney = rstatix::wilcox_test(data = datos, formula = salario ~ sexo)\n",
        "GraficoCajasTest(datos, v.depend, v.factor.2.valores,\n",
        "                 es_param = TRUE, es_mr = FALSE, test_mann_whitney)"
      ]
    },
    {
      "cell_type": "markdown",
      "metadata": {},
      "source": [
        "### 2.1.3 Anova para k muestras independientes (test paramétrico)\n",
        "\n",
        "#### 2.1.3.1 Test conjunto (omnibus)\n",
        "\n",
        "Trabajamos sobre con las variables y . En primer lugar, establecemos los nombres de las variables y de la fórmula:\n",
        "\n",
        "Para comprobar la normalidad de los residuos, llamamos a la función que habíamos definido previamente:\n",
        "\n",
        "Construimos un gráfico con los diagramas de cajas y aplicamos el test de Levene:\n",
        "\n",
        "El test de Levene confirma lo que vemos en el diagrama de cajas y es que las varianzas son distintas en cada grupo. Aplicamos por tanto el test de Welch y nos ha de salir lo siguiente:\n",
        "\n",
        "El test es significativo y por tanto podemos asegurar que hay al menos una categoría laboral con un salario distinto al resto. Procedemos al post-hoc:\n",
        "\n",
        "#### 2.1.3.2 Post hoc\n",
        "\n",
        "**Post hoc específico**\n",
        "\n",
        "Como los grupos según la categoría laboral tienen varianzas distintas, lanzamos las comparaciones múltiples con el post-hoc específico de Games-Howell llamando a la función de con los parámetros habituales de la fórmula y el conjunto de datos. Llamamos también a la función y vemos que el test rechaza la igualdad entre las medias de todos los grupos:\n",
        "\n",
        "Tal y como vimos en la sección de Jamovi, si hubiésemos utilizado el test de Tukey HSD como post hoc, no podríamos haber rechazado la igualdad entre Administrativos y Seguridad ya que es test de Tukey sólo ha de aplicarse cuando todos los grupos tienen la misma varianza y en este caso no se cumple. Para comprobarlo, lanzamos el test con la función de :\n",
        "\n",
        "**Post hoc genérico**\n",
        "\n",
        "Vamos a ejecutar ahora las comparaciones múltiples usando para cada comparación un test genérico y aplicando una penalización. En este caso, usaríamos el test de Welch para realizar cada una de las comparaciones entre las medias de dos grupos.\n",
        "\n",
        "Recordemos que Jamovi (apartado Anova para k muestras independientes (test paramétrico)) usaba en el test genérico una varianza agregada pero no era lo recomendable al tener los grupos varianzas diferentes. Por tanto, nuestro propósito es lanzar las comparaciones múltiples, usando como test base para cada comparación el test de Welch (no usando la varianza agregada) y penalizando con Holm.\n",
        "\n",
        "Para ello, llamamos a la función de (el parámetro es el de la varianza agregada y es por defecto por lo que lo tenemos que cambiar)\n",
        "\n",
        "Si queremos obtener el mismo resultado que Jamovi (algo no recomendado en este caso por lo que hemos comentado anteriormente) habríamos ejecutado lo siguiente:\n",
        "\n",
        "**Nota**: También podríamos haber llamado a la función de (la que usábamos para comparar dos muestras) con el parámetro (utilizará la varianza no agregada) y ya que si le pasamos a como parámetro una fórmula que tiene un factor con más de dos niveles, automáticamente realiza las comparaciones múltiples llamando a\n",
        "\n",
        "**Post hoc con control**\n",
        "\n",
        "Si deseamos fijar un grupo de control y así disminuir la penalización para corregir el error FWER, podemos lanzar el test específico de Dunnett disponible en el paquete . También podemos usar el mismo test genérico usando la función pasándolo el grupo de control en el parámetro"
      ]
    },
    {
      "cell_type": "code",
      "execution_count": 16,
      "metadata": {
        "vscode": {
          "languageId": "r"
        }
      },
      "outputs": [],
      "source": [
        "v.factor = \"catlab\"\n",
        "indice.col.factor = which(colnames(datos) == v.factor)\n",
        "datos[,indice.col.factor] = as.factor(as.data.frame(datos)[,indice.col.factor])\n",
        "formula.anova = as.formula(paste0(v.depend, \"~\", v.factor))  # k>2 muestras independientes"
      ]
    },
    {
      "cell_type": "code",
      "execution_count": 17,
      "metadata": {
        "vscode": {
          "languageId": "r"
        }
      },
      "outputs": [
        {
          "data": {
            "image/png": "[encoded data removed]",
            "text/plain": [
              "plot without title"
            ]
          },
          "metadata": {
            "image/png": {
              "height": 420,
              "width": 420
            }
          },
          "output_type": "display_data"
        }
      ],
      "source": [
        "residuos.anova = Residuos (data = datos, v.depend, v.factor)\n",
        "ggqqplot(residuos.anova)"
      ]
    },
    {
      "cell_type": "code",
      "execution_count": 18,
      "metadata": {
        "vscode": {
          "languageId": "r"
        }
      },
      "outputs": [
        {
          "data": {
            "text/html": [
              "<table class=\"dataframe\">\n",
              "<caption>A tibble: 1 × 4</caption>\n",
              "<thead>\n",
              "\t<tr><th scope=col>df1</th><th scope=col>df2</th><th scope=col>statistic</th><th scope=col>p</th></tr>\n",
              "\t<tr><th scope=col>&lt;int&gt;</th><th scope=col>&lt;int&gt;</th><th scope=col>&lt;dbl&gt;</th><th scope=col>&lt;dbl&gt;</th></tr>\n",
              "</thead>\n",
              "<tbody>\n",
              "\t<tr><td>2</td><td>471</td><td>51.18872</td><td>7.649994e-21</td></tr>\n",
              "</tbody>\n",
              "</table>\n"
            ],
            "text/latex": [
              "A tibble: 1 × 4\n",
              "\\begin{tabular}{llll}\n",
              " df1 & df2 & statistic & p\\\\\n",
              " <int> & <int> & <dbl> & <dbl>\\\\\n",
              "\\hline\n",
              "\t 2 & 471 & 51.18872 & 7.649994e-21\\\\\n",
              "\\end{tabular}\n"
            ],
            "text/markdown": [
              "\n",
              "A tibble: 1 × 4\n",
              "\n",
              "| df1 &lt;int&gt; | df2 &lt;int&gt; | statistic &lt;dbl&gt; | p &lt;dbl&gt; |\n",
              "|---|---|---|---|\n",
              "| 2 | 471 | 51.18872 | 7.649994e-21 |\n",
              "\n"
            ],
            "text/plain": [
              "  df1 df2 statistic p           \n",
              "1 2   471 51.18872  7.649994e-21"
            ]
          },
          "metadata": {},
          "output_type": "display_data"
        }
      ],
      "source": [
        "test_homoc_levene = levene_test(formula.anova, data = datos)\n",
        "test_homoc_levene"
      ]
    },
    {
      "cell_type": "code",
      "execution_count": 19,
      "metadata": {
        "vscode": {
          "languageId": "r"
        }
      },
      "outputs": [
        {
          "data": {
            "image/png": "[encoded data removed]",
            "text/plain": [
              "plot without title"
            ]
          },
          "metadata": {
            "image/png": {
              "height": 420,
              "width": 420
            }
          },
          "output_type": "display_data"
        }
      ],
      "source": [
        "GraficoCajas(datos, v.depend, v.factor, \"Boxplot\")"
      ]
    },
    {
      "cell_type": "code",
      "execution_count": 21,
      "metadata": {
        "vscode": {
          "languageId": "r"
        }
      },
      "outputs": [
        {
          "data": {
            "image/png": "[encoded data removed]",
            "text/plain": [
              "plot without title"
            ]
          },
          "metadata": {
            "image/png": {
              "height": 420,
              "width": 420
            }
          },
          "output_type": "display_data"
        }
      ],
      "source": [
        "post_games_howell <- games_howell_test(datos, formula.anova)\n",
        "GraficoCajasPost(datos, v.depend, v.factor,\n",
        "                 es_param = TRUE , es_mr = FALSE, post_games_howell)"
      ]
    },
    {
      "cell_type": "code",
      "execution_count": 22,
      "metadata": {
        "vscode": {
          "languageId": "r"
        }
      },
      "outputs": [
        {
          "data": {
            "image/png": "[encoded data removed]",
            "text/plain": [
              "plot without title"
            ]
          },
          "metadata": {
            "image/png": {
              "height": 420,
              "width": 420
            }
          },
          "output_type": "display_data"
        }
      ],
      "source": [
        "post_tukey <- tukey_hsd(datos, formula.anova)\n",
        "GraficoCajasPost(datos, v.depend, v.factor,\n",
        "                 es_param = TRUE , es_mr = FALSE, post_tukey)"
      ]
    },
    {
      "cell_type": "code",
      "execution_count": 23,
      "metadata": {
        "vscode": {
          "languageId": "r"
        }
      },
      "outputs": [
        {
          "data": {
            "image/png": "[encoded data removed]",
            "text/plain": [
              "plot without title"
            ]
          },
          "metadata": {
            "image/png": {
              "height": 420,
              "width": 420
            }
          },
          "output_type": "display_data"
        }
      ],
      "source": [
        "post_pw_t_test <- pairwise_t_test (formula.anova, data = datos,\n",
        "                                   pool.sd = FALSE)\n",
        "GraficoCajasPost(datos, v.depend, v.factor ,\n",
        "                 es_param = TRUE , es_mr = FALSE, post_pw_t_test)"
      ]
    },
    {
      "cell_type": "code",
      "execution_count": 24,
      "metadata": {
        "vscode": {
          "languageId": "r"
        }
      },
      "outputs": [
        {
          "data": {
            "text/html": [
              "<table class=\"dataframe\">\n",
              "<caption>A rstatix_test: 3 × 9</caption>\n",
              "<thead>\n",
              "\t<tr><th></th><th scope=col>.y.</th><th scope=col>group1</th><th scope=col>group2</th><th scope=col>n1</th><th scope=col>n2</th><th scope=col>p</th><th scope=col>p.signif</th><th scope=col>p.adj</th><th scope=col>p.adj.signif</th></tr>\n",
              "\t<tr><th></th><th scope=col>&lt;chr&gt;</th><th scope=col>&lt;chr&gt;</th><th scope=col>&lt;chr&gt;</th><th scope=col>&lt;int&gt;</th><th scope=col>&lt;int&gt;</th><th scope=col>&lt;dbl&gt;</th><th scope=col>&lt;chr&gt;</th><th scope=col>&lt;dbl&gt;</th><th scope=col>&lt;chr&gt;</th></tr>\n",
              "</thead>\n",
              "<tbody>\n",
              "\t<tr><th scope=row>1</th><td>salario</td><td>Administrativo</td><td>Directivo</td><td>363</td><td>84</td><td>9.61e-109</td><td>****</td><td>2.88e-108</td><td>****</td></tr>\n",
              "\t<tr><th scope=row>2</th><td>salario</td><td>Administrativo</td><td>Seguridad</td><td>363</td><td>27</td><td> 1.26e-01</td><td>ns  </td><td> 1.26e-01</td><td>ns  </td></tr>\n",
              "\t<tr><th scope=row>3</th><td>salario</td><td>Directivo     </td><td>Seguridad</td><td> 84</td><td>27</td><td> 1.27e-40</td><td>****</td><td> 2.54e-40</td><td>****</td></tr>\n",
              "</tbody>\n",
              "</table>\n"
            ],
            "text/latex": [
              "A rstatix\\_test: 3 × 9\n",
              "\\begin{tabular}{r|lllllllll}\n",
              "  & .y. & group1 & group2 & n1 & n2 & p & p.signif & p.adj & p.adj.signif\\\\\n",
              "  & <chr> & <chr> & <chr> & <int> & <int> & <dbl> & <chr> & <dbl> & <chr>\\\\\n",
              "\\hline\n",
              "\t1 & salario & Administrativo & Directivo & 363 & 84 & 9.61e-109 & **** & 2.88e-108 & ****\\\\\n",
              "\t2 & salario & Administrativo & Seguridad & 363 & 27 &  1.26e-01 & ns   &  1.26e-01 & ns  \\\\\n",
              "\t3 & salario & Directivo      & Seguridad &  84 & 27 &  1.27e-40 & **** &  2.54e-40 & ****\\\\\n",
              "\\end{tabular}\n"
            ],
            "text/markdown": [
              "\n",
              "A rstatix_test: 3 × 9\n",
              "\n",
              "| <!--/--> | .y. &lt;chr&gt; | group1 &lt;chr&gt; | group2 &lt;chr&gt; | n1 &lt;int&gt; | n2 &lt;int&gt; | p &lt;dbl&gt; | p.signif &lt;chr&gt; | p.adj &lt;dbl&gt; | p.adj.signif &lt;chr&gt; |\n",
              "|---|---|---|---|---|---|---|---|---|---|\n",
              "| 1 | salario | Administrativo | Directivo | 363 | 84 | 9.61e-109 | **** | 2.88e-108 | **** |\n",
              "| 2 | salario | Administrativo | Seguridad | 363 | 27 |  1.26e-01 | ns   |  1.26e-01 | ns   |\n",
              "| 3 | salario | Directivo      | Seguridad |  84 | 27 |  1.27e-40 | **** |  2.54e-40 | **** |\n",
              "\n"
            ],
            "text/plain": [
              "  .y.     group1         group2    n1  n2 p         p.signif p.adj    \n",
              "1 salario Administrativo Directivo 363 84 9.61e-109 ****     2.88e-108\n",
              "2 salario Administrativo Seguridad 363 27  1.26e-01 ns        1.26e-01\n",
              "3 salario Directivo      Seguridad  84 27  1.27e-40 ****      2.54e-40\n",
              "  p.adj.signif\n",
              "1 ****        \n",
              "2 ns          \n",
              "3 ****        "
            ]
          },
          "metadata": {},
          "output_type": "display_data"
        }
      ],
      "source": [
        "post_pw_t_test_JAMOVI <- pairwise_t_test (formula.anova, data = datos,\n",
        "                                   pool.sd = TRUE)\n",
        "post_pw_t_test_JAMOVI"
      ]
    },
    {
      "cell_type": "markdown",
      "metadata": {},
      "source": [
        "### 2.1.4 Anova para k muestras independientes (test no paramétrico)\n",
        "\n",
        "#### 2.1.4.1 Test conjunto (omnibus)\n",
        "\n",
        "Recordemos que al no cumplirse la hipótesis de normalidad de los residuos, es conveniente aplicar un test no paramétrico. Para ejecutar el test de Kruskal-Wallis llamamos a la función de en la forma habitual con la fórmula y los datos. Llamamos también a la función . Nos debe salir lo siguiente:\n",
        "\n",
        "Recordemos que el test de Kruskal-Wallis es un test de dominancia estocástica. Si los grupos hubiesen presentado distribuciones similares, también sería un test sobre las medianas. Sin embargo, hemos visto que las varianzas son distintas en cada grupo por lo que no tienen distribuciones similares.\n",
        "\n",
        "En cualquier caso, si queremos ver las distribuciones de cada grupo, podemos usar la función de la siguiente forma:\n",
        "\n",
        "#### 2.1.4.2 Post hoc\n",
        "\n",
        "**Post hoc específico**\n",
        "\n",
        "proporciona el test específico de Dunn en vez del test de Dwass-Steel-Critchlow-Fligner que veíamos con Jamovi. Se ejecuta en la forma habitual:\n",
        "\n",
        "Un test específico aún mejor que el de Dunn es el test de Conover incluido en el paquete a través de la función . En este test, hay que especificar el tipo de penalización a realizar. Usamos la de Holm :\n",
        "\n",
        "Podemos apreciar que el test de Conover es capaz de rechazar la igualdad entre Administrativos y Seguridad con más fuerza que el de Dunn.\n",
        "\n",
        "**Nota**: Si desea lanzar manualmente el test de Dwass-Steel-Critchlow-Fligner , puede recurrir a la función en el paquete . También puede ejecutar el test de Nemenyi a través de la función del mismo paquete.\n",
        "\n",
        "**Nota**: El paquete contiene muchos tests para realizar el post hoc no paramétrico. Sin embargo, los tests no son compatibles con , por lo que no podremos mostrar los resultados con la función .\n",
        "\n",
        "**Post hoc genérico**\n",
        "\n",
        "Para ejecutar las comparaciones múltiples usando un test genérico con una penalización del nivel de significación usamos la misma función que usábamos para ejecutar el test de Mann-Whitney en el caso no paramétrico de 2 muestras independientes. Si la variable factor de la fórmula pasada como parámetro contiene más de un grupo, automáticamente se realizan las comparaciones múltiples:\n",
        "\n",
        "Concluimos por tanto que hay diferencias significativas en los tres grupos. Formalmente, para poder concluir cuál es mayor que la otra, deberíamos haber aplicado tests a una cola (one-sided test)\n",
        "\n",
        "Para ello habría que seleccionar la opción en la función . En cualquier caso, es claro que los directivos dominan de forma estocástica sobre los otros dos grupos. No está tan claro en el caso de los de Seguridad y Administrativos, por lo que si quisiéramos inferir conclusiones con garantía estadística, habría que lanzar los tests a una cola (si lo hace comprobará que, efectivamente, el salario del grupo de seguridad es mayor -según el criterio de dominancia estocástica- que los administrativos)\n",
        "\n",
        "**Post hoc con control**\n",
        "\n",
        "Si queremos fijar un grupo de control , podemos usar el test específico de Conover (usando la función de ) o bien el test genérico de Wilcoxon usando la función anterior y el parámetro ."
      ]
    },
    {
      "cell_type": "code",
      "execution_count": 25,
      "metadata": {
        "vscode": {
          "languageId": "r"
        }
      },
      "outputs": [],
      "source": [
        "# COMPLETAR"
      ]
    },
    {
      "cell_type": "code",
      "execution_count": 26,
      "metadata": {
        "vscode": {
          "languageId": "r"
        }
      },
      "outputs": [
        {
          "data": {
            "image/png": "[encoded data removed]",
            "text/plain": [
              "plot without title"
            ]
          },
          "metadata": {
            "image/png": {
              "height": 420,
              "width": 420
            }
          },
          "output_type": "display_data"
        }
      ],
      "source": [
        "ggdensity(as.data.frame(datos), v.depend, facet.by = v.factor)"
      ]
    },
    {
      "cell_type": "code",
      "execution_count": 27,
      "metadata": {
        "vscode": {
          "languageId": "r"
        }
      },
      "outputs": [
        {
          "data": {
            "image/png": "[encoded data removed]",
            "text/plain": [
              "plot without title"
            ]
          },
          "metadata": {
            "image/png": {
              "height": 420,
              "width": 420
            }
          },
          "output_type": "display_data"
        }
      ],
      "source": [
        "post_kw_dunn = dunn_test(formula.anova, data = datos)\n",
        "GraficoCajasPost(datos, v.depend, v.factor,\n",
        "                 es_param = FALSE , es_mr = FALSE, post_kw_dunn)"
      ]
    },
    {
      "cell_type": "code",
      "execution_count": 28,
      "metadata": {
        "vscode": {
          "languageId": "r"
        }
      },
      "outputs": [
        {
          "name": "stderr",
          "output_type": "stream",
          "text": [
            "Warning message in kwAllPairsConoverTest.default(c(57000L, 40200L, 21450L, 21900L, :\n",
            "\"Ties are present. Quantiles were corrected for ties.\"\n",
            "\n",
            "\tPairwise comparisons using Conover's all-pairs test\n",
            "\n",
            "\n",
            "data: salario by catlab\n",
            "\n",
            "\n",
            "\n",
            "P value adjustment method: holm\n",
            "\n"
          ]
        },
        {
          "data": {
            "text/plain": [
              "          Administrativo Directivo\n",
              "Directivo < 2e-16        -        \n",
              "Seguridad 1.9e-05        3.1e-10  "
            ]
          },
          "metadata": {},
          "output_type": "display_data"
        }
      ],
      "source": [
        "post_kw_conover = kwAllPairsConoverTest(formula.anova, data = datos,\n",
        "                                        p.adjust.method = \"holm\")\n",
        "post_kw_conover"
      ]
    },
    {
      "cell_type": "code",
      "execution_count": 29,
      "metadata": {
        "vscode": {
          "languageId": "r"
        }
      },
      "outputs": [
        {
          "data": {
            "image/png": "[encoded data removed]",
            "text/plain": [
              "plot without title"
            ]
          },
          "metadata": {
            "image/png": {
              "height": 420,
              "width": 420
            }
          },
          "output_type": "display_data"
        }
      ],
      "source": [
        "post_kw_wilc = rstatix::wilcox_test(formula.anova, data = datos)\n",
        "GraficoCajasPost(datos, v.depend, v.factor,\n",
        "                 es_param = FALSE, es_mr = FALSE, post_kw_wilc)"
      ]
    }
  ],
  "metadata": {
    "kernelspec": {
      "display_name": "R",
      "language": "R",
      "name": "ir"
    },
    "language_info": {
      "codemirror_mode": "r",
      "file_extension": ".r",
      "mimetype": "text/x-r-source",
      "name": "R",
      "pygments_lexer": "r",
      "version": "4.5.1"
    }
  },
  "nbformat": 4,
  "nbformat_minor": 5
}
