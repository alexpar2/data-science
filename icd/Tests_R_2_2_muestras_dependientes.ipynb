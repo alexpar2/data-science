{
  "cells": [
    {
      "cell_type": "markdown",
      "metadata": {},
      "source": [
        "# 2.2 Tests para muestras dependientes / medidas repetidas (R)\n",
        "\n",
        "_Este cuaderno se basa en el guion en HTML. El texto ha sido limpiado y **no incluye salidas de ejemplo**; sólo explicaciones en español. Se han añadido subsubsecciones explícitas._\n",
        "\n",
        "## Índice\n",
        "\n",
        "- 2.2 Tests para muestras\n",
        "dependientes o de medidas repetidas"
      ]
    },
    {
      "cell_type": "code",
      "execution_count": 41,
      "metadata": {
        "vscode": {
          "languageId": "r"
        }
      },
      "outputs": [
        {
          "name": "stderr",
          "output_type": "stream",
          "text": [
            "Funciones cargadas desde: IntrodEstadFunciones.R\n",
            "\n"
          ]
        }
      ],
      "source": [
        "\n",
        "# --- Preámbulo del cuaderno (R) ---\n",
        "# Carga de funciones auxiliares\n",
        "helper_paths <- c(\"IntrodEstadFunciones.R\", \"/mnt/data/IntrodEstadFunciones.R\")\n",
        "found <- helper_paths[file.exists(helper_paths)]\n",
        "if (length(found) > 0) {\n",
        "  source(found[1], encoding = \"UTF-8\")\n",
        "  message(\"Funciones cargadas desde: \", found[1])\n",
        "} else {\n",
        "  message(\"Aviso: no se encontró 'IntrodEstadFunciones.R'. Colóquelo junto al notebook o ajuste la ruta.\")\n",
        "}\n",
        "\n",
        "# Paquetes usados a lo largo del cuaderno\n",
        "auto_install <- TRUE\n",
        "req <- c(\"ggplot2\",\"ggpubr\",\"ggsci\",\"dplyr\",\"readr\",\"rstatix\",\"PMCMRplus\",\"car\",\"rstatix\", \"tidyverse\", \"DescTools\")\n",
        "if (auto_install) {\n",
        "  to_install <- setdiff(req, rownames(installed.packages()))\n",
        "  if (length(to_install)) install.packages(to_install)\n",
        "}\n",
        "suppressPackageStartupMessages({\n",
        "  for (p in intersect(req, rownames(installed.packages()))) library(p, character.only = TRUE)\n",
        "})\n",
        "options(stringsAsFactors = FALSE)\n"
      ]
    },
    {
      "cell_type": "code",
      "execution_count": 42,
      "id": "419dc57b",
      "metadata": {
        "vscode": {
          "languageId": "r"
        }
      },
      "outputs": [],
      "source": [
        "load(\"DatosEmpleados.RData\")\n",
        "datos = DatosEmpleados\n",
        "v.depend = \"salario\"\n",
        "v.factor.2.valores = \"sexo\"\n",
        "indice.col.factor.2valores = which(colnames(datos) == v.factor.2.valores)\n",
        "datos[,indice.col.factor.2valores] = as.factor(as.data.frame(datos)[,indice.col.factor.2valores])"
      ]
    },
    {
      "cell_type": "markdown",
      "metadata": {},
      "source": [
        "## 2.2 Tests para muestras dependientes o de medidas repetidas"
      ]
    },
    {
      "cell_type": "markdown",
      "metadata": {},
      "source": [
        "Tal y como vimos en el apartado de Jamovi, asumimos que las filas dentro de cada grupo son independientes entre sí. Obviamente, las filas de grupos distintos no son independientes entre sí."
      ]
    },
    {
      "cell_type": "markdown",
      "metadata": {},
      "source": [
        "Usaremos el sufijo (medidas repetidas) en los nombres de las variables y objetos que creemos."
      ]
    },
    {
      "cell_type": "markdown",
      "metadata": {},
      "source": [
        "### 2.2.1 Prueba T (t-Student) para dos muestras pareadas (medidas repetidas)\n",
        "\n",
        "**Test**: ¿Puede considerarse que la diferencia entre las medias del salario actual y el salario inicial es cero?\n",
        "\n",
        "Para lanzar el test T para muestras pareadas usando directamente el conjunto de datos original, podemos usar la función (observe que no es la función de). Le pasamos como parámetro los dos vectores correspondientes a las dos muestras pareadas (salario inicial y salario final) y, muy importante, el parámetro `paired = TRUE` (muestras dependientes):\n",
        "\n",
        "En cualquier caso, la mayor parte de los tests sobre medidas repetidas los lanzaremos de otra forma. Necesitamos convertir los datos desde el formato **wide** al formato **long**.\n",
        "\n",
        "#### Conversión de formato wide a long\n",
        "\n",
        "En el ejemplo de los datos de empleados, queremos construir un nuevo conjunto de datos con dos variables nuevas:\n",
        "\n",
        "Por una parte tendremos la variable nominal que puede verse como un factor intra sujetos. Dicha variable tendrá dos valores de tipo texto: `salario` (salario inicial) y `salini` (salario final). Observe que ambos valores son nominales (cadenas de texto) que coindicen con los nombres de las columnas originales.\n",
        "\n",
        "Por otra parte, tendremos una nueva variable `Salario` (se ha usado una mayúscula al inicio para distinguirla de la columna original). Cada fila del conjunto original se desdoblará en dos: una fila contendrá el valor `salario` (texto) en la columna y el valor (dato de tipo real) del salario inicial en la columna. La otra fila contendrá el valor de texto `salini` en la columna y el valor del salario final (dato de tipo real) en la columna.\n",
        "\n",
        "Este mismo proceso se generaliza con k grupos. Para realizar esta conversión, hacemos uso de la función `pivot_longer()` del paquete `tidyverse`.\n",
        "\n",
        "#### Configuración de variables\n",
        "\n",
        "Almacenamos en la variable `v.id.mr` el nombre de la columna del conjunto de datos que identifica a cada fila de forma unívoca (en nuestro caso `Id`). En el vector `columnas.mr` (columnas.medidas.repetidas) guardamos los nombres de las columnas que representan las medidas repetidas. En la variable `v.depend.mr` guardamos el nombre de la nueva variable dependiente que se va a crear. En la variable `v.factor.mr` guardamos el nombre de la nueva variable factor que vamos a crear, en nuestro caso `Tiempo`.\n",
        "\n",
        "El resultado lo guardamos en el dataset `datos.mr.long`:\n",
        "\n",
        "Convertimos también al tipo factor la variable nueva factor que hemos creado, así como la columna del identificador. Lo hacemos con los nombres genéricos que hemos introducido anteriormente:\n",
        "\n",
        "#### Aplicación del test T\n",
        "\n",
        "Ya tenemos preparado nuestro conjunto de datos para aplicar las funciones de `rstatix` (y de muchos otros paquetes de R). Si vamos a usar la función `t_test()` (observe que es `t_test()` y no `t.test()`) tenemos que usar la siguiente fórmula:\n",
        "\n",
        "`Salario ~ Tiempo`\n",
        "\n",
        "o usando el formato genérico con las variables anteriores:\n",
        "\n",
        "Llamamos a la función con el parámetro `paired = TRUE`\n",
        "\n",
        "#### Verificación de normalidad\n",
        "\n",
        "Para comprobar la hipótesis de normalidad basta con calcular la columna formada por las diferencias de las dos muestras pareadas (ambas tienen el mismo tamaño) y aplicar el test de Shapiro o ver el gráfico QQ.\n",
        "\n",
        "Podemos usar las columnas que habíamos construido (`salario` y `salini`) o bien creamos unas nuevas con los nombres genéricos que hemos introducido anteriormente:\n",
        "\n",
        "Podemos apreciar que hay una desviación bastante notable de la normalidad por lo que será preferible aplicar un test no paramétrico.\n",
        "\n",
        "**Nota**: También podríamos haber analizado los residuos: esto se verá posteriormente, cuando veamos el ANOVA general para medidas repetidas."
      ]
    },
    {
      "cell_type": "code",
      "execution_count": 43,
      "metadata": {
        "vscode": {
          "languageId": "r"
        }
      },
      "outputs": [
        {
          "data": {
            "text/plain": [
              "\n",
              "\tPaired t-test\n",
              "\n",
              "data:  col.salario.inicial and col.salario.final\n",
              "t = 35.036, df = 473, p-value < 2.2e-16\n",
              "alternative hypothesis: true mean difference is not equal to 0\n",
              "95 percent confidence interval:\n",
              " 16427.41 18379.56\n",
              "sample estimates:\n",
              "mean difference \n",
              "       17403.48 \n"
            ]
          },
          "metadata": {},
          "output_type": "display_data"
        }
      ],
      "source": [
        "col.salario.inicial = datos$salario\n",
        "col.salario.final = datos$salini\n",
        "t.test.mr = t.test(col.salario.inicial, col.salario.final,\n",
        "                   paired = TRUE)\n",
        "t.test.mr"
      ]
    },
    {
      "cell_type": "code",
      "execution_count": 44,
      "metadata": {
        "vscode": {
          "languageId": "r"
        }
      },
      "outputs": [],
      "source": [
        "datos.mr.wide = DatosEmpleados\n",
        "v.id.mr = \"Id\"\n",
        "columnas.mr = c(\"salario\", \"salini\")\n",
        "v.depend.mr = \"Salario\"\n",
        "v.factor.mr = \"Tiempo\"\n",
        "datos.mr.long = pivot_longer(datos.mr.wide,\n",
        "                             cols = any_of(columnas.mr),\n",
        "                             names_to = v.factor.mr,\n",
        "                             values_to = v.depend.mr)"
      ]
    },
    {
      "cell_type": "code",
      "execution_count": 45,
      "metadata": {
        "vscode": {
          "languageId": "r"
        }
      },
      "outputs": [
        {
          "data": {
            "text/html": [
              "<table class=\"dataframe\">\n",
              "<caption>A data.frame: 3 × 10</caption>\n",
              "<thead>\n",
              "\t<tr><th></th><th scope=col>Id</th><th scope=col>sexo</th><th scope=col>fechnac</th><th scope=col>educ</th><th scope=col>catlab</th><th scope=col>salario</th><th scope=col>salini</th><th scope=col>tiempemp</th><th scope=col>expprev</th><th scope=col>minoría</th></tr>\n",
              "\t<tr><th></th><th scope=col>&lt;int&gt;</th><th scope=col>&lt;fct&gt;</th><th scope=col>&lt;chr&gt;</th><th scope=col>&lt;int&gt;</th><th scope=col>&lt;fct&gt;</th><th scope=col>&lt;int&gt;</th><th scope=col>&lt;int&gt;</th><th scope=col>&lt;int&gt;</th><th scope=col>&lt;int&gt;</th><th scope=col>&lt;fct&gt;</th></tr>\n",
              "</thead>\n",
              "<tbody>\n",
              "\t<tr><th scope=row>1</th><td>1</td><td>Hombre</td><td>2/3/1952 </td><td>15</td><td>Directivo     </td><td>57000</td><td>27000</td><td>98</td><td>144</td><td>No</td></tr>\n",
              "\t<tr><th scope=row>2</th><td>2</td><td>Hombre</td><td>5/23/1958</td><td>16</td><td>Administrativo</td><td>40200</td><td>18750</td><td>98</td><td> 36</td><td>No</td></tr>\n",
              "\t<tr><th scope=row>3</th><td>3</td><td>Mujer </td><td>7/26/1929</td><td>12</td><td>Administrativo</td><td>21450</td><td>12000</td><td>98</td><td>381</td><td>No</td></tr>\n",
              "</tbody>\n",
              "</table>\n"
            ],
            "text/latex": [
              "A data.frame: 3 × 10\n",
              "\\begin{tabular}{r|llllllllll}\n",
              "  & Id & sexo & fechnac & educ & catlab & salario & salini & tiempemp & expprev & minoría\\\\\n",
              "  & <int> & <fct> & <chr> & <int> & <fct> & <int> & <int> & <int> & <int> & <fct>\\\\\n",
              "\\hline\n",
              "\t1 & 1 & Hombre & 2/3/1952  & 15 & Directivo      & 57000 & 27000 & 98 & 144 & No\\\\\n",
              "\t2 & 2 & Hombre & 5/23/1958 & 16 & Administrativo & 40200 & 18750 & 98 &  36 & No\\\\\n",
              "\t3 & 3 & Mujer  & 7/26/1929 & 12 & Administrativo & 21450 & 12000 & 98 & 381 & No\\\\\n",
              "\\end{tabular}\n"
            ],
            "text/markdown": [
              "\n",
              "A data.frame: 3 × 10\n",
              "\n",
              "| <!--/--> | Id &lt;int&gt; | sexo &lt;fct&gt; | fechnac &lt;chr&gt; | educ &lt;int&gt; | catlab &lt;fct&gt; | salario &lt;int&gt; | salini &lt;int&gt; | tiempemp &lt;int&gt; | expprev &lt;int&gt; | minoría &lt;fct&gt; |\n",
              "|---|---|---|---|---|---|---|---|---|---|---|\n",
              "| 1 | 1 | Hombre | 2/3/1952  | 15 | Directivo      | 57000 | 27000 | 98 | 144 | No |\n",
              "| 2 | 2 | Hombre | 5/23/1958 | 16 | Administrativo | 40200 | 18750 | 98 |  36 | No |\n",
              "| 3 | 3 | Mujer  | 7/26/1929 | 12 | Administrativo | 21450 | 12000 | 98 | 381 | No |\n",
              "\n"
            ],
            "text/plain": [
              "  Id sexo   fechnac   educ catlab         salario salini tiempemp expprev\n",
              "1 1  Hombre 2/3/1952  15   Directivo      57000   27000  98       144    \n",
              "2 2  Hombre 5/23/1958 16   Administrativo 40200   18750  98        36    \n",
              "3 3  Mujer  7/26/1929 12   Administrativo 21450   12000  98       381    \n",
              "  minoría\n",
              "1 No     \n",
              "2 No     \n",
              "3 No     "
            ]
          },
          "metadata": {},
          "output_type": "display_data"
        },
        {
          "data": {
            "text/html": [
              "<table class=\"dataframe\">\n",
              "<caption>A tibble: 6 × 10</caption>\n",
              "<thead>\n",
              "\t<tr><th scope=col>Id</th><th scope=col>sexo</th><th scope=col>fechnac</th><th scope=col>educ</th><th scope=col>catlab</th><th scope=col>tiempemp</th><th scope=col>expprev</th><th scope=col>minoría</th><th scope=col>Tiempo</th><th scope=col>Salario</th></tr>\n",
              "\t<tr><th scope=col>&lt;int&gt;</th><th scope=col>&lt;fct&gt;</th><th scope=col>&lt;chr&gt;</th><th scope=col>&lt;int&gt;</th><th scope=col>&lt;fct&gt;</th><th scope=col>&lt;int&gt;</th><th scope=col>&lt;int&gt;</th><th scope=col>&lt;fct&gt;</th><th scope=col>&lt;chr&gt;</th><th scope=col>&lt;int&gt;</th></tr>\n",
              "</thead>\n",
              "<tbody>\n",
              "\t<tr><td>1</td><td>Hombre</td><td>2/3/1952 </td><td>15</td><td>Directivo     </td><td>98</td><td>144</td><td>No</td><td>salario</td><td>57000</td></tr>\n",
              "\t<tr><td>1</td><td>Hombre</td><td>2/3/1952 </td><td>15</td><td>Directivo     </td><td>98</td><td>144</td><td>No</td><td>salini </td><td>27000</td></tr>\n",
              "\t<tr><td>2</td><td>Hombre</td><td>5/23/1958</td><td>16</td><td>Administrativo</td><td>98</td><td> 36</td><td>No</td><td>salario</td><td>40200</td></tr>\n",
              "\t<tr><td>2</td><td>Hombre</td><td>5/23/1958</td><td>16</td><td>Administrativo</td><td>98</td><td> 36</td><td>No</td><td>salini </td><td>18750</td></tr>\n",
              "\t<tr><td>3</td><td>Mujer </td><td>7/26/1929</td><td>12</td><td>Administrativo</td><td>98</td><td>381</td><td>No</td><td>salario</td><td>21450</td></tr>\n",
              "\t<tr><td>3</td><td>Mujer </td><td>7/26/1929</td><td>12</td><td>Administrativo</td><td>98</td><td>381</td><td>No</td><td>salini </td><td>12000</td></tr>\n",
              "</tbody>\n",
              "</table>\n"
            ],
            "text/latex": [
              "A tibble: 6 × 10\n",
              "\\begin{tabular}{llllllllll}\n",
              " Id & sexo & fechnac & educ & catlab & tiempemp & expprev & minoría & Tiempo & Salario\\\\\n",
              " <int> & <fct> & <chr> & <int> & <fct> & <int> & <int> & <fct> & <chr> & <int>\\\\\n",
              "\\hline\n",
              "\t 1 & Hombre & 2/3/1952  & 15 & Directivo      & 98 & 144 & No & salario & 57000\\\\\n",
              "\t 1 & Hombre & 2/3/1952  & 15 & Directivo      & 98 & 144 & No & salini  & 27000\\\\\n",
              "\t 2 & Hombre & 5/23/1958 & 16 & Administrativo & 98 &  36 & No & salario & 40200\\\\\n",
              "\t 2 & Hombre & 5/23/1958 & 16 & Administrativo & 98 &  36 & No & salini  & 18750\\\\\n",
              "\t 3 & Mujer  & 7/26/1929 & 12 & Administrativo & 98 & 381 & No & salario & 21450\\\\\n",
              "\t 3 & Mujer  & 7/26/1929 & 12 & Administrativo & 98 & 381 & No & salini  & 12000\\\\\n",
              "\\end{tabular}\n"
            ],
            "text/markdown": [
              "\n",
              "A tibble: 6 × 10\n",
              "\n",
              "| Id &lt;int&gt; | sexo &lt;fct&gt; | fechnac &lt;chr&gt; | educ &lt;int&gt; | catlab &lt;fct&gt; | tiempemp &lt;int&gt; | expprev &lt;int&gt; | minoría &lt;fct&gt; | Tiempo &lt;chr&gt; | Salario &lt;int&gt; |\n",
              "|---|---|---|---|---|---|---|---|---|---|\n",
              "| 1 | Hombre | 2/3/1952  | 15 | Directivo      | 98 | 144 | No | salario | 57000 |\n",
              "| 1 | Hombre | 2/3/1952  | 15 | Directivo      | 98 | 144 | No | salini  | 27000 |\n",
              "| 2 | Hombre | 5/23/1958 | 16 | Administrativo | 98 |  36 | No | salario | 40200 |\n",
              "| 2 | Hombre | 5/23/1958 | 16 | Administrativo | 98 |  36 | No | salini  | 18750 |\n",
              "| 3 | Mujer  | 7/26/1929 | 12 | Administrativo | 98 | 381 | No | salario | 21450 |\n",
              "| 3 | Mujer  | 7/26/1929 | 12 | Administrativo | 98 | 381 | No | salini  | 12000 |\n",
              "\n"
            ],
            "text/plain": [
              "  Id sexo   fechnac   educ catlab         tiempemp expprev minoría Tiempo \n",
              "1 1  Hombre 2/3/1952  15   Directivo      98       144     No      salario\n",
              "2 1  Hombre 2/3/1952  15   Directivo      98       144     No      salini \n",
              "3 2  Hombre 5/23/1958 16   Administrativo 98        36     No      salario\n",
              "4 2  Hombre 5/23/1958 16   Administrativo 98        36     No      salini \n",
              "5 3  Mujer  7/26/1929 12   Administrativo 98       381     No      salario\n",
              "6 3  Mujer  7/26/1929 12   Administrativo 98       381     No      salini \n",
              "  Salario\n",
              "1 57000  \n",
              "2 27000  \n",
              "3 40200  \n",
              "4 18750  \n",
              "5 21450  \n",
              "6 12000  "
            ]
          },
          "metadata": {},
          "output_type": "display_data"
        }
      ],
      "source": [
        "datos.mr.wide[c(1:3),]\n",
        "datos.mr.long[c(1:6),]"
      ]
    },
    {
      "cell_type": "code",
      "execution_count": 46,
      "metadata": {
        "vscode": {
          "languageId": "r"
        }
      },
      "outputs": [],
      "source": [
        "indice.col.id.mr = which(colnames(datos.mr.long) == v.id.mr)\n",
        "indice.col.factor.mr = which(colnames(datos.mr.long) == v.factor.mr)\n",
        "datos.mr.long[,indice.col.id.mr] = as.factor(as.data.frame(datos.mr.long)[,indice.col.id.mr])\n",
        "datos.mr.long[,indice.col.factor.mr] =as.factor(as.data.frame(datos.mr.long)[,indice.col.factor.mr])"
      ]
    },
    {
      "cell_type": "code",
      "execution_count": 47,
      "metadata": {
        "vscode": {
          "languageId": "r"
        }
      },
      "outputs": [],
      "source": [
        "formula.mr.sin.error = Salario ~ Tiempo"
      ]
    },
    {
      "cell_type": "code",
      "execution_count": 48,
      "metadata": {
        "vscode": {
          "languageId": "r"
        }
      },
      "outputs": [
        {
          "data": {
            "text/plain": [
              "Salario ~ Tiempo"
            ]
          },
          "metadata": {},
          "output_type": "display_data"
        }
      ],
      "source": [
        "formula.mr.sin.error = as.formula(paste0(v.depend.mr, \"~\", v.factor.mr))\n",
        "formula.mr.sin.error"
      ]
    },
    {
      "cell_type": "code",
      "execution_count": 49,
      "metadata": {
        "vscode": {
          "languageId": "r"
        }
      },
      "outputs": [
        {
          "data": {
            "image/png": "[encoded data removed]",
            "text/plain": [
              "plot without title"
            ]
          },
          "metadata": {
            "image/png": {
              "height": 420,
              "width": 420
            }
          },
          "output_type": "display_data"
        }
      ],
      "source": [
        "test_t_mr <- t_test(formula = formula.mr.sin.error,\n",
        "                    data = datos.mr.long, paired = TRUE)\n",
        "GraficoCajasTest(datos.mr.long, v.depend.mr, v.factor.mr,\n",
        "                 es_param = TRUE, es_mr = TRUE, test_t_mr)"
      ]
    },
    {
      "cell_type": "code",
      "execution_count": 50,
      "metadata": {
        "vscode": {
          "languageId": "r"
        }
      },
      "outputs": [
        {
          "data": {
            "text/plain": [
              "\n",
              "\tShapiro-Wilk normality test\n",
              "\n",
              "data:  col.mr.1 - col.mr.2\n",
              "W = 0.78168, p-value < 2.2e-16\n"
            ]
          },
          "metadata": {},
          "output_type": "display_data"
        },
        {
          "data": {
            "image/png": "[encoded data removed]",
            "text/plain": [
              "plot without title"
            ]
          },
          "metadata": {
            "image/png": {
              "height": 420,
              "width": 420
            }
          },
          "output_type": "display_data"
        }
      ],
      "source": [
        "col.mr.1 = datos.mr.wide[,columnas.mr[1]]\n",
        "col.mr.2 = datos.mr.wide[,columnas.mr[2]]\n",
        "shapiro.test(x = col.mr.1 - col.mr.2)\n",
        "ggqqplot(col.mr.1 - col.mr.2)"
      ]
    },
    {
      "cell_type": "markdown",
      "metadata": {},
      "source": [
        "### 2.2.2 Test no paramétrico para comparar dos muestras dependientes (medidas repetidas)\n",
        "\n",
        "**Test**: ¿Puede considerarse que la diferencia entre las medianas del salario inicial y el salario final es cero?\n",
        "\n",
        "En el caso no paramétrico, debemos lanzar el test de Wilcoxon (**Wilcoxon signed-rank test**). Para ello, llamamos a la función `wilcox_test()` de `rstatix`. Le pasamos la misma fórmula que habíamos usado en el test t de 2 muestras con medidas repetidas e incluimos el parámetro `paired = TRUE`:\n",
        "\n",
        "#### Verificación de simetría\n",
        "\n",
        "Para poder asegurar que el test de Wilcoxon es fiable necesitamos comprobar el requisito de que las diferencias se distribuyen de forma simétrica con respecto a la mediana.\n",
        "\n",
        "Vemos que no es una distribución simétrica, por lo que procedemos a aplicar el **sign-test** aplicando la función `sign_test()` de `rstatix`.\n",
        "\n",
        "#### Test de signos\n",
        "\n",
        "El sign-test sólo tiene en cuenta si un valor es mayor que otro, pero no cuánto más, por lo que pierde información y tiene menos potencia que el test de Wilcoxon.\n",
        "\n",
        "Por lo tanto, a pesar de haber tenido que aplicar el sign-test que es menos potente que el de Wilcoxon, podemos concluir que las medianas son distintas y por tanto el salario mediano inicial es menor que el salario mediano final.\n",
        "\n",
        "#### Nota sobre tests direccionales\n",
        "\n",
        "Formalmente, para poder concluir cuál es mayor que la otra, deberíamos haber aplicado un test a una cola (**one-sided test**). Para ello habría que seleccionar la opción `alternative = \"greater\"` en la función `wilcox_test()` (o en la función `sign_test()`)."
      ]
    },
    {
      "cell_type": "code",
      "execution_count": 51,
      "metadata": {
        "vscode": {
          "languageId": "r"
        }
      },
      "outputs": [
        {
          "data": {
            "text/plain": [
              "Salario ~ Tiempo"
            ]
          },
          "metadata": {},
          "output_type": "display_data"
        },
        {
          "data": {
            "image/png": "[encoded data removed]",
            "text/plain": [
              "plot without title"
            ]
          },
          "metadata": {
            "image/png": {
              "height": 420,
              "width": 420
            }
          },
          "output_type": "display_data"
        }
      ],
      "source": [
        "formula.mr.sin.error\n",
        "test_wilcoxon_mr = wilcox_test(formula.mr.sin.error, data = datos.mr.long,\n",
        "                               paired = TRUE)\n",
        "GraficoCajasTest(datos.mr.long, v.depend.mr, v.factor.mr,\n",
        "                 es_param = FALSE, es_mr = TRUE ,\n",
        "                 test_wilcoxon_mr)"
      ]
    },
    {
      "cell_type": "code",
      "execution_count": 52,
      "metadata": {
        "vscode": {
          "languageId": "r"
        }
      },
      "outputs": [
        {
          "data": {
            "image/png": "[encoded data removed]",
            "text/plain": [
              "plot without title"
            ]
          },
          "metadata": {
            "image/png": {
              "height": 420,
              "width": 420
            }
          },
          "output_type": "display_data"
        }
      ],
      "source": [
        "diferencias = col.mr.1 - col.mr.2\n",
        "ggdensity(data = diferencias)"
      ]
    },
    {
      "cell_type": "code",
      "execution_count": 53,
      "metadata": {
        "vscode": {
          "languageId": "r"
        }
      },
      "outputs": [
        {
          "data": {
            "text/html": [
              "14250"
            ],
            "text/latex": [
              "14250"
            ],
            "text/markdown": [
              "14250"
            ],
            "text/plain": [
              "[1] 14250"
            ]
          },
          "metadata": {},
          "output_type": "display_data"
        }
      ],
      "source": [
        "median(diferencias)"
      ]
    },
    {
      "cell_type": "code",
      "execution_count": 54,
      "metadata": {
        "vscode": {
          "languageId": "r"
        }
      },
      "outputs": [
        {
          "data": {
            "image/png": "[encoded data removed]",
            "text/plain": [
              "plot without title"
            ]
          },
          "metadata": {
            "image/png": {
              "height": 420,
              "width": 420
            }
          },
          "output_type": "display_data"
        }
      ],
      "source": [
        "test_sign_mr = sign_test(formula.mr.sin.error, data = datos.mr.long)\n",
        "\n",
        "GraficoCajasTest(datos.mr.long, v.depend.mr, v.factor.mr,\n",
        "                 es_param = FALSE, es_mr = TRUE ,\n",
        "                 test_sign_mr)"
      ]
    },
    {
      "cell_type": "markdown",
      "metadata": {},
      "source": [
        "### 2.2.3 Anova para k muestras dependientes (test paramétrico de medidas repetidas)\n",
        "\n",
        "Trabajamos con el conjunto de datos `Cholesterol.RData`. Los datos vienen en formato **wide** por lo que tendrá que transformarlos en **long**.\n",
        "\n",
        "Tenga en cuenta que el nombre del dataset es `Cholesterol`, el vector de columnas de medidas repetidas es `columnas.mr`, el nombre de la nueva variable dependiente puede ser `NivelColesterol`, el nombre de la nueva variable factor puede ser `Tiempo` y el nombre de la columna de identificador es `ID`.\n",
        "\n",
        "Obtenemos los siguientes datos (mostramos como quedarían las dos primeras filas):\n",
        "\n",
        "#### 2.2.3.1 Test conjunto (omnibus)\n",
        "\n",
        "Para contemplar el caso de **k grupos de medidas repetidas**, tenemos que trabajar con la función `anova_test()` y con la siguiente fórmula:\n",
        "\n",
        "`NivelColesterol ~ Tiempo + Error(ID / Tiempo)`\n",
        "\n",
        "Para poder utilizar los nombres genéricos que hemos introducido en los apartados anteriores, usamos la siguiente expresión general:\n",
        "\n",
        "Ahora ya estamos en condiciones de aplicar la función `anova_test()` de `rstatix`. Dicha función analiza el formato de la fórmula y al encontrar el término `Error()` aplica automáticamente un ANOVA de medidas repetidas:\n",
        "\n",
        "Debemos señalar que la función `anova_test()` automáticamente aplica el **test de Mauchly** para comprobar la hipótesis de **esfericidad** y en el caso de que no se cumpla, aplica también automáticamente la **corrección de Greenhouse-Geisser**.\n",
        "\n",
        "**Como ejercicio**, escriba la fórmula correspondiente al ejemplo de los datos de los empleados y lance la función `anova_test()`. El resultado es equivalente al que obtuvimos en el apartado test para dos muestras dependientes con la función `t_test()` (puede comprobar que el valor de F obtenido en el ANOVA es el cuadrado de la t).\n",
        "\n",
        "#### Verificación de normalidad de residuos\n",
        "\n",
        "Para ver la normalidad de los residuos, definimos la siguiente función que extrae los residuos del modelo. Al igual que vimos en el apartado **Prueba para dos muestras independientes (test paramétrico)**, usamos una función similar (hemos definido `ResiduosMR()` usando la función `anova_test()` de `rstatix`):\n",
        "\n",
        "Llamamos a la función y mostramos los residuos:\n",
        "\n",
        "Podemos apreciar que los residuos se ajustan a una normal, por lo que se cumplen las hipótesis del test paramétrico (realmente no se cumplía el requisito de esfericidad pero el test lo solventa automáticamente aplicando la corrección sobre los grados de libertad de Greenhouse-Geisser).\n",
        "\n",
        "Por tanto podemos concluir que existe al menos un grupo con una media distinta de los otros grupos: en nuestro ejemplo, el nivel de colesterol al inicio del estudio es mayor que el nivel medido después de 4 y 8 semanas de tratamiento.\n",
        "\n",
        "A continuación, procedemos a ejecutar el post-hoc para corroborar la anterior afirmación y para comprobar si hay diferencias significativas entre el nivel de colesterol medido a las 4 y a las 8 semanas.\n",
        "\n",
        "#### 2.2.3.2 Post hoc\n",
        "\n",
        "**Post hoc específico**\n",
        "\n",
        "Para lanzar un test específico de comparaciones múltiples como el de Tukey, tendríamos que recurrir a otros paquetes y ajustar otros modelos que se escapan del nivel de este guion. Para más información, puede consultar: https://stackoverflow.com/questions/74839746/anova-with-repeated-measures-and-tukeyhsd-post-hoc-test-in-r\n",
        "\n",
        "**Post hoc genérico**\n",
        "\n",
        "Para lanzar las comparaciones múltiples con un test genérico y una penalización del nivel de significación (por ejemplo, Holm) usamos la función `pairwise_t_test()` de `rstatix` (es un wrapper de `pairwise.t.test()`).\n",
        "\n",
        "Es muy importante que observe que se lanza con la misma fórmula que habíamos usado en el caso de 2 muestras dependientes y **no** la fórmula que contenía el término del error. También incluimos el parámetro `paired = TRUE`:\n",
        "\n",
        "El resultado del test nos dice que también hay diferencias significativas entre el primer y segundo grupo (medición después de 4 y 8 semanas).\n",
        "\n",
        "Si lanzamos el mismo test planteando como hipótesis alternativa \"la media de un grupo es mayor o igual que la del otro grupo\" (opción `alternative = \"greater\"` de la función `pairwise_t_test()`), obtendríamos una significación de 0.002 entre los dos primeros grupos (sigue siendo significativa).\n",
        "\n",
        "#### Conclusiones\n",
        "\n",
        "En definitiva, podemos concluir que gracias al tratamiento se aprecia una bajada del nivel de colesterol muy acusada en las 4 primeras semanas y otra bajada, mucho menor pero significativa, entre la cuarta y octava semana.\n",
        "\n",
        "**Post hoc con control**\n",
        "\n",
        "Si queremos fijar un grupo de control, podemos llamar a la misma función anterior `pairwise_t_test()`, indicándolo en el parámetro `ref.group`."
      ]
    },
    {
      "cell_type": "code",
      "execution_count": 55,
      "metadata": {
        "vscode": {
          "languageId": "r"
        }
      },
      "outputs": [],
      "source": [
        "load(\"Cholesterol.RData\")\n",
        "datos.mr.wide = Cholesterol\n",
        "nombres.columnas = colnames(datos.mr.wide)\n",
        "v.id.mr = nombres.columnas[1]  # El identific. es la primera columna\n",
        "v.depend.mr = \"NivelColesterol\"\n",
        "v.factor.mr = \"Tiempo\"\n",
        "columnas.mr = nombres.columnas[-1]  # El resto de columnas son las MR\n",
        "\n",
        "datos.mr.long = pivot_longer(datos.mr.wide,\n",
        "                             cols = any_of(columnas.mr),\n",
        "                             names_to = v.factor.mr,\n",
        "                             values_to = v.depend.mr)\n",
        "\n",
        "indice.col.id.mr = which(colnames(datos.mr.long) == v.id.mr)\n",
        "indice.col.factor.mr = which(colnames(datos.mr.long) == v.factor.mr)\n",
        "datos.mr.long[,indice.col.id.mr] = as.factor(as.data.frame(datos.mr.long)[,indice.col.id.mr])\n",
        "datos.mr.long[,indice.col.factor.mr] =as.factor(as.data.frame(datos.mr.long)[,indice.col.factor.mr])\n",
        "\n",
        "formula.mr.sin.error = as.formula(paste0(v.depend.mr, \"~\", v.factor.mr))"
      ]
    },
    {
      "cell_type": "code",
      "execution_count": 56,
      "metadata": {
        "vscode": {
          "languageId": "r"
        }
      },
      "outputs": [
        {
          "data": {
            "text/html": [
              "<table class=\"dataframe\">\n",
              "<caption>A data.frame: 2 × 4</caption>\n",
              "<thead>\n",
              "\t<tr><th></th><th scope=col>ID</th><th scope=col>Before</th><th scope=col>After4weeks</th><th scope=col>After8weeks</th></tr>\n",
              "\t<tr><th></th><th scope=col>&lt;int&gt;</th><th scope=col>&lt;dbl&gt;</th><th scope=col>&lt;dbl&gt;</th><th scope=col>&lt;dbl&gt;</th></tr>\n",
              "</thead>\n",
              "<tbody>\n",
              "\t<tr><th scope=row>1</th><td>1</td><td>6.42</td><td>5.83</td><td>5.75</td></tr>\n",
              "\t<tr><th scope=row>2</th><td>2</td><td>6.76</td><td>6.20</td><td>6.13</td></tr>\n",
              "</tbody>\n",
              "</table>\n"
            ],
            "text/latex": [
              "A data.frame: 2 × 4\n",
              "\\begin{tabular}{r|llll}\n",
              "  & ID & Before & After4weeks & After8weeks\\\\\n",
              "  & <int> & <dbl> & <dbl> & <dbl>\\\\\n",
              "\\hline\n",
              "\t1 & 1 & 6.42 & 5.83 & 5.75\\\\\n",
              "\t2 & 2 & 6.76 & 6.20 & 6.13\\\\\n",
              "\\end{tabular}\n"
            ],
            "text/markdown": [
              "\n",
              "A data.frame: 2 × 4\n",
              "\n",
              "| <!--/--> | ID &lt;int&gt; | Before &lt;dbl&gt; | After4weeks &lt;dbl&gt; | After8weeks &lt;dbl&gt; |\n",
              "|---|---|---|---|---|\n",
              "| 1 | 1 | 6.42 | 5.83 | 5.75 |\n",
              "| 2 | 2 | 6.76 | 6.20 | 6.13 |\n",
              "\n"
            ],
            "text/plain": [
              "  ID Before After4weeks After8weeks\n",
              "1 1  6.42   5.83        5.75       \n",
              "2 2  6.76   6.20        6.13       "
            ]
          },
          "metadata": {},
          "output_type": "display_data"
        },
        {
          "data": {
            "text/html": [
              "<table class=\"dataframe\">\n",
              "<caption>A tibble: 6 × 3</caption>\n",
              "<thead>\n",
              "\t<tr><th scope=col>ID</th><th scope=col>Tiempo</th><th scope=col>NivelColesterol</th></tr>\n",
              "\t<tr><th scope=col>&lt;fct&gt;</th><th scope=col>&lt;fct&gt;</th><th scope=col>&lt;dbl&gt;</th></tr>\n",
              "</thead>\n",
              "<tbody>\n",
              "\t<tr><td>1</td><td>Before     </td><td>6.42</td></tr>\n",
              "\t<tr><td>1</td><td>After4weeks</td><td>5.83</td></tr>\n",
              "\t<tr><td>1</td><td>After8weeks</td><td>5.75</td></tr>\n",
              "\t<tr><td>2</td><td>Before     </td><td>6.76</td></tr>\n",
              "\t<tr><td>2</td><td>After4weeks</td><td>6.20</td></tr>\n",
              "\t<tr><td>2</td><td>After8weeks</td><td>6.13</td></tr>\n",
              "</tbody>\n",
              "</table>\n"
            ],
            "text/latex": [
              "A tibble: 6 × 3\n",
              "\\begin{tabular}{lll}\n",
              " ID & Tiempo & NivelColesterol\\\\\n",
              " <fct> & <fct> & <dbl>\\\\\n",
              "\\hline\n",
              "\t 1 & Before      & 6.42\\\\\n",
              "\t 1 & After4weeks & 5.83\\\\\n",
              "\t 1 & After8weeks & 5.75\\\\\n",
              "\t 2 & Before      & 6.76\\\\\n",
              "\t 2 & After4weeks & 6.20\\\\\n",
              "\t 2 & After8weeks & 6.13\\\\\n",
              "\\end{tabular}\n"
            ],
            "text/markdown": [
              "\n",
              "A tibble: 6 × 3\n",
              "\n",
              "| ID &lt;fct&gt; | Tiempo &lt;fct&gt; | NivelColesterol &lt;dbl&gt; |\n",
              "|---|---|---|\n",
              "| 1 | Before      | 6.42 |\n",
              "| 1 | After4weeks | 5.83 |\n",
              "| 1 | After8weeks | 5.75 |\n",
              "| 2 | Before      | 6.76 |\n",
              "| 2 | After4weeks | 6.20 |\n",
              "| 2 | After8weeks | 6.13 |\n",
              "\n"
            ],
            "text/plain": [
              "  ID Tiempo      NivelColesterol\n",
              "1 1  Before      6.42           \n",
              "2 1  After4weeks 5.83           \n",
              "3 1  After8weeks 5.75           \n",
              "4 2  Before      6.76           \n",
              "5 2  After4weeks 6.20           \n",
              "6 2  After8weeks 6.13           "
            ]
          },
          "metadata": {},
          "output_type": "display_data"
        }
      ],
      "source": [
        "datos.mr.wide[c(1:2),]\n",
        "datos.mr.long[c(1:6),]"
      ]
    },
    {
      "cell_type": "code",
      "execution_count": 57,
      "metadata": {
        "vscode": {
          "languageId": "r"
        }
      },
      "outputs": [],
      "source": [
        "formula.anova.mr.error = NivelColesterol ~ Tiempo + Error(ID / Tiempo)"
      ]
    },
    {
      "cell_type": "code",
      "execution_count": 58,
      "metadata": {
        "vscode": {
          "languageId": "r"
        }
      },
      "outputs": [
        {
          "data": {
            "text/plain": [
              "NivelColesterol ~ Tiempo + Error(ID/Tiempo)"
            ]
          },
          "metadata": {},
          "output_type": "display_data"
        }
      ],
      "source": [
        "formula.anova.mr.error = as.formula(paste0(v.depend.mr, \"~\",\n",
        "                                    v.factor.mr, \"+ Error(\" ,\n",
        "                                    v.id.mr , \"/\" , v.factor.mr , \")\"))\n",
        "formula.anova.mr.error"
      ]
    },
    {
      "cell_type": "code",
      "execution_count": 59,
      "metadata": {
        "vscode": {
          "languageId": "r"
        }
      },
      "outputs": [
        {
          "data": {
            "image/png": "[encoded data removed]",
            "text/plain": [
              "plot without title"
            ]
          },
          "metadata": {
            "image/png": {
              "height": 420,
              "width": 420
            }
          },
          "output_type": "display_data"
        }
      ],
      "source": [
        "test_anova_mr <- anova_test(formula = formula.anova.mr.error,\n",
        "                            data = datos.mr.long)\n",
        "GraficoCajasTest(datos.mr.long, v.depend.mr, v.factor.mr,\n",
        "                 es_param = TRUE, es_mr = TRUE, test_anova_mr)"
      ]
    },
    {
      "cell_type": "code",
      "execution_count": 60,
      "metadata": {
        "vscode": {
          "languageId": "r"
        }
      },
      "outputs": [],
      "source": [
        "ResiduosMR = function(data.long, var.depend.mr, var.factor.mr, var.id.mr, columnas.mr){\n",
        "  formula.anova.mr.error = as.formula(paste0(var.depend.mr, \"~\",\n",
        "                                    var.factor.mr, \"+ Error(\" ,\n",
        "                                    var.id.mr , \"/\" , var.factor.mr , \")\"))\n",
        "  test_anova_mr = anova_test(formula.anova.mr.error, data = data.long)\n",
        "  residuos_anova_test_mr = residuals(attr(test_anova_mr, \"args\")$model)\n",
        "  # Me da los residuos por cada columna, por lo que hay que agregarlos todos:\n",
        "  residuos.juntos.mr = pivot_longer(as.data.frame(residuos_anova_test_mr),\n",
        "                                    cols = any_of(columnas.mr))\n",
        "  residuos.juntos.mr  = residuos.juntos.mr$value\n",
        "}"
      ]
    },
    {
      "cell_type": "code",
      "execution_count": 61,
      "metadata": {
        "vscode": {
          "languageId": "r"
        }
      },
      "outputs": [
        {
          "data": {
            "text/plain": [
              "NivelColesterol ~ Tiempo + Error(ID/Tiempo)"
            ]
          },
          "metadata": {},
          "output_type": "display_data"
        },
        {
          "data": {
            "image/png": "[encoded data removed]",
            "text/plain": [
              "plot without title"
            ]
          },
          "metadata": {
            "image/png": {
              "height": 420,
              "width": 420
            }
          },
          "output_type": "display_data"
        }
      ],
      "source": [
        "formula.anova.mr.error\n",
        "residuos.mr = ResiduosMR(datos.mr.long, v.depend.mr, v.factor.mr,\n",
        "                         v.id.mr, columnas.mr)\n",
        "ggqqplot(residuos.mr)"
      ]
    },
    {
      "cell_type": "code",
      "execution_count": 62,
      "metadata": {
        "vscode": {
          "languageId": "r"
        }
      },
      "outputs": [
        {
          "data": {
            "text/plain": [
              "NivelColesterol ~ Tiempo"
            ]
          },
          "metadata": {},
          "output_type": "display_data"
        },
        {
          "data": {
            "image/png": "[encoded data removed]",
            "text/plain": [
              "plot without title"
            ]
          },
          "metadata": {
            "image/png": {
              "height": 420,
              "width": 420
            }
          },
          "output_type": "display_data"
        }
      ],
      "source": [
        "formula.mr.sin.error = as.formula(paste0(v.depend.mr, \"~\", v.factor.mr))\n",
        "formula.mr.sin.error\n",
        "\n",
        "post_pw_t_test_mr = pairwise_t_test(formula.mr.sin.error,\n",
        "                                    data = datos.mr.long,\n",
        "                                    paired = TRUE,\n",
        "                                    p.adjust.method = \"holm\")\n",
        "GraficoCajasPost(datos.mr.long, v.depend.mr, v.factor.mr,\n",
        "                 es_param = TRUE , es_mr = TRUE,\n",
        "                 post_pw_t_test_mr)"
      ]
    },
    {
      "cell_type": "markdown",
      "metadata": {},
      "source": [
        "### 2.2.4 Anova para k muestras dependientes (test no paramétrico de medidas repetidas)\n",
        "\n",
        "Aplicaremos este tipo de tests cuando no se de el requisito de normalidad del caso paramétrico o cuando los datos sean ordinales, como es el caso del ejemplo sobre **preferencias comerciales** que vimos en la sección de Jamovi: **Friedman**.\n",
        "\n",
        "Vamos a trabajar con este conjunto de datos. La versión en R la puede descargar del siguiente enlace: **Preferencias comerciales (RData)**\n",
        "\n",
        "Establecemos los nombres de las variables y realizamos la transformación al formato **long**:\n",
        "\n",
        "#### 2.2.4.1 Test conjunto (omnibus)\n",
        "\n",
        "El test aplicable en este caso es el de **Friedman**. La fórmula que debemos usar ahora es de la forma:\n",
        "\n",
        "`var.dependiente ~ factor | identificador`\n",
        "\n",
        "En nuestro caso sería:\n",
        "\n",
        "`Valoracion ~ Marca | id`\n",
        "\n",
        "o en general, usando los nombres de las variables que habíamos creado:\n",
        "\n",
        "Basta llamar a la función `friedman_test()` de `rstatix`:\n",
        "\n",
        "#### Verificación de distribuciones similares\n",
        "\n",
        "Finalmente, para comprobar si todos los grupos tienen distribuciones similares, lanzamos la función:\n",
        "\n",
        "Al tener distribuciones similares, podemos afirmar que el test de Friedman es un test sobre las **medianas** (en caso contrario sería de **dominancia estocástica**).\n",
        "\n",
        "Así pues, podemos concluir que hay al menos una marca comercial que tiene una preferencia distinta a las otras marcas.\n",
        "\n",
        "#### 2.2.4.2 Post hoc\n",
        "\n",
        "**Post hoc específico**\n",
        "\n",
        "Jamovi lanza el test de **Durbin**, pero como ya vimos, no aplica ninguna penalización interna. Lo correcto sería lanzarlo con una corrección como **Holm**.\n",
        "\n",
        "Para lanzar un test específico de comparaciones múltiples para Friedman, podemos recurrir a los tests incluidos en el paquete `PMCMRplus` (**Nemenyi**, **Durbin**, etc.)\n",
        "\n",
        "Muchos de los tests de `PMCMRplus` requieren que se indiquen los siguientes parámetros:\n",
        "- `y` es un vector con los datos de la variable dependiente  \n",
        "- `groups` es un vector con los datos del factor  \n",
        "- `blocks` es un vector con los datos del identificador  \n",
        "\n",
        "Los vectores anteriores se refieren al conjunto de datos en el formato **long**. Construimos por tanto los siguientes vectores:\n",
        "\n",
        "Vemos que, efectivamente, el test que lanzaba Jamovi ofrece unos valores de significación más bajos, resultado de no haber controlado el error FWER, por lo que no son fiables.\n",
        "\n",
        "Además, el test de Durbin está diseñado para el caso de **bloques incompletos** (**incomplete block design**) por lo que mejor aplicamos un post hoc como el de **Nemenyi** o el test más actual de **Eisinga (2017)**, usando la función `frdAllPairsExactTest()`:\n",
        "\n",
        "Podemos apreciar que hay dos grupos, el formado por `A` y `B` y otro formado por `C` y `D`. Tanto `A` como `B` son marcas con una menor preferencia por parte de los clientes que cualquiera de las marcas `C` y `D`.\n",
        "\n",
        "**Post hoc genérico**\n",
        "\n",
        "El post hoc usando un test genérico con penalización lo hacemos de una forma análoga al caso paramétrico. En ese caso, habíamos usado la fórmula básica sin término de error y la función `pairwise_t_test()`.\n",
        "\n",
        "Ahora usamos una fórmula análoga y la función `pairwise_wilcox_test()` que aplica el test no paramétrico para 2 muestras pareadas de Wilcoxon (**Wilcoxon signed rank test**) a todos los pares. Debemos pasar como parámetro `paired = TRUE`. Por defecto usa la penalización de **Holm**:\n",
        "\n",
        "**Nota**: También se puede usar la función `wilcox_test()`. Esta función realiza automáticamente las comparaciones múltiples cuando ve que el factor tiene más de un valor.\n",
        "\n",
        "De nuevo, podemos apreciar que se distinguen los mismos grupos con medias distintas: el formado por `A` y `B` y el formado por `C` y `D`.\n",
        "\n",
        "#### Verificación de simetría para Wilcoxon\n",
        "\n",
        "En cualquier caso, para poder aplicar cada una de las comparaciones múltiples con el **Wilcoxon signed rank test** deberíamos confirmar que las distribuciones de todas las diferencias son simétricas.\n",
        "\n",
        "Para ello, podemos construir todas las posibles combinaciones de las columnas con `CombPairs()` y realizar un plot de las densidades de dichas diferencias:\n",
        "\n",
        "Es aceptable admitir que todas las anteriores distribuciones son simétricas, por lo que el post-hoc genérico también encuentra significativa la diferencia entre los grupos `A` y `C`, y `B` y `D`.\n",
        "\n",
        "**Post hoc con control**\n",
        "\n",
        "También podemos seleccionar un **control**, fijando un grupo y comparando el resto con él. Para ello, podemos usar la función `frdManyOneExactTest()` que implementa el post hoc con control de **Eisinga** (también está disponible el de **Nemenyi** a través de la función `frdManyOneNemenyiTest()`).\n",
        "\n",
        "**IMPORTANTE**: El control se establece según el orden lexicográfico entre los nombres de las columnas.\n",
        "\n",
        "Podemos ver que, al haber fijado un grupo de control y disminuir el número de comparaciones, hemos rebajado el p-value de la comparación entre `A` y `B` de 0.182 a 0.091, aunque no lo suficiente como para que sea significativo."
      ]
    },
    {
      "cell_type": "code",
      "execution_count": 63,
      "metadata": {
        "vscode": {
          "languageId": "r"
        }
      },
      "outputs": [
        {
          "data": {
            "text/html": [
              "<table class=\"dataframe\">\n",
              "<caption>A data.frame: 2 × 5</caption>\n",
              "<thead>\n",
              "\t<tr><th></th><th scope=col>id</th><th scope=col>com_1</th><th scope=col>com_2</th><th scope=col>com_3</th><th scope=col>com_4</th></tr>\n",
              "\t<tr><th></th><th scope=col>&lt;dbl&gt;</th><th scope=col>&lt;int&gt;</th><th scope=col>&lt;int&gt;</th><th scope=col>&lt;int&gt;</th><th scope=col>&lt;int&gt;</th></tr>\n",
              "</thead>\n",
              "<tbody>\n",
              "\t<tr><th scope=row>1</th><td>1</td><td>2</td><td>6</td><td>7</td><td>6</td></tr>\n",
              "\t<tr><th scope=row>2</th><td>2</td><td>1</td><td>7</td><td>7</td><td>6</td></tr>\n",
              "</tbody>\n",
              "</table>\n"
            ],
            "text/latex": [
              "A data.frame: 2 × 5\n",
              "\\begin{tabular}{r|lllll}\n",
              "  & id & com\\_1 & com\\_2 & com\\_3 & com\\_4\\\\\n",
              "  & <dbl> & <int> & <int> & <int> & <int>\\\\\n",
              "\\hline\n",
              "\t1 & 1 & 2 & 6 & 7 & 6\\\\\n",
              "\t2 & 2 & 1 & 7 & 7 & 6\\\\\n",
              "\\end{tabular}\n"
            ],
            "text/markdown": [
              "\n",
              "A data.frame: 2 × 5\n",
              "\n",
              "| <!--/--> | id &lt;dbl&gt; | com_1 &lt;int&gt; | com_2 &lt;int&gt; | com_3 &lt;int&gt; | com_4 &lt;int&gt; |\n",
              "|---|---|---|---|---|---|\n",
              "| 1 | 1 | 2 | 6 | 7 | 6 |\n",
              "| 2 | 2 | 1 | 7 | 7 | 6 |\n",
              "\n"
            ],
            "text/plain": [
              "  id com_1 com_2 com_3 com_4\n",
              "1 1  2     6     7     6    \n",
              "2 2  1     7     7     6    "
            ]
          },
          "metadata": {},
          "output_type": "display_data"
        },
        {
          "data": {
            "text/html": [
              "<table class=\"dataframe\">\n",
              "<caption>A tibble: 8 × 3</caption>\n",
              "<thead>\n",
              "\t<tr><th scope=col>id</th><th scope=col>Marca</th><th scope=col>Valoracion</th></tr>\n",
              "\t<tr><th scope=col>&lt;fct&gt;</th><th scope=col>&lt;fct&gt;</th><th scope=col>&lt;int&gt;</th></tr>\n",
              "</thead>\n",
              "<tbody>\n",
              "\t<tr><td>1</td><td>com_1</td><td>2</td></tr>\n",
              "\t<tr><td>1</td><td>com_2</td><td>6</td></tr>\n",
              "\t<tr><td>1</td><td>com_3</td><td>7</td></tr>\n",
              "\t<tr><td>1</td><td>com_4</td><td>6</td></tr>\n",
              "\t<tr><td>2</td><td>com_1</td><td>1</td></tr>\n",
              "\t<tr><td>2</td><td>com_2</td><td>7</td></tr>\n",
              "\t<tr><td>2</td><td>com_3</td><td>7</td></tr>\n",
              "\t<tr><td>2</td><td>com_4</td><td>6</td></tr>\n",
              "</tbody>\n",
              "</table>\n"
            ],
            "text/latex": [
              "A tibble: 8 × 3\n",
              "\\begin{tabular}{lll}\n",
              " id & Marca & Valoracion\\\\\n",
              " <fct> & <fct> & <int>\\\\\n",
              "\\hline\n",
              "\t 1 & com\\_1 & 2\\\\\n",
              "\t 1 & com\\_2 & 6\\\\\n",
              "\t 1 & com\\_3 & 7\\\\\n",
              "\t 1 & com\\_4 & 6\\\\\n",
              "\t 2 & com\\_1 & 1\\\\\n",
              "\t 2 & com\\_2 & 7\\\\\n",
              "\t 2 & com\\_3 & 7\\\\\n",
              "\t 2 & com\\_4 & 6\\\\\n",
              "\\end{tabular}\n"
            ],
            "text/markdown": [
              "\n",
              "A tibble: 8 × 3\n",
              "\n",
              "| id &lt;fct&gt; | Marca &lt;fct&gt; | Valoracion &lt;int&gt; |\n",
              "|---|---|---|\n",
              "| 1 | com_1 | 2 |\n",
              "| 1 | com_2 | 6 |\n",
              "| 1 | com_3 | 7 |\n",
              "| 1 | com_4 | 6 |\n",
              "| 2 | com_1 | 1 |\n",
              "| 2 | com_2 | 7 |\n",
              "| 2 | com_3 | 7 |\n",
              "| 2 | com_4 | 6 |\n",
              "\n"
            ],
            "text/plain": [
              "  id Marca Valoracion\n",
              "1 1  com_1 2         \n",
              "2 1  com_2 6         \n",
              "3 1  com_3 7         \n",
              "4 1  com_4 6         \n",
              "5 2  com_1 1         \n",
              "6 2  com_2 7         \n",
              "7 2  com_3 7         \n",
              "8 2  com_4 6         "
            ]
          },
          "metadata": {},
          "output_type": "display_data"
        }
      ],
      "source": [
        "load(\"CommercialRatings.RData\")\n",
        "datos.mr.wide = CommercialRatings\n",
        "nombres.columnas = colnames(datos.mr.wide)\n",
        "v.id.mr = nombres.columnas[1]  # El identific. es la primera columna\n",
        "v.depend.mr = \"Valoracion\"\n",
        "v.factor.mr = \"Marca\"\n",
        "columnas.mr = nombres.columnas[-1]  # El resto de columnas son las MR\n",
        "\n",
        "datos.mr.long = pivot_longer(datos.mr.wide,\n",
        "                             cols = any_of(columnas.mr),\n",
        "                             names_to = v.factor.mr,\n",
        "                             values_to = v.depend.mr)\n",
        "\n",
        "indice.col.id.mr = which(colnames(datos.mr.long) == v.id.mr)\n",
        "indice.col.factor.mr = which(colnames(datos.mr.long) == v.factor.mr)\n",
        "datos.mr.long[,indice.col.id.mr] = as.factor(as.data.frame(datos.mr.long)[,indice.col.id.mr])\n",
        "datos.mr.long[,indice.col.factor.mr] =as.factor(as.data.frame(datos.mr.long)[,indice.col.factor.mr])\n",
        "\n",
        "datos.mr.wide[c(1:2),]\n",
        "\n",
        "datos.mr.long[c(1:8),]"
      ]
    },
    {
      "cell_type": "code",
      "execution_count": 64,
      "metadata": {
        "vscode": {
          "languageId": "r"
        }
      },
      "outputs": [
        {
          "data": {
            "text/plain": [
              "var.dependiente ~ factor | identificador"
            ]
          },
          "metadata": {},
          "output_type": "display_data"
        }
      ],
      "source": [
        "var.dependiente ~ factor | identificador"
      ]
    },
    {
      "cell_type": "code",
      "execution_count": 65,
      "metadata": {
        "vscode": {
          "languageId": "r"
        }
      },
      "outputs": [
        {
          "data": {
            "text/plain": [
              "Valoracion ~ Marca | id"
            ]
          },
          "metadata": {},
          "output_type": "display_data"
        }
      ],
      "source": [
        "Valoracion ~ Marca | id"
      ]
    },
    {
      "cell_type": "code",
      "execution_count": 66,
      "metadata": {
        "vscode": {
          "languageId": "r"
        }
      },
      "outputs": [],
      "source": [
        "formula.anova.friedman_test = as.formula(paste0(v.depend.mr, \"~\",\n",
        "                                                v.factor.mr , \"|\" ,\n",
        "                                                v.id.mr))"
      ]
    },
    {
      "cell_type": "code",
      "execution_count": 67,
      "metadata": {
        "vscode": {
          "languageId": "r"
        }
      },
      "outputs": [
        {
          "data": {
            "text/plain": [
              "Valoracion ~ Marca | id"
            ]
          },
          "metadata": {},
          "output_type": "display_data"
        },
        {
          "data": {
            "image/png": "[encoded data removed]",
            "text/plain": [
              "plot without title"
            ]
          },
          "metadata": {
            "image/png": {
              "height": 420,
              "width": 420
            }
          },
          "output_type": "display_data"
        }
      ],
      "source": [
        "formula.anova.friedman_test\n",
        "\n",
        "test_friedman = friedman_test (formula.anova.friedman_test,\n",
        "                               data = datos.mr.long)\n",
        "GraficoCajasTest(datos.mr.long, v.depend.mr, v.factor.mr,\n",
        "                 es_param = FALSE, es_mr = TRUE ,\n",
        "                 test_friedman)"
      ]
    },
    {
      "cell_type": "code",
      "execution_count": 68,
      "metadata": {
        "vscode": {
          "languageId": "r"
        }
      },
      "outputs": [
        {
          "data": {
            "text/html": [
              "<table class=\"dataframe\">\n",
              "<caption>A tibble: 6 × 3</caption>\n",
              "<thead>\n",
              "\t<tr><th scope=col>id</th><th scope=col>Marca</th><th scope=col>Valoracion</th></tr>\n",
              "\t<tr><th scope=col>&lt;fct&gt;</th><th scope=col>&lt;fct&gt;</th><th scope=col>&lt;int&gt;</th></tr>\n",
              "</thead>\n",
              "<tbody>\n",
              "\t<tr><td>1</td><td>com_1</td><td>2</td></tr>\n",
              "\t<tr><td>1</td><td>com_2</td><td>6</td></tr>\n",
              "\t<tr><td>1</td><td>com_3</td><td>7</td></tr>\n",
              "\t<tr><td>1</td><td>com_4</td><td>6</td></tr>\n",
              "\t<tr><td>2</td><td>com_1</td><td>1</td></tr>\n",
              "\t<tr><td>2</td><td>com_2</td><td>7</td></tr>\n",
              "</tbody>\n",
              "</table>\n"
            ],
            "text/latex": [
              "A tibble: 6 × 3\n",
              "\\begin{tabular}{lll}\n",
              " id & Marca & Valoracion\\\\\n",
              " <fct> & <fct> & <int>\\\\\n",
              "\\hline\n",
              "\t 1 & com\\_1 & 2\\\\\n",
              "\t 1 & com\\_2 & 6\\\\\n",
              "\t 1 & com\\_3 & 7\\\\\n",
              "\t 1 & com\\_4 & 6\\\\\n",
              "\t 2 & com\\_1 & 1\\\\\n",
              "\t 2 & com\\_2 & 7\\\\\n",
              "\\end{tabular}\n"
            ],
            "text/markdown": [
              "\n",
              "A tibble: 6 × 3\n",
              "\n",
              "| id &lt;fct&gt; | Marca &lt;fct&gt; | Valoracion &lt;int&gt; |\n",
              "|---|---|---|\n",
              "| 1 | com_1 | 2 |\n",
              "| 1 | com_2 | 6 |\n",
              "| 1 | com_3 | 7 |\n",
              "| 1 | com_4 | 6 |\n",
              "| 2 | com_1 | 1 |\n",
              "| 2 | com_2 | 7 |\n",
              "\n"
            ],
            "text/plain": [
              "  id Marca Valoracion\n",
              "1 1  com_1 2         \n",
              "2 1  com_2 6         \n",
              "3 1  com_3 7         \n",
              "4 1  com_4 6         \n",
              "5 2  com_1 1         \n",
              "6 2  com_2 7         "
            ]
          },
          "metadata": {},
          "output_type": "display_data"
        },
        {
          "data": {
            "text/html": [
              "<style>\n",
              ".list-inline {list-style: none; margin:0; padding: 0}\n",
              ".list-inline>li {display: inline-block}\n",
              ".list-inline>li:not(:last-child)::after {content: \"\\00b7\"; padding: 0 .5ex}\n",
              "</style>\n",
              "<ol class=list-inline><li>2</li><li>6</li><li>7</li><li>6</li><li>1</li><li>7</li></ol>\n"
            ],
            "text/latex": [
              "\\begin{enumerate*}\n",
              "\\item 2\n",
              "\\item 6\n",
              "\\item 7\n",
              "\\item 6\n",
              "\\item 1\n",
              "\\item 7\n",
              "\\end{enumerate*}\n"
            ],
            "text/markdown": [
              "1. 2\n",
              "2. 6\n",
              "3. 7\n",
              "4. 6\n",
              "5. 1\n",
              "6. 7\n",
              "\n",
              "\n"
            ],
            "text/plain": [
              "[1] 2 6 7 6 1 7"
            ]
          },
          "metadata": {},
          "output_type": "display_data"
        },
        {
          "data": {
            "text/html": [
              "<style>\n",
              ".list-inline {list-style: none; margin:0; padding: 0}\n",
              ".list-inline>li {display: inline-block}\n",
              ".list-inline>li:not(:last-child)::after {content: \"\\00b7\"; padding: 0 .5ex}\n",
              "</style>\n",
              "<ol class=list-inline><li>com_1</li><li>com_2</li><li>com_3</li><li>com_4</li><li>com_1</li><li>com_2</li></ol>\n",
              "\n",
              "<details>\n",
              "\t<summary style=display:list-item;cursor:pointer>\n",
              "\t\t<strong>Levels</strong>:\n",
              "\t</summary>\n",
              "\t<style>\n",
              "\t.list-inline {list-style: none; margin:0; padding: 0}\n",
              "\t.list-inline>li {display: inline-block}\n",
              "\t.list-inline>li:not(:last-child)::after {content: \"\\00b7\"; padding: 0 .5ex}\n",
              "\t</style>\n",
              "\t<ol class=list-inline><li>'com_1'</li><li>'com_2'</li><li>'com_3'</li><li>'com_4'</li></ol>\n",
              "</details>"
            ],
            "text/latex": [
              "\\begin{enumerate*}\n",
              "\\item com\\_1\n",
              "\\item com\\_2\n",
              "\\item com\\_3\n",
              "\\item com\\_4\n",
              "\\item com\\_1\n",
              "\\item com\\_2\n",
              "\\end{enumerate*}\n",
              "\n",
              "\\emph{Levels}: \\begin{enumerate*}\n",
              "\\item 'com\\_1'\n",
              "\\item 'com\\_2'\n",
              "\\item 'com\\_3'\n",
              "\\item 'com\\_4'\n",
              "\\end{enumerate*}\n"
            ],
            "text/markdown": [
              "1. com_1\n",
              "2. com_2\n",
              "3. com_3\n",
              "4. com_4\n",
              "5. com_1\n",
              "6. com_2\n",
              "\n",
              "\n",
              "\n",
              "**Levels**: 1. 'com_1'\n",
              "2. 'com_2'\n",
              "3. 'com_3'\n",
              "4. 'com_4'\n",
              "\n",
              "\n"
            ],
            "text/plain": [
              "[1] com_1 com_2 com_3 com_4 com_1 com_2\n",
              "Levels: com_1 com_2 com_3 com_4"
            ]
          },
          "metadata": {},
          "output_type": "display_data"
        },
        {
          "data": {
            "text/html": [
              "<style>\n",
              ".list-inline {list-style: none; margin:0; padding: 0}\n",
              ".list-inline>li {display: inline-block}\n",
              ".list-inline>li:not(:last-child)::after {content: \"\\00b7\"; padding: 0 .5ex}\n",
              "</style>\n",
              "<ol class=list-inline><li>1</li><li>1</li><li>1</li><li>1</li><li>2</li><li>2</li></ol>\n",
              "\n",
              "<details>\n",
              "\t<summary style=display:list-item;cursor:pointer>\n",
              "\t\t<strong>Levels</strong>:\n",
              "\t</summary>\n",
              "\t<style>\n",
              "\t.list-inline {list-style: none; margin:0; padding: 0}\n",
              "\t.list-inline>li {display: inline-block}\n",
              "\t.list-inline>li:not(:last-child)::after {content: \"\\00b7\"; padding: 0 .5ex}\n",
              "\t</style>\n",
              "\t<ol class=list-inline><li>'1'</li><li>'2'</li><li>'5'</li><li>'8'</li><li>'9'</li><li>'10'</li><li>'11'</li><li>'12'</li><li>'14'</li><li>'15'</li><li>'16'</li><li>'17'</li><li>'19'</li><li>'21'</li><li>'22'</li><li>'24'</li><li>'27'</li><li>'28'</li><li>'29'</li><li>'30'</li><li>'31'</li><li>'33'</li><li>'35'</li><li>'36'</li><li>'37'</li><li>'39'</li><li>'40'</li><li>'41'</li><li>'43'</li><li>'44'</li><li>'46'</li><li>'48'</li><li>'50'</li><li>'51'</li><li>'53'</li><li>'54'</li><li>'55'</li><li>'56'</li><li>'58'</li><li>'59'</li></ol>\n",
              "</details>"
            ],
            "text/latex": [
              "\\begin{enumerate*}\n",
              "\\item 1\n",
              "\\item 1\n",
              "\\item 1\n",
              "\\item 1\n",
              "\\item 2\n",
              "\\item 2\n",
              "\\end{enumerate*}\n",
              "\n",
              "\\emph{Levels}: \\begin{enumerate*}\n",
              "\\item '1'\n",
              "\\item '2'\n",
              "\\item '5'\n",
              "\\item '8'\n",
              "\\item '9'\n",
              "\\item '10'\n",
              "\\item '11'\n",
              "\\item '12'\n",
              "\\item '14'\n",
              "\\item '15'\n",
              "\\item '16'\n",
              "\\item '17'\n",
              "\\item '19'\n",
              "\\item '21'\n",
              "\\item '22'\n",
              "\\item '24'\n",
              "\\item '27'\n",
              "\\item '28'\n",
              "\\item '29'\n",
              "\\item '30'\n",
              "\\item '31'\n",
              "\\item '33'\n",
              "\\item '35'\n",
              "\\item '36'\n",
              "\\item '37'\n",
              "\\item '39'\n",
              "\\item '40'\n",
              "\\item '41'\n",
              "\\item '43'\n",
              "\\item '44'\n",
              "\\item '46'\n",
              "\\item '48'\n",
              "\\item '50'\n",
              "\\item '51'\n",
              "\\item '53'\n",
              "\\item '54'\n",
              "\\item '55'\n",
              "\\item '56'\n",
              "\\item '58'\n",
              "\\item '59'\n",
              "\\end{enumerate*}\n"
            ],
            "text/markdown": [
              "1. 1\n",
              "2. 1\n",
              "3. 1\n",
              "4. 1\n",
              "5. 2\n",
              "6. 2\n",
              "\n",
              "\n",
              "\n",
              "**Levels**: 1. '1'\n",
              "2. '2'\n",
              "3. '5'\n",
              "4. '8'\n",
              "5. '9'\n",
              "6. '10'\n",
              "7. '11'\n",
              "8. '12'\n",
              "9. '14'\n",
              "10. '15'\n",
              "11. '16'\n",
              "12. '17'\n",
              "13. '19'\n",
              "14. '21'\n",
              "15. '22'\n",
              "16. '24'\n",
              "17. '27'\n",
              "18. '28'\n",
              "19. '29'\n",
              "20. '30'\n",
              "21. '31'\n",
              "22. '33'\n",
              "23. '35'\n",
              "24. '36'\n",
              "25. '37'\n",
              "26. '39'\n",
              "27. '40'\n",
              "28. '41'\n",
              "29. '43'\n",
              "30. '44'\n",
              "31. '46'\n",
              "32. '48'\n",
              "33. '50'\n",
              "34. '51'\n",
              "35. '53'\n",
              "36. '54'\n",
              "37. '55'\n",
              "38. '56'\n",
              "39. '58'\n",
              "40. '59'\n",
              "\n",
              "\n"
            ],
            "text/plain": [
              "[1] 1 1 1 1 2 2\n",
              "40 Levels: 1 2 5 8 9 10 11 12 14 15 16 17 19 21 22 24 27 28 29 30 31 33 ... 59"
            ]
          },
          "metadata": {},
          "output_type": "display_data"
        }
      ],
      "source": [
        "col.v.depend.mr = as.data.frame(datos.mr.long)[,v.depend.mr]\n",
        "col.v.factor.mr = as.data.frame(datos.mr.long)[,v.factor.mr]\n",
        "col.id.factor.mr = as.data.frame(datos.mr.long)[,v.id.mr]\n",
        "\n",
        "head(datos.mr.long)\n",
        "\n",
        "a_mostrar = c(1:6)\n",
        "col.v.depend.mr[a_mostrar]\n",
        "col.v.factor.mr[a_mostrar]\n",
        "col.id.factor.mr[a_mostrar]"
      ]
    },
    {
      "cell_type": "code",
      "execution_count": 69,
      "metadata": {
        "vscode": {
          "languageId": "r"
        }
      },
      "outputs": [
        {
          "name": "stderr",
          "output_type": "stream",
          "text": [
            "\n",
            "\tPairwise comparisons using Durbin's all-pairs test for a two-way balanced incomplete block design\n",
            "\n",
            "\n",
            "data: col.v.depend.mr, col.v.factor.mr and col.id.factor.mr\n",
            "\n",
            "\n",
            "\n",
            "P value adjustment method: none\n",
            "\n"
          ]
        },
        {
          "data": {
            "text/plain": [
              "      com_1   com_2  com_3 \n",
              "com_2 0.0325  -      -     \n",
              "com_3 2.1e-07 0.0011 -     \n",
              "com_4 2.1e-07 0.0011 1.0000"
            ]
          },
          "metadata": {},
          "output_type": "display_data"
        },
        {
          "name": "stderr",
          "output_type": "stream",
          "text": [
            "\n",
            "\tPairwise comparisons using Durbin's all-pairs test for a two-way balanced incomplete block design\n",
            "\n",
            "\n",
            "data: col.v.depend.mr, col.v.factor.mr and col.id.factor.mr\n",
            "\n",
            "\n",
            "\n",
            "P value adjustment method: holm\n",
            "\n"
          ]
        },
        {
          "data": {
            "text/plain": [
              "      com_1   com_2  com_3 \n",
              "com_2 0.0651  -      -     \n",
              "com_3 1.3e-06 0.0043 -     \n",
              "com_4 1.3e-06 0.0043 1.0000"
            ]
          },
          "metadata": {},
          "output_type": "display_data"
        }
      ],
      "source": [
        "post_frd_durbin_Jamovi <- durbinAllPairsTest(y = col.v.depend.mr ,\n",
        "                                             groups = col.v.factor.mr,\n",
        "                                             blocks = col.id.factor.mr,\n",
        "                                             p.adjust.method = \"none\")\n",
        "\n",
        "post_frd_durbin_holm <- durbinAllPairsTest(y = col.v.depend.mr,\n",
        "                                            groups = col.v.factor.mr,\n",
        "                                            blocks = col.id.factor.mr,\n",
        "                                            p.adjust.method = \"holm\")\n",
        "post_frd_durbin_Jamovi\n",
        "\n",
        "post_frd_durbin_holm"
      ]
    },
    {
      "cell_type": "code",
      "execution_count": 70,
      "metadata": {
        "vscode": {
          "languageId": "r"
        }
      },
      "outputs": [
        {
          "name": "stderr",
          "output_type": "stream",
          "text": [
            "\n",
            "\tPairwise comparisons using Eisinga, Heskes, Pelzer & Te Grotenhuis all-pairs test with exact p-values for a two-way balanced complete block design\n",
            "\n",
            "\n",
            "data: y, groups and blocks\n",
            "\n",
            "\n",
            "\n",
            "P value adjustment method: holm\n",
            "\n"
          ]
        },
        {
          "data": {
            "text/plain": [
              "      com_1   com_2 com_3\n",
              "com_2 0.182   -     -    \n",
              "com_3 4.5e-05 0.032 -    \n",
              "com_4 4.5e-05 0.032 1.000"
            ]
          },
          "metadata": {},
          "output_type": "display_data"
        }
      ],
      "source": [
        "post_frd_eisinga <- frdAllPairsExactTest(y = col.v.depend.mr ,\n",
        "                                         groups = col.v.factor.mr,\n",
        "                                         blocks = col.id.factor.mr,\n",
        "                                         p.adjust.method = \"holm\")\n",
        "\n",
        "post_frd_eisinga"
      ]
    },
    {
      "cell_type": "code",
      "execution_count": 71,
      "metadata": {
        "vscode": {
          "languageId": "r"
        }
      },
      "outputs": [
        {
          "data": {
            "text/plain": [
              "Valoracion ~ Marca"
            ]
          },
          "metadata": {},
          "output_type": "display_data"
        },
        {
          "data": {
            "image/png": "[encoded data removed]",
            "text/plain": [
              "plot without title"
            ]
          },
          "metadata": {
            "image/png": {
              "height": 420,
              "width": 420
            }
          },
          "output_type": "display_data"
        }
      ],
      "source": [
        "formula.mr.sin.error = as.formula(paste0(v.depend.mr, \"~\", v.factor.mr))\n",
        "formula.mr.sin.error\n",
        "\n",
        "post_pairwise_wilcox_test_mr = pairwise_wilcox_test(formula.mr.sin.error,\n",
        "                                     data = datos.mr.long,\n",
        "                                     paired = TRUE)\n",
        "GraficoCajasPost(datos.mr.long, v.depend.mr, v.factor.mr,\n",
        "                 es_param =  FALSE, es_mr = TRUE, post_pairwise_wilcox_test_mr)"
      ]
    },
    {
      "cell_type": "code",
      "execution_count": 72,
      "metadata": {
        "vscode": {
          "languageId": "r"
        }
      },
      "outputs": [
        {
          "data": {
            "text/html": [
              "<table class=\"dataframe\">\n",
              "<caption>A data.frame: 6 × 2</caption>\n",
              "<thead>\n",
              "\t<tr><th scope=col>X1</th><th scope=col>X2</th></tr>\n",
              "\t<tr><th scope=col>&lt;chr&gt;</th><th scope=col>&lt;chr&gt;</th></tr>\n",
              "</thead>\n",
              "<tbody>\n",
              "\t<tr><td>com_1</td><td>com_2</td></tr>\n",
              "\t<tr><td>com_1</td><td>com_3</td></tr>\n",
              "\t<tr><td>com_1</td><td>com_4</td></tr>\n",
              "\t<tr><td>com_2</td><td>com_3</td></tr>\n",
              "\t<tr><td>com_2</td><td>com_4</td></tr>\n",
              "\t<tr><td>com_3</td><td>com_4</td></tr>\n",
              "</tbody>\n",
              "</table>\n"
            ],
            "text/latex": [
              "A data.frame: 6 × 2\n",
              "\\begin{tabular}{ll}\n",
              " X1 & X2\\\\\n",
              " <chr> & <chr>\\\\\n",
              "\\hline\n",
              "\t com\\_1 & com\\_2\\\\\n",
              "\t com\\_1 & com\\_3\\\\\n",
              "\t com\\_1 & com\\_4\\\\\n",
              "\t com\\_2 & com\\_3\\\\\n",
              "\t com\\_2 & com\\_4\\\\\n",
              "\t com\\_3 & com\\_4\\\\\n",
              "\\end{tabular}\n"
            ],
            "text/markdown": [
              "\n",
              "A data.frame: 6 × 2\n",
              "\n",
              "| X1 &lt;chr&gt; | X2 &lt;chr&gt; |\n",
              "|---|---|\n",
              "| com_1 | com_2 |\n",
              "| com_1 | com_3 |\n",
              "| com_1 | com_4 |\n",
              "| com_2 | com_3 |\n",
              "| com_2 | com_4 |\n",
              "| com_3 | com_4 |\n",
              "\n"
            ],
            "text/plain": [
              "  X1    X2   \n",
              "1 com_1 com_2\n",
              "2 com_1 com_3\n",
              "3 com_1 com_4\n",
              "4 com_2 com_3\n",
              "5 com_2 com_4\n",
              "6 com_3 com_4"
            ]
          },
          "metadata": {},
          "output_type": "display_data"
        },
        {
          "data": {
            "text/html": [
              "<ol>\n",
              "\t<li>NULL</li>\n",
              "\t<li>NULL</li>\n",
              "\t<li>NULL</li>\n",
              "\t<li>NULL</li>\n",
              "\t<li>NULL</li>\n",
              "\t<li>NULL</li>\n",
              "</ol>\n"
            ],
            "text/latex": [
              "\\begin{enumerate}\n",
              "\\item NULL\n",
              "\\item NULL\n",
              "\\item NULL\n",
              "\\item NULL\n",
              "\\item NULL\n",
              "\\item NULL\n",
              "\\end{enumerate}\n"
            ],
            "text/markdown": [
              "1. NULL\n",
              "2. NULL\n",
              "3. NULL\n",
              "4. NULL\n",
              "5. NULL\n",
              "6. NULL\n",
              "\n",
              "\n"
            ],
            "text/plain": [
              "[[1]]\n",
              "NULL\n",
              "\n",
              "[[2]]\n",
              "NULL\n",
              "\n",
              "[[3]]\n",
              "NULL\n",
              "\n",
              "[[4]]\n",
              "NULL\n",
              "\n",
              "[[5]]\n",
              "NULL\n",
              "\n",
              "[[6]]\n",
              "NULL\n"
            ]
          },
          "metadata": {},
          "output_type": "display_data"
        },
        {
          "data": {
            "image/png": "[encoded data removed]",
            "text/plain": [
              "Plot with title \"\""
            ]
          },
          "metadata": {
            "image/png": {
              "height": 420,
              "width": 420
            }
          },
          "output_type": "display_data"
        }
      ],
      "source": [
        "comb = CombPairs(columnas.mr)\n",
        "comb\n",
        "\n",
        "par(mfrow=c(3, 2))\n",
        "sapply(c(1:nrow(comb)) ,\n",
        "       function(x) plot (density(datos.mr.wide[comb[x,1]][,1] -  datos.mr.wide[comb[x,2]][,1]) , main = \"\"))"
      ]
    },
    {
      "cell_type": "code",
      "execution_count": 73,
      "metadata": {
        "vscode": {
          "languageId": "r"
        }
      },
      "outputs": [
        {
          "name": "stderr",
          "output_type": "stream",
          "text": [
            "\n",
            "\tPairwise comparisons using Eisinga-Heskes-Pelzer and Grotenhuis many-to-one test for a two-way balanced complete block design\n",
            "\n",
            "\n",
            "data: y, groups and blocks\n",
            "\n",
            "\n",
            "\n",
            "P value adjustment method: holm\n",
            "\n",
            "alternative hypothesis: two.sided\n",
            "\n"
          ]
        },
        {
          "data": {
            "text/plain": [
              "      com_1  \n",
              "com_2 0.091  \n",
              "com_3 2.3e-05\n",
              "com_4 2.3e-05"
            ]
          },
          "metadata": {},
          "output_type": "display_data"
        }
      ],
      "source": [
        "post_frd_eisinga_control = frdManyOneExactTest(y = col.v.depend.mr ,\n",
        "                                               groups = col.v.factor.mr,\n",
        "                                               blocks = col.id.factor.mr,\n",
        "                                               p.adjust.method = \"holm\")\n",
        "post_frd_eisinga_control"
      ]
    }
  ],
  "metadata": {
    "kernelspec": {
      "display_name": "R",
      "language": "R",
      "name": "ir"
    },
    "language_info": {
      "codemirror_mode": "r",
      "file_extension": ".r",
      "mimetype": "text/x-r-source",
      "name": "R",
      "pygments_lexer": "r",
      "version": "4.5.1"
    }
  },
  "nbformat": 4,
  "nbformat_minor": 5
}
